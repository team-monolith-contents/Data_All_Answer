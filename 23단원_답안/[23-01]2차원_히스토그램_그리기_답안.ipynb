{
 "cells": [
  {
   "cell_type": "markdown",
   "id": "53b3db0e-186d-4546-b1d3-759da4dc9aa5",
   "metadata": {
    "tags": []
   },
   "source": [
    "### **💯 연습문제를 풀어봅시다**\n",
    "\n"
   ]
  },
  {
   "cell_type": "markdown",
   "id": "5c6b62b8-02dd-441e-a9e8-9f6c1150f95f",
   "metadata": {
    "tags": []
   },
   "source": [
    "1. <a class=\"jcecodle-mk jcecodle-mk__problem-chip\" data-problem-id=\"GmFqu50h-Hw\" href='#jce-judge/open/GmFqu50h-Hw' target='_self'><span>히트맵 그리기 - 복권 당첨번호 분포</span></a>\n",
    "2. <a class=\"jcecodle-mk jcecodle-mk__problem-chip\" data-problem-id=\"zdKrsYete5E\" href='#jce-judge/open/zdKrsYete5E' target='_self'><span>히트맵 그리기 - 음식값과 팁 분포</span></a>\n",
    "3. <a class=\"jcecodle-mk jcecodle-mk__problem-chip\" data-problem-id=\"qJYMIbZBFzM\" href='#jce-judge/open/qJYMIbZBFzM' target='_self'><span>히트맵 그리기 - 요일과 팁 분포</span></a>\n",
    "4. <a class=\"jcecodle-mk jcecodle-mk__problem-chip\" data-problem-id=\"hjq3oaZ5oT4\" href='#jce-judge/open/hjq3oaZ5oT4' target='_self'><span>히트맵 그리기 - 비행기 승객 분포</span></a>"
   ]
  },
  {
   "cell_type": "code",
   "execution_count": null,
   "id": "3a6197e3-e8cf-4233-aa84-b782424883c1",
   "metadata": {},
   "outputs": [],
   "source": [
    "# 1. 히트맵 그리기 - 복권 당첨번호 분포\n"
   ]
  },
  {
   "cell_type": "code",
   "execution_count": null,
   "id": "d31fbb88-9f33-4a87-957b-dd03744fd20d",
   "metadata": {},
   "outputs": [],
   "source": [
    "# 2. 히트맵 그리기 - 음식값과 팁 분포\n"
   ]
  },
  {
   "cell_type": "code",
   "execution_count": null,
   "id": "f58b4065-4320-4df1-bf54-dbd9b7864eab",
   "metadata": {},
   "outputs": [],
   "source": [
    "# 3. 히트맵 그리기 - 요일과 팁 분포\n"
   ]
  },
  {
   "cell_type": "code",
   "execution_count": null,
   "id": "d614eeb5-b3b0-4934-a236-863204675100",
   "metadata": {},
   "outputs": [],
   "source": [
    "# 4. 히트맵 그리기 - 비행기 승객 분포\n"
   ]
  }
 ],
 "metadata": {
  "kernelspec": {
   "display_name": "Python 3 (ipykernel)",
   "language": "python",
   "name": "python3"
  },
  "language_info": {
   "codemirror_mode": {
    "name": "ipython",
    "version": 3
   },
   "file_extension": ".py",
   "mimetype": "text/x-python",
   "name": "python",
   "nbconvert_exporter": "python",
   "pygments_lexer": "ipython3",
   "version": "3.8.10"
  }
 },
 "nbformat": 4,
 "nbformat_minor": 5
}
