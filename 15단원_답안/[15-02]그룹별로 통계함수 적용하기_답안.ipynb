{
 "cells": [
  {
   "cell_type": "markdown",
   "id": "67b8a509-7541-4fa1-bd14-46add080eabe",
   "metadata": {},
   "source": [
    "### **💯 연습문제를 풀어봅시다**\n",
    "\n"
   ]
  },
  {
   "cell_type": "markdown",
   "id": "1ad0cd3b-e5e5-40f7-8f07-a0e8f11fe536",
   "metadata": {
    "tags": []
   },
   "source": [
    "1. <a class=\"jcecodle-mk jcecodle-mk__problem-chip\" data-problem-id=\"avwM_OdiVH4\" href='#jce-judge/open/avwM_OdiVH4' target='_self'><span>판다스 - 데이터 그룹 - min/median/max</span></a>\n",
    "1. <a class=\"jcecodle-mk jcecodle-mk__problem-chip\" data-problem-id=\"YicYmkkhgg8\" href='#jce-judge/open/YicYmkkhgg8' target='_self'><span>판다스 - 데이터 그룹 - min, max</span></a>\n",
    "2. <a class=\"jcecodle-mk jcecodle-mk__problem-chip\" data-problem-id=\"gJqxmBB03eE\" href='#jce-judge/open/gJqxmBB03eE' target='_self'><span>카페 정보 중앙값</span></a>\n",
    "3. <a class=\"jcecodle-mk jcecodle-mk__problem-chip\" data-problem-id=\"FE8ax_kDL3E\" href='#jce-judge/open/FE8ax_kDL3E' target='_self'><span>날씨 데이터 min, max, median</span></a>\n",
    "2. <a class=\"jcecodle-mk jcecodle-mk__problem-chip\" data-problem-id=\"C85oubW1UHs\" href='#jce-judge/open/C85oubW1UHs' target='_self'><span>판다스 - 데이터 그룹 - mean/std</span></a>\n",
    "1. <a class=\"jcecodle-mk jcecodle-mk__problem-chip\" data-problem-id=\"S5pt2E2mv-A\" href='#jce-judge/open/S5pt2E2mv-A' target='_self'><span>기온, 습도 평균</span></a>\n",
    "2. <a class=\"jcecodle-mk jcecodle-mk__problem-chip\" data-problem-id=\"SA6R7R1iYh0\" href='#jce-judge/open/SA6R7R1iYh0' target='_self'><span>다이어트 데이터 표준편차</span></a>"
   ]
  },
  {
   "cell_type": "code",
   "execution_count": null,
   "id": "d1e34430-3ac7-4232-b04c-1188fb43aa39",
   "metadata": {},
   "outputs": [],
   "source": [
    "# 1. 판다스 - 데이터 그룹 - min/median/max\n",
    "import pandas as pd\n",
    "df = pd.DataFrame(index=list(range(1, 13)), \n",
    "                            data={'학년':[1, 1, 1, 1, 2, 2, 2, 2, 3, 3, 3, 3],\n",
    "                                  '성별':list(\"남여남여남남여여여남남여\"), \n",
    "                                  '기록':[15, 17, 16, 20, 14, 15, 20, 19, 15, 13, 12, 16]})\n",
    "\n",
    "col=input()\n",
    "print(df.groupby(col).min()['기록'])"
   ]
  },
  {
   "cell_type": "code",
   "execution_count": null,
   "id": "6f71dcd9-3159-4ca2-8a03-8cbf919b3f63",
   "metadata": {},
   "outputs": [],
   "source": [
    "# 2. 판다스 - 데이터 그룹 - min, max\n",
    "import pandas as pd\n",
    "import seaborn as sns\n",
    "df = sns.load_dataset('glue')\n",
    "\n",
    "min_score = df.groupby('Encoder').min()['Score']\n",
    "max_score = df.groupby('Encoder').max()['Score']\n",
    "\n",
    "min_max = pd.DataFrame({'min':df.groupby('Encoder').min()['Score'], \n",
    "                       'max':df.groupby('Encoder').max()['Score']})\n",
    "print(min_max)\n"
   ]
  },
  {
   "cell_type": "code",
   "execution_count": null,
   "id": "7c90fb2e-a571-40e3-8d56-c0269594b7b3",
   "metadata": {},
   "outputs": [],
   "source": [
    "# 3. 카페 정보 중앙값\n",
    "import pandas as pd\n",
    "import random \n",
    "random.seed(10)\n",
    "cafe = pd.DataFrame(index=range(1, 11), \n",
    "                   data = {'가격평균':[random.randrange(3000, 10000, 100) for i in range(10)],\n",
    "                          '음료개수':[random.randint(5, 30) for i in range(10)],\n",
    "                          '자리개수':[random.randint(3, 40) for i in range(10)],\n",
    "                          '디저트 유무': [random.choice(['O', 'X']) for i in range(10)]})\n",
    "\n",
    "print(cafe.groupby('디저트 유무').median())"
   ]
  },
  {
   "cell_type": "code",
   "execution_count": null,
   "id": "f8b576e5-7f18-486e-bb8f-cb7e36f3f3bd",
   "metadata": {},
   "outputs": [],
   "source": [
    "# 4. 날씨 데이터 min/max/median\n",
    "import pandas as pd\n",
    "import random\n",
    "random.seed(20)\n",
    "weather = pd.DataFrame(index=range(1, 31), \n",
    "                      data = {'습도':[random.randint(50, 90) for i in range(30)],\n",
    "                             '기온':[random.randint(-8, 10) for i in range(30)],\n",
    "                             '미세먼지':[random.choice(['좋음', '보통', '나쁨', '매우나쁨']) for i in range(30)]})\n",
    "\n",
    "w_min = weather.groupby('미세먼지').min()\n",
    "w_max = weather.groupby('미세먼지').max()\n",
    "w_medi = weather.groupby('미세먼지').median()\n",
    "\n",
    "df = pd.concat([w_min, w_max, w_medi], axis=1)\n",
    "print(df)"
   ]
  },
  {
   "cell_type": "code",
   "execution_count": null,
   "id": "b76b416f-7b2e-49df-83b6-6c9325944e9c",
   "metadata": {},
   "outputs": [],
   "source": [
    "# 5. 판다스 - 데이터 그룹 - mean/std\n",
    "import pandas as pd\n",
    "df = pd.DataFrame(index=list(range(1, 13)), \n",
    "                            data={'학년':[1, 1, 1, 1, 2, 2, 2, 2, 3, 3, 3, 3],\n",
    "                                  '성별':list(\"남여남여남남여여여남남여\"), \n",
    "                                  '기록':[15, 17, 16, 20, 14, 15, 20, 19, 15, 13, 12, 16]})\n",
    "\n",
    "col=input()\n",
    "record = pd.DataFrame({'평균':df.groupby(col).mean()['기록'], '표준편차':df.groupby(col).std()['기록']})\n",
    "print(record)\n"
   ]
  },
  {
   "cell_type": "code",
   "execution_count": null,
   "id": "3505791a-6fcc-467b-94f6-52085a1c7671",
   "metadata": {},
   "outputs": [],
   "source": [
    "# 6. 기온, 습도 평균\n",
    "import pandas as pd\n",
    "import random\n",
    "random.seed(10)\n",
    "weather = pd.DataFrame(index=range(1, 31), \n",
    "                      data = {'습도':[random.randint(50, 90) for i in range(30)],\n",
    "                             '기온':[random.randint(-8, 10) for i in range(30)],\n",
    "                             '미세먼지':[random.choice(['좋음', '보통', '나쁨', '매우나쁨']) for i in range(30)]})\n",
    "\n",
    "\n",
    "print(weather.groupby('미세먼지').get_group('좋음').mean())"
   ]
  },
  {
   "cell_type": "code",
   "execution_count": null,
   "id": "a4eaac2a-975e-4ed9-9243-70a4e6e9331b",
   "metadata": {},
   "outputs": [],
   "source": [
    "# 7. 다이어트 데이터 표준편차\n",
    "import pandas as pd\n",
    "import random\n",
    "random.seed(20)\n",
    "diet = pd.DataFrame(index=range(1, 31), \n",
    "                      data = {'섭취 열량':[random.randrange(2000, 3500, 100) for i in range(30)],\n",
    "                             '소비 열량':[random.randrange(2500, 2800, 100) for i in range(30)],\n",
    "                             '교통수단':[random.choice(['택시', '버스']) for i in range(30)]})\n",
    "\n",
    "print(diet.groupby('교통수단').std().round(2))"
   ]
  }
 ],
 "metadata": {
  "kernelspec": {
   "display_name": "Python 3 (ipykernel)",
   "language": "python",
   "name": "python3"
  },
  "language_info": {
   "codemirror_mode": {
    "name": "ipython",
    "version": 3
   },
   "file_extension": ".py",
   "mimetype": "text/x-python",
   "name": "python",
   "nbconvert_exporter": "python",
   "pygments_lexer": "ipython3",
   "version": "3.10.10"
  }
 },
 "nbformat": 4,
 "nbformat_minor": 5
}
