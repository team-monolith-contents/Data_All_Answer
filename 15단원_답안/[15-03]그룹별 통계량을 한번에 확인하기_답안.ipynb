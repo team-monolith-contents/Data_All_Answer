{
 "cells": [
  {
   "cell_type": "markdown",
   "id": "0790bed0-9914-4275-aba6-9fda033ca32a",
   "metadata": {},
   "source": [
    "### **💯 연습문제를 풀어봅시다**\n",
    "\n"
   ]
  },
  {
   "cell_type": "markdown",
   "id": "f06bbb29-9b91-4ea9-94d0-f494cf515fac",
   "metadata": {
    "tags": []
   },
   "source": [
    "1. <a class=\"jcecodle-mk jcecodle-mk__problem-chip\" data-problem-id=\"qw22bqe0uf4\" href='#jce-judge/open/qw22bqe0uf4' target='_self'><span>판다스 - 데이터 그룹 - describe</span></a>\n",
    "2. <a class=\"jcecodle-mk jcecodle-mk__problem-chip\" data-problem-id=\"So_m24VWMOs\" href='#jce-judge/open/So_m24VWMOs' target='_self'><span>판다스 - 데이터 그룹 - describe (2)</span></a>\n"
   ]
  },
  {
   "cell_type": "code",
   "execution_count": null,
   "id": "0705753d-96f2-44b5-9e10-fecadfc69fc5",
   "metadata": {},
   "outputs": [],
   "source": [
    "# 1. 판다스 - 데이터 그룹 - describe\n",
    "import pandas as pd\n",
    "df = pd.DataFrame(index=list(range(1, 13)), \n",
    "                            data={'학년':[1, 1, 1, 1, 2, 2, 2, 2, 3, 3, 3, 3],\n",
    "                                  '성별':list(\"남여남여남남여여여남남여\"), \n",
    "                                  '기록':[15, 17, 16, 20, 14, 15, 20, 19, 15, 13, 12, 16]})\n",
    "\n",
    "\n",
    "col = input()\n",
    "print(df.groupby(col).describe()['기록'])"
   ]
  },
  {
   "cell_type": "code",
   "execution_count": null,
   "id": "ca50abd0-675e-421f-9c7d-821c1827d152",
   "metadata": {},
   "outputs": [],
   "source": [
    "# 2. 판다스 - 데이터 그룹 - describe (2)\n",
    "import pandas as pd\n",
    "import seaborn as sns\n",
    "df = sns.load_dataset('diamonds')\n",
    "df.drop(['carat', 'color', 'clarity', 'depth'], axis=1, inplace=True)\n",
    "\n",
    "print(df.groupby('cut').get_group('Ideal').describe().round(1))"
   ]
  }
 ],
 "metadata": {
  "kernelspec": {
   "display_name": "Python 3 (ipykernel)",
   "language": "python",
   "name": "python3"
  },
  "language_info": {
   "codemirror_mode": {
    "name": "ipython",
    "version": 3
   },
   "file_extension": ".py",
   "mimetype": "text/x-python",
   "name": "python",
   "nbconvert_exporter": "python",
   "pygments_lexer": "ipython3",
   "version": "3.10.10"
  }
 },
 "nbformat": 4,
 "nbformat_minor": 5
}
