{
 "cells": [
  {
   "cell_type": "markdown",
   "id": "26f36b08-a173-4ada-8a87-dbc4c0ee0984",
   "metadata": {},
   "source": [
    "### **💯 연습문제를 풀어봅시다**\n",
    "\n"
   ]
  },
  {
   "cell_type": "markdown",
   "id": "a5e82e78-de32-4f45-bce6-a380a7eeae3e",
   "metadata": {
    "tags": []
   },
   "source": [
    "1. <a class=\"jcecodle-mk jcecodle-mk__problem-chip\" data-problem-id=\"A_cZFNLXp2g\" href='#jce-judge/open/A_cZFNLXp2g' target='_self'><span>판다스 연습 1 - 고유값 확인하기</span></a>\n",
    "1. <a class=\"jcecodle-mk jcecodle-mk__problem-chip\" data-problem-id=\"eCJG9W11jwo\" href='#jce-judge/open/eCJG9W11jwo' target='_self'><span>판다스 연습 - 고유값 확인하기 (2)</span></a>\n",
    "2. <a class=\"jcecodle-mk jcecodle-mk__problem-chip\" data-problem-id=\"6JfDhokaDD8\" href='#jce-judge/open/6JfDhokaDD8' target='_self'><span>판다스 연습 - 고유값 확인하기 (3)</span></a>\n",
    "2. <a class=\"jcecodle-mk jcecodle-mk__problem-chip\" data-problem-id=\"W1lO3m8jNCA\" href='#jce-judge/open/W1lO3m8jNCA' target='_self'><span>판다스 - 데이터 그룹 - 출력하기</span></a>\n",
    "1. <a class=\"jcecodle-mk jcecodle-mk__problem-chip\" data-problem-id=\"XY8NiTglyiU\" href='#jce-judge/open/XY8NiTglyiU' target='_self'><span>판다스 - 데이터 그룹 - 출력하기 (2)</span></a>\n",
    "2. <a class=\"jcecodle-mk jcecodle-mk__problem-chip\" data-problem-id=\"hj-qreiT6CQ\" href='#jce-judge/open/hj-qreiT6CQ' target='_self'><span>가족 인적사항 그룹핑</span></a>"
   ]
  },
  {
   "cell_type": "code",
   "execution_count": null,
   "id": "ee5ceafd-51ec-468d-af7c-e6895e813e93",
   "metadata": {},
   "outputs": [],
   "source": [
    "# 1. 판다스 연습 1 - 고유값 확인하기\n",
    "import pandas as pd\n",
    "data = {\"fruit\": [\"banana\", \"tangerine\", \"apple\", \"banana\", \"tangerine\", \"grape\", \"grape\"]}\n",
    "\n",
    "df = pd.DataFrame(data)\n",
    "\n",
    "print(df.fruit.unique())"
   ]
  },
  {
   "cell_type": "code",
   "execution_count": null,
   "id": "30f43652-52a4-42bb-aabc-3d90ddf36752",
   "metadata": {},
   "outputs": [],
   "source": [
    "# 2. 판다스 연습 1 - 고유값 확인하기 (2)\n",
    "import pandas as pd\n",
    "import seaborn as sns\n",
    "df = sns.load_dataset('penguins')\n",
    "\n",
    "print(df.species.unique())"
   ]
  },
  {
   "cell_type": "code",
   "execution_count": null,
   "id": "cd685888-bb89-407c-84fa-6b4e3dae1908",
   "metadata": {},
   "outputs": [],
   "source": [
    "# 3. 판다스 연습 1 - 고유값 확인하기 (3)\n",
    "import pandas as pd\n",
    "ser = pd.Series(data=['대학생', '중학생', '고등학생', '초등학생', '고등학생', '고등학생', '중학생', '대학생'],\n",
    "               index=['갑', '을', '병', '정', '무', '기', '경', '신'])\n",
    "\n",
    "print(ser.unique())"
   ]
  },
  {
   "cell_type": "code",
   "execution_count": null,
   "id": "7e37698b-24f9-4c7a-8a52-0233d6bfadf2",
   "metadata": {},
   "outputs": [],
   "source": [
    "# 4. 판다스 - 데이터 그룹 - 출력하기\n",
    "import pandas as pd\n",
    "df = pd.DataFrame(index=list(range(1, 13)), \n",
    "                            data={'학년':[1, 1, 1, 1, 2, 2, 2, 2, 3, 3, 3, 3],\n",
    "                                  '성별':list(\"남여남여남남여여여남남여\"), \n",
    "                                  '기록':[15, 17, 16, 20, 14, 15, 20, 19, 15, 13, 12, 16]})\n",
    "grade = int(input())\n",
    "print(df.groupby('학년').get_group(grade))"
   ]
  },
  {
   "cell_type": "code",
   "execution_count": null,
   "id": "62e58eb7-0a2a-4de2-93c2-20a84594ecad",
   "metadata": {},
   "outputs": [],
   "source": [
    "# 5. 판다스 - 데이터 그룹 - 출력하기 (2)\n",
    "import pandas as pd\n",
    "import seaborn as sns\n",
    "df = sns.load_dataset('exercise')[:30]\n",
    "\n",
    "print(df.groupby('time').get_group('1 min'))"
   ]
  },
  {
   "cell_type": "code",
   "execution_count": null,
   "id": "e221ca8c-1d67-4454-a55d-92b58c1e1158",
   "metadata": {},
   "outputs": [],
   "source": [
    "# 6. 가족 인적사항 그룹핑\n",
    "import pandas as pd\n",
    "idx = ['할아버지', '할머니', '엄마', '아빠', '언니', '나', '남동생']\n",
    "data = {'나이':[90, 88, 50, 50, 26, 18, 16],\n",
    "       '키':[190, 150, 160, 179, 160, 165, 155],\n",
    "       '몸무게':[90, 45, 50, 80, 48, 52, 42],\n",
    "       '직업':['교사', '은행원', '사무직', '변호사', '대학생', '고등학생', '중학생'],\n",
    "       '성별':['남', '여', '여', '남', '여', '여', '남']}\n",
    "family = pd.DataFrame(index=idx, data=data)\n",
    "\n",
    "print(family.groupby('성별').get_group('여'))"
   ]
  }
 ],
 "metadata": {
  "kernelspec": {
   "display_name": "Python 3 (ipykernel)",
   "language": "python",
   "name": "python3"
  },
  "language_info": {
   "codemirror_mode": {
    "name": "ipython",
    "version": 3
   },
   "file_extension": ".py",
   "mimetype": "text/x-python",
   "name": "python",
   "nbconvert_exporter": "python",
   "pygments_lexer": "ipython3",
   "version": "3.10.10"
  }
 },
 "nbformat": 4,
 "nbformat_minor": 5
}
