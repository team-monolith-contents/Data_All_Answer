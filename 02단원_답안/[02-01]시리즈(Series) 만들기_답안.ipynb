{
 "cells": [
  {
   "cell_type": "markdown",
   "id": "22f48678-b3e6-4822-80b7-e98c0c214d97",
   "metadata": {},
   "source": [
    "### **💯 연습문제를 풀어봅시다**\n",
    "\n",
    "1. <a class=\"jcecodle-mk jcecodle-mk__problem-chip\" data-problem-id=\"CrwnIWE7d1E\" href='#jce-judge/open/CrwnIWE7d1E' target='_self'><span>판다스 기초 - 시리즈 만들기 (1)</span></a>\n",
    "\n",
    "2. <a class=\"jcecodle-mk jcecodle-mk__problem-chip\" data-problem-id=\"84ASSq3j5vw\" href='#jce-judge/open/84ASSq3j5vw' target='_self'><span>판다스 기초 - 시리즈 만들기 (2)</span></a>\n",
    "\n",
    "3. <a class=\"jcecodle-mk jcecodle-mk__problem-chip\" data-problem-id=\"85s1anMGz4o\" href='#jce-judge/open/85s1anMGz4o' target='_self'><span>판다스 기초 - 시리즈 만들기 (3)</span></a>\n",
    "\n",
    "4. <a class=\"jcecodle-mk jcecodle-mk__problem-chip\" data-problem-id=\"q6IFlnD9qnI\" href='#jce-judge/open/q6IFlnD9qnI' target='_self'><span>판다스 기초 - 시리즈 만들기 (4)</span></a>\n",
    "\n",
    "5. <a class=\"jcecodle-mk jcecodle-mk__problem-chip\" data-problem-id=\"TDAycODI5Ms\" href='#jce-judge/open/TDAycODI5Ms' target='_self'><span>판다스 기초 - 시리즈 이름 설정</span></a>\n",
    "\n",
    "6. <a class=\"jcecodle-mk jcecodle-mk__problem-chip\" data-problem-id=\"CIjtA1UO4P0\" href='#jce-judge/open/CIjtA1UO4P0' target='_self'><span>판다스 기초 - 아이돌과 노래</span></a>\n",
    "\n",
    "7. <a class=\"jcecodle-mk jcecodle-mk__problem-chip\" data-problem-id=\"XafKcm_cCbg\" href='#jce-judge/open/XafKcm_cCbg' target='_self'><span>판다스 기초 - MBTI시리즈</span></a>\n",
    "\n",
    "8. <a class=\"jcecodle-mk jcecodle-mk__problem-chip\" data-problem-id=\"l704ja9Qjcw\" href='#jce-judge/open/l704ja9Qjcw' target='_self'><span>판다스 기초 - 과일 시리즈</span></a>\n",
    "\n",
    "\n"
   ]
  },
  {
   "cell_type": "code",
   "execution_count": null,
   "id": "a5b706dd-454c-4c0a-919c-b2e854e667bb",
   "metadata": {},
   "outputs": [],
   "source": [
    "# 1. 판다스 기초 - 시리즈 만들기 (1)\n",
    "import pandas as pd\n",
    "a = list(map(int, input().split()))\n",
    "ser = pd.Series(a)\n",
    "\n",
    "print(ser)"
   ]
  },
  {
   "cell_type": "code",
   "execution_count": null,
   "id": "f609ed44-6b14-45b4-bd1a-e479e3c75341",
   "metadata": {},
   "outputs": [],
   "source": [
    "# 2. 판다스 기초 - 시리즈 만들기 (2)\n",
    "import pandas as pd\n",
    "idx = list(input().split())\n",
    "items = list(map(int, input().split()))\n",
    "ser = pd.Series(index=idx, data=items)\n",
    "\n",
    "print(ser)"
   ]
  },
  {
   "cell_type": "code",
   "execution_count": null,
   "id": "e8e76af5-91c2-4c50-adae-a57b9faf11e7",
   "metadata": {},
   "outputs": [],
   "source": [
    "# 3. 판다스 기초 - 시리즈 만들기 (3)"
   ]
  },
  {
   "cell_type": "code",
   "execution_count": null,
   "id": "eb4b37da-d7f1-43d6-9fd9-fdd4835f22ee",
   "metadata": {},
   "outputs": [],
   "source": [
    "# 4. 판다스 기초 - 시리즈 만들기 (4)\n",
    "import pandas as pd\n",
    "\n",
    "items = []\n",
    "for i in range(4):\n",
    "    items.append(input())\n",
    "    \n",
    "ser_name = input()\n",
    "\n",
    "myIndex = [\"이름\", \"나이\", \"취미\", \"꿈\"]\n",
    "mySeries = pd.Series(index=myIndex, data = items, name = ser_name) \n",
    "print(mySeries)"
   ]
  },
  {
   "cell_type": "code",
   "execution_count": null,
   "id": "8e4bd4d1-861b-4269-8d77-c881909aaa5b",
   "metadata": {},
   "outputs": [],
   "source": [
    "# 5. 판다스 기초 - 시리즈 이름 설정\n",
    "import pandas as pd\n",
    "name = input()\n",
    "dict = {'i1':'apple', 'i2':'banana', 'i3':'cherry', 'i4':'durian'}\n",
    "ser = pd.Series(dict, name=name)\n",
    "print(ser)"
   ]
  },
  {
   "cell_type": "code",
   "execution_count": null,
   "id": "1067e738-8ebd-4c67-9f6e-af4552fb1365",
   "metadata": {},
   "outputs": [],
   "source": [
    "# 6. 판다스 기초 - 아이돌과 노래\n",
    "import pandas as pd\n",
    "idols = ['에스파', '세븐틴', '엔시티127', '블랙핑크', '뉴진스']\n",
    "songs = ['블랙맘바', 'HOT', 'Back2U', 'Typa girl', 'OMG']\n",
    "\n",
    "ser = pd.Series(index=idols, data=songs)\n",
    "print(ser)"
   ]
  },
  {
   "cell_type": "code",
   "execution_count": null,
   "id": "7dcb724d-0ebc-4ba1-9e2a-10302cf6d377",
   "metadata": {},
   "outputs": [],
   "source": [
    "# 7. 판다스 기초 - MBTI시리즈\n",
    "import pandas as pd\n",
    "ei = input()\n",
    "sn = input()\n",
    "tf = input()\n",
    "jp = input()\n",
    "MBTI = {'에너지 방향':ei,'인식방식':sn, '판단':tf, '생활양식':jp}\n",
    "\n",
    "ser = pd.Series(MBTI)\n",
    "print(MBTI)\n",
    "print(ser)"
   ]
  },
  {
   "cell_type": "code",
   "execution_count": null,
   "id": "b224072b-1cb8-41bf-851f-b7a3cb7a6340",
   "metadata": {},
   "outputs": [],
   "source": [
    "# 8. 판다스 기초 - 과일 시리즈 \n",
    "import pandas as pd\n",
    "a = input().split()\n",
    "df = pd.Series(a)\n",
    "\n",
    "print(df)"
   ]
  }
 ],
 "metadata": {
  "kernelspec": {
   "display_name": "Python 3 (ipykernel)",
   "language": "python",
   "name": "python3"
  },
  "language_info": {
   "codemirror_mode": {
    "name": "ipython",
    "version": 3
   },
   "file_extension": ".py",
   "mimetype": "text/x-python",
   "name": "python",
   "nbconvert_exporter": "python",
   "pygments_lexer": "ipython3",
   "version": "3.10.10"
  }
 },
 "nbformat": 4,
 "nbformat_minor": 5
}
