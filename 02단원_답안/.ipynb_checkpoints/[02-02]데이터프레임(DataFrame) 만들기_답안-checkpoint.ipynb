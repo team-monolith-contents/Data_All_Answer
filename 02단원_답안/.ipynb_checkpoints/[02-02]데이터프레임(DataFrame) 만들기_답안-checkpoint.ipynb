{
 "cells": [
  {
   "cell_type": "markdown",
   "id": "c748332e-fe40-4ee6-940d-502aefc6cf5d",
   "metadata": {},
   "source": [
    "### **💯 연습문제를 풀어봅시다**\n",
    "\n",
    "1. <a class=\"jcecodle-mk jcecodle-mk__problem-chip\" data-problem-id=\"Xh1DevGAlLw\" href='#jce-judge/open/Xh1DevGAlLw' target='_self'><span>판다스 기초 - 데이터프레임 만들기 (1)</span></a>\n",
    "2. <a class=\"jcecodle-mk jcecodle-mk__problem-chip\" data-problem-id=\"ADYF5AHX8GM\" href='#jce-judge/open/ADYF5AHX8GM' target='_self'><span>판다스 기초 - 데이터프레임 만들기 (2)</span></a>\n",
    "3. <a class=\"jcecodle-mk jcecodle-mk__problem-chip\" data-problem-id=\"Izw6Imoo8sw\" href='#jce-judge/open/Izw6Imoo8sw' target='_self'><span>판다스 기초 - 데이터 프레임 만들기 (3)</span></a>\n",
    "4. <a class=\"jcecodle-mk jcecodle-mk__problem-chip\" data-problem-id=\"aq6ucbLA_y4\" href='#jce-judge/open/aq6ucbLA_y4' target='_self'><span>판다스 기초 - 데이터프레임 만들기 (4) </span></a>\n",
    "\n",
    "5. <a class=\"jcecodle-mk jcecodle-mk__problem-chip\" data-problem-id=\"vpBef1UIrLw\" href='#jce-judge/open/vpBef1UIrLw' target='_self'><span>판다스 기초 - column 설정</span></a>\n",
    "\n",
    "\n",
    "6. <a class=\"jcecodle-mk jcecodle-mk__problem-chip\" data-problem-id=\"6Xpf_-O94p8\" href='#jce-judge/open/6Xpf_-O94p8' target='_self'><span>학교급 정리</span></a>\n",
    "\n",
    "7. <a class=\"jcecodle-mk jcecodle-mk__problem-chip\" data-problem-id=\"dvSyyHJ5xVg\" href='#jce-judge/open/dvSyyHJ5xVg' target='_self'><span>1차원 리스트와 데이터 프레임</span></a>\n",
    "\n",
    "8. <a class=\"jcecodle-mk jcecodle-mk__problem-chip\" data-problem-id=\"dOs6vElAXPI\" href='#jce-judge/open/dOs6vElAXPI' target='_self'><span>2차원 리스트와 데이터 프레임</span></a>\n",
    "\n",
    "9. <a class=\"jcecodle-mk jcecodle-mk__problem-chip\" data-problem-id=\"5QU23_sl_qE\" href='#jce-judge/open/5QU23_sl_qE' target='_self'><span>중첩 딕셔너리와 데이터 프레임</span></a>\n"
   ]
  },
  {
   "cell_type": "code",
   "execution_count": null,
   "id": "3d378ead-bbd9-47bc-9ab3-e8a769a0b421",
   "metadata": {},
   "outputs": [],
   "source": [
    "# 1. 판다스 기초 - 데이터 프레임 (1)\n",
    "import pandas as pd\n",
    "zeroList = [[0, 0, 0, 0], [0, 0, 0, 0], [0, 0, 0, 0], [0, 0, 0, 0], [0, 0, 0, 0]]\n",
    "df = pd.DataFrame(zeroList)\n",
    "print(df)"
   ]
  },
  {
   "cell_type": "code",
   "execution_count": null,
   "id": "c591d7e9-826a-4763-bc6d-5284a84d360b",
   "metadata": {},
   "outputs": [],
   "source": [
    "# 2. 판다스 기초 - 데이터 프레임 (2)\n",
    "import pandas as pd\n",
    "icecream = []\n",
    "for i in range(3):\n",
    "    icecream.append(input().split())\n",
    "    \n",
    "df = pd.DataFrame(icecream)\n",
    "print(df)"
   ]
  },
  {
   "cell_type": "code",
   "execution_count": null,
   "id": "ce602291-e531-42fa-b703-bd4ff30d238e",
   "metadata": {},
   "outputs": [],
   "source": [
    "# 3. 판다스 기초 - 데이터 프레임 만들기 (3)\n",
    "import pandas as pd\n",
    "icecream = [[\"망고\", \"초코\", \"딸기\"],\n",
    "            [\"초코볼\", \"시럽\", \"웨하스\"],\n",
    "            [\"콘\", \"컵\", \"콘\"]]\n",
    "\n",
    "df = pd.DataFrame(data = icecream,\n",
    "                  index = ['맛', '토핑', '담는 방법'],\n",
    "                 columns = ['철수', '영희', '민식'])\n",
    "\n",
    "print(df)"
   ]
  },
  {
   "cell_type": "code",
   "execution_count": null,
   "id": "a43d35d0-3ed2-4cfb-a90b-8e763b1fd959",
   "metadata": {},
   "outputs": [],
   "source": [
    "# 4. 판다스 기초 - 데이터프레임 만들기 (4)\n",
    "import pandas as pd\n",
    "items = {'사과':{'개수':5, '예산':10000}, \n",
    "        '오이':{'개수':3, '예산':2000}, \n",
    "        '포도':{'개수':4, '예산':10000}}\n",
    "df = pd.DataFrame(items)\n",
    "print(df)"
   ]
  },
  {
   "cell_type": "code",
   "execution_count": null,
   "id": "2280418e-8856-447e-bd26-60eb308b2aa0",
   "metadata": {},
   "outputs": [],
   "source": [
    "# 5. 판다스 기초 - column설정\n",
    "import pandas as pd\n",
    "a = [[1, 2, 3], ['a', 'b', 'c'], ['ㄱ', 'ㄴ', 'ㄷ']]\n",
    "keys = input().split()\n",
    "df = pd.DataFrame(a, columns = keys)\n",
    "print(df)"
   ]
  },
  {
   "cell_type": "code",
   "execution_count": null,
   "id": "23a18d29-f522-414e-840a-288226014281",
   "metadata": {},
   "outputs": [],
   "source": [
    "# 6. 학교급 정리\n",
    "import pandas as pd\n",
    "level = ['초등', '중등', '고등']\n",
    "info = ['학년', '의무/선택', '수업시간']\n",
    "data = [[6, 'O', '40분'], [3, 'O', '45분'], [3, 'X', '50분']]\n",
    "df = pd.DataFrame(data=data, index = info, columns = level)\n",
    "print(df)"
   ]
  },
  {
   "cell_type": "code",
   "execution_count": null,
   "id": "6b0bbb22-9ec4-46f3-a2ae-8096b5aa19da",
   "metadata": {},
   "outputs": [],
   "source": [
    "# 7. 1차원 리스트와 데이터 프레임\n",
    "import pandas as pd\n",
    "data = ['a', 'b', 'c', 'd']\n",
    "df = pd.DataFrame(data)\n",
    "print(df)"
   ]
  },
  {
   "cell_type": "code",
   "execution_count": null,
   "id": "f1be4e18-2e5f-4b9c-b0ba-6bb7c09367cc",
   "metadata": {},
   "outputs": [],
   "source": [
    "# 8. 2차원 리스트와 데이터 프레임\n",
    "import pandas as pd\n",
    "oned_list = ['a', 'b', 'c', 'd']\n",
    "df = pd.DataFrame([oned_list])\n",
    "print(df)"
   ]
  },
  {
   "cell_type": "code",
   "execution_count": null,
   "id": "a5447a55-05f7-4717-9cdd-0240baa2e048",
   "metadata": {},
   "outputs": [],
   "source": [
    "# 9. 중첩 딕셔너리와 데이터 프레임\n",
    "import pandas as pd\n",
    "\n",
    "friends = {'철수': {'키':180, '몸무게':80}, \n",
    "        '영희': {'키':160, '몸무게':50}, \n",
    "        '형준': {'키':175, '몸무게':70}}\n",
    "df = pd.DataFrame(friends)\n",
    "print(df)"
   ]
  }
 ],
 "metadata": {
  "kernelspec": {
   "display_name": "Python 3 (ipykernel)",
   "language": "python",
   "name": "python3"
  },
  "language_info": {
   "codemirror_mode": {
    "name": "ipython",
    "version": 3
   },
   "file_extension": ".py",
   "mimetype": "text/x-python",
   "name": "python",
   "nbconvert_exporter": "python",
   "pygments_lexer": "ipython3",
   "version": "3.8.10"
  }
 },
 "nbformat": 4,
 "nbformat_minor": 5
}
