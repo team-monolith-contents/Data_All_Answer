{
 "cells": [
  {
   "cell_type": "markdown",
   "id": "548a5867-64e4-4c85-bf3d-11800513e2a3",
   "metadata": {},
   "source": [
    "\n",
    "<a class=\"jcecodle-mk jcecodle-mk__problem-chip\" data-problem-id=\"Mq_jZeJj-H4\" href='#jce-judge/open/Mq_jZeJj-H4' target='_self'><span>판다스 - 데이터 연산 프로젝트 - 문제1</span></a>\n"
   ]
  },
  {
   "cell_type": "markdown",
   "id": "25e9fb2c-c728-40a1-a87f-1994ca289328",
   "metadata": {},
   "source": [
    "<a class=\"jcecodle-mk jcecodle-mk__problem-chip\" data-problem-id=\"sy9wBwsfMtk\" href='#jce-judge/open/sy9wBwsfMtk' target='_self'><span>판다스 - 데이터 연산 프로젝트 - 문제2</span></a>\n",
    "\n",
    "<a class=\"jcecodle-mk jcecodle-mk__problem-chip\" data-problem-id=\"xPzClFT4eW4\" href='#jce-judge/open/xPzClFT4eW4' target='_self'><span>판다스 - 데이터 연산 프로젝트 - 문제3</span></a>\n",
    "\n"
   ]
  },
  {
   "cell_type": "markdown",
   "id": "3b239bf8-622c-4d78-92f4-17b7f4bf97ac",
   "metadata": {},
   "source": [
    "\n",
    "<a class=\"jcecodle-mk jcecodle-mk__problem-chip\" data-problem-id=\"Kycmu_EgmN4\" href='#jce-judge/open/Kycmu_EgmN4' target='_self'><span>판다스 - 데이터 연산 프로젝트 - 문제4</span></a>\n"
   ]
  },
  {
   "cell_type": "markdown",
   "id": "1bd8cd6d-b6d6-40da-be00-fcd9994d7b77",
   "metadata": {},
   "source": [
    "\n",
    "<a class=\"jcecodle-mk jcecodle-mk__problem-chip\" data-problem-id=\"9RLdHfD8TLs\" href='#jce-judge/open/9RLdHfD8TLs' target='_self'><span>판다스 - 데이터 연산 프로젝트 - 문제5</span></a>\n"
   ]
  },
  {
   "cell_type": "markdown",
   "id": "0eafd2b1-27aa-41fb-a4fd-f946409881e4",
   "metadata": {},
   "source": [
    "\n",
    "<a class=\"jcecodle-mk jcecodle-mk__problem-chip\" data-problem-id=\"38ET6psis_8\" href='#jce-judge/open/38ET6psis_8' target='_self'><span>판다스 - 데이터 연산 프로젝트 - 문제6</span></a>\n"
   ]
  },
  {
   "cell_type": "code",
   "execution_count": null,
   "id": "14769ab2-8556-4065-847e-6f1ed9c3332a",
   "metadata": {},
   "outputs": [],
   "source": [
    "# 문제 1\n",
    "import pandas as pd\n",
    "import io\n",
    "import requests\n",
    "url=\"https://tmn-bucket-materials-all.s3.ap-northeast-2.amazonaws.com/data/%EA%B0%80%EA%B2%A9%ED%91%9C.csv\"\n",
    "s=requests.get(url).content\n",
    "\n",
    "# 가격표 데이터\n",
    "df=pd.read_csv(io.StringIO(s.decode('utf-8')))\n",
    "\n",
    "########## 여기에 코딩해주세요. ##########\n",
    "\n",
    "df.head()\n",
    "\n",
    "########################################"
   ]
  },
  {
   "cell_type": "code",
   "execution_count": null,
   "id": "c948b04e-ba4a-40d7-bcb2-d71db82edf9e",
   "metadata": {},
   "outputs": [],
   "source": [
    "# 문제 2\n",
    "import pandas as pd\n",
    "import io\n",
    "import requests\n",
    "url=\"https://tmn-bucket-materials-all.s3.ap-northeast-2.amazonaws.com/data/%EA%B0%80%EA%B2%A9%ED%91%9C.csv\"\n",
    "s=requests.get(url).content\n",
    "\n",
    "# 가격표 데이터\n",
    "df=pd.read_csv(io.StringIO(s.decode('utf-8')))\n",
    "\n",
    "########## 여기에 코딩해주세요. ##########\n",
    "\n",
    "품목할인계획 = {'쇠고기': 5, '돼지고기': 5, '조제분유': 10}\n",
    "품목할인율 = pd.Series(품목할인계획)\n",
    "\n",
    "for 품목 in 품목할인율.index:\n",
    "    품목_제품_index = (df.품목 == 품목)\n",
    "    df.loc[품목_제품_index, '할인가격'] = round(df.loc[품목_제품_index, \"가격\"] * (100 - 품목할인율[품목]) / 100, -1)\n",
    "\n",
    "print(df.loc[df.품목.isin([\"쇠고기\", \"돼지고기\", \"조제분유\"])])\n",
    "\n",
    "########################################\n"
   ]
  },
  {
   "cell_type": "code",
   "execution_count": null,
   "id": "8e5627f3-755a-4d09-9d1b-8877378c572a",
   "metadata": {},
   "outputs": [],
   "source": [
    "# 문제 3\n",
    "import pandas as pd\n",
    "import io\n",
    "import requests\n",
    "url=\"https://tmn-bucket-materials-all.s3.ap-northeast-2.amazonaws.com/data/%EA%B0%80%EA%B2%A9%ED%91%9C.csv\"\n",
    "s=requests.get(url).content\n",
    "\n",
    "# 가격표 데이터\n",
    "df=pd.read_csv(io.StringIO(s.decode('utf-8')))\n",
    "\n",
    "########## 여기에 코딩해주세요. ##########\n",
    "\n",
    "품목할인계획 = {'세숫비누': 5, '손세정제': 5, '샴푸': 5, '치약': 5}\n",
    "품목할인율 = pd.Series(품목할인계획)\n",
    "\n",
    "for 품목 in 품목할인율.index:\n",
    "    품목_제품_index = (df.품목 == 품목)\n",
    "    df.loc[품목_제품_index, '할인가격'] = round(df.loc[품목_제품_index, \"가격\"] * (100 - 품목할인율[품목]) / 100, -1)\n",
    "\n",
    "print(df.loc[df.품목.isin(['세숫비누', '손세정제', '샴푸', '치약'])])\n",
    "\n",
    "########################################"
   ]
  },
  {
   "cell_type": "code",
   "execution_count": null,
   "id": "e8b8656c-1957-4e2f-b845-309e7542cee2",
   "metadata": {},
   "outputs": [],
   "source": [
    "# 문제 4\n",
    "import pandas as pd\n",
    "import io\n",
    "import requests\n",
    "url=\"https://tmn-bucket-materials-all.s3.ap-northeast-2.amazonaws.com/data/%EA%B0%80%EA%B2%A9%ED%91%9C.csv\"\n",
    "s=requests.get(url).content\n",
    "\n",
    "# 가격표 데이터\n",
    "df=pd.read_csv(io.StringIO(s.decode('utf-8')))\n",
    "\n",
    "########## 여기에 코딩해주세요. ##########\n",
    "\n",
    "ser = pd.Series(data=None)\n",
    "df[\"할인가격\"] = ser\n",
    "\n",
    "for 상품 in df.loc[df.품목==\"우유\"].index:\n",
    "    상품데이터 = df.loc[[상품]]\n",
    "    새상품데이터 = 상품데이터.copy()\n",
    "    새상품데이터.스펙 = 상품데이터.스펙 + 'x2'\n",
    "    새상품데이터.가격 = 상품데이터.가격 * 2\n",
    "    새상품데이터.할인가격 = round(새상품데이터.가격 * (100 - 10) / 100, -1)\n",
    "    df = pd.concat([df, 새상품데이터], ignore_index=True)\n",
    "    \n",
    "print(df.loc[df.품목==\"우유\"])\n",
    "\n",
    "########################################"
   ]
  },
  {
   "cell_type": "code",
   "execution_count": null,
   "id": "f996c645-bff1-45f6-9adb-8ea67c6f5f8f",
   "metadata": {},
   "outputs": [],
   "source": [
    "# 문제 5\n",
    "import pandas as pd\n",
    "import io\n",
    "import requests\n",
    "url=\"https://tmn-bucket-materials-all.s3.ap-northeast-2.amazonaws.com/data/%EA%B0%80%EA%B2%A9%ED%91%9C.csv\"\n",
    "s=requests.get(url).content\n",
    "\n",
    "# 가격표 데이터\n",
    "df=pd.read_csv(io.StringIO(s.decode('utf-8')))\n",
    "\n",
    "########## 여기에 코딩해주세요. ##########\n",
    "\n",
    "ser = pd.Series(data=None)\n",
    "df[\"할인가격\"] = df.가격\n",
    "\n",
    "for 상품 in df.loc[df.품목==\"주방세제\"].index:\n",
    "    상품데이터 = df.loc[[상품]]\n",
    "    새상품데이터 = 상품데이터.copy()\n",
    "    새상품데이터.스펙 = 상품데이터.스펙 + 'x3'\n",
    "    새상품데이터.가격 = 상품데이터.가격 * 3\n",
    "    새상품데이터.할인가격 = round(새상품데이터.가격 * (100 - 15) / 100, -1)\n",
    "    df = pd.concat([df, 새상품데이터], ignore_index=True)\n",
    "    \n",
    "print(df.loc[df.품목==\"주방세제\"])\n",
    "\n",
    "########################################\n"
   ]
  },
  {
   "cell_type": "code",
   "execution_count": null,
   "id": "d967a88d-6e35-41dd-891d-b43dfce46f54",
   "metadata": {},
   "outputs": [],
   "source": [
    "# 문제 6\n",
    "import pandas as pd\n",
    "import io\n",
    "import requests\n",
    "url=\"https://tmn-bucket-materials-all.s3.ap-northeast-2.amazonaws.com/data/%EA%B0%80%EA%B2%A9%ED%91%9C.csv\"\n",
    "s=requests.get(url).content\n",
    "\n",
    "# 가격표 데이터\n",
    "df=pd.read_csv(io.StringIO(s.decode('utf-8')))\n",
    "\n",
    "########## 여기에 코딩해주세요. ##########\n",
    "\n",
    "ser = pd.Series(data=None)\n",
    "df[\"할인가격\"] = ser\n",
    "\n",
    "가격 = df.loc[df.품목.isin([\"면도기\", \"쉐이빙폼\"]), '가격'].sum()\n",
    "할인가격 = round(가격*(100-20)/100, -1)\n",
    "면도세트_데이터 = ['면도세트', '복합', '복합', '개', 가격, '일용품', 할인가격]\n",
    "\n",
    "df.loc[len(df)] = 면도세트_데이터\n",
    "\n",
    "print(df.tail(1))\n",
    "########################################"
   ]
  }
 ],
 "metadata": {
  "kernelspec": {
   "display_name": "Python 3 (ipykernel)",
   "language": "python",
   "name": "python3"
  },
  "language_info": {
   "codemirror_mode": {
    "name": "ipython",
    "version": 3
   },
   "file_extension": ".py",
   "mimetype": "text/x-python",
   "name": "python",
   "nbconvert_exporter": "python",
   "pygments_lexer": "ipython3",
   "version": "3.10.10"
  }
 },
 "nbformat": 4,
 "nbformat_minor": 5
}
