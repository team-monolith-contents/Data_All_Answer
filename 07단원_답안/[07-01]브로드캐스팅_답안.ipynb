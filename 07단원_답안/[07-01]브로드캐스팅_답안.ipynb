{
 "cells": [
  {
   "cell_type": "markdown",
   "id": "60ae2b52-3d19-470e-8d63-e7fc2fd00dbe",
   "metadata": {
    "tags": []
   },
   "source": [
    "### **💯 연습문제를 풀어봅시다**\n",
    "1. <a class=\"jcecodle-mk jcecodle-mk__problem-chip\" data-problem-id=\"fN-_o4Wr-XQ\" href='#jce-judge/open/fN-_o4Wr-XQ' target='_self'><span>판다스 - 브로드캐스팅 - 시리즈와 값(산술연산)</span></a>\n",
    "2. <a class=\"jcecodle-mk jcecodle-mk__problem-chip\" data-problem-id=\"Lr_sJqEW50w\" href='#jce-judge/open/Lr_sJqEW50w' target='_self'><span>판다스 - 브로드캐스팅 - 시리즈와 값(비교연산)</span></a>\n",
    "3. <a class=\"jcecodle-mk jcecodle-mk__problem-chip\" data-problem-id=\"KU0wjRqH9MM\" href='#jce-judge/open/KU0wjRqH9MM' target='_self'><span>판다스 - 브로드캐스팅 - 시리즈와 값(논리연산)</span></a>\n",
    "4. <a class=\"jcecodle-mk jcecodle-mk__problem-chip\" data-problem-id=\"EJ0tvCSP3-A\" href='#jce-judge/open/EJ0tvCSP3-A' target='_self'><span>판다스 - 브로드캐스팅 - 데이터 프레임과 값(산술연산)</span></a>\n",
    "5. <a class=\"jcecodle-mk jcecodle-mk__problem-chip\" data-problem-id=\"jdVgRsgMBRQ\" href='#jce-judge/open/jdVgRsgMBRQ' target='_self'><span>판다스 - 브로드캐스팅 - 데이터 프레임과 값(비교연산)</span></a>\n",
    "6. <a class=\"jcecodle-mk jcecodle-mk__problem-chip\" data-problem-id=\"VEisoCfy4hg\" href='#jce-judge/open/VEisoCfy4hg' target='_self'><span>판다스 - 브로드캐스팅 - 데이터 프레임과 값(논리연산)</span></a>\n",
    "7. <a class=\"jcecodle-mk jcecodle-mk__problem-chip\" data-problem-id=\"cv3xMiMn6eg\" href='#jce-judge/open/cv3xMiMn6eg' target='_self'><span>판다스 - 브로드캐스팅 - 시리즈와 데이터 프레임 (1)</span></a>\n",
    "8. <a class=\"jcecodle-mk jcecodle-mk__problem-chip\" data-problem-id=\"r7tsm7Z4dPo\" href='#jce-judge/open/r7tsm7Z4dPo' target='_self'><span>판다스 - 브로드캐스팅 - 시리즈와 데이터 프레임 (2)</span></a>\n"
   ]
  },
  {
   "cell_type": "code",
   "execution_count": null,
   "id": "a73838c9-012c-4f0d-8ba3-c6d28cc367d2",
   "metadata": {},
   "outputs": [],
   "source": [
    "# 1. 판다스-브로드캐스팅-시리즈와 값(산술연산)\n",
    "import pandas as pd\n",
    "ser = pd.Series([1, 2, 3, 4, 5])\n",
    "print(ser*2)"
   ]
  },
  {
   "cell_type": "code",
   "execution_count": null,
   "id": "1e4fd9e5-7cd9-40a0-ae33-e05e2b33b3a8",
   "metadata": {},
   "outputs": [],
   "source": [
    "# 2. 판다스-브로드캐스팅-시리즈와 값(비교연산)\n",
    "import pandas as pd\n",
    "ser = pd.Series([1, 2, 3, 4, 5])\n",
    "print(ser>3)"
   ]
  },
  {
   "cell_type": "code",
   "execution_count": null,
   "id": "343b8000-6ff6-476b-b5b9-8ed281922ef2",
   "metadata": {},
   "outputs": [],
   "source": [
    "# 3. 판다스-브로드캐스팅-시리즈와 값(논리연산)\n",
    "import pandas as pd\n",
    "ser = pd.Series([True, False, True, False])\n",
    "T = True\n",
    "\n",
    "print(ser&T)"
   ]
  },
  {
   "cell_type": "code",
   "execution_count": null,
   "id": "5ae5d5a3-d8b6-4009-9085-1dfbeb20261b",
   "metadata": {},
   "outputs": [],
   "source": [
    "# 4. 판다스-브로드캐스팅-데이터프레임과 값(산술연산)\n",
    "import pandas as pd\n",
    "df = pd.DataFrame([[1, 2, 3], \n",
    "                  [4, 5, 6], \n",
    "                  [7, 8, 9]])\n",
    "print(df+10)"
   ]
  },
  {
   "cell_type": "code",
   "execution_count": null,
   "id": "276fc3d5-da56-497a-9054-d427dd07c13c",
   "metadata": {},
   "outputs": [],
   "source": [
    "# 5. 판다스-브로드캐스팅-데이터프레임과 값(비교연산)\n",
    "import pandas as pd\n",
    "df = pd.DataFrame([[1, 2, 3], \n",
    "                  [4, 5, 6], \n",
    "                  [7, 8, 9]])\n",
    "print(df>5)"
   ]
  },
  {
   "cell_type": "code",
   "execution_count": null,
   "id": "69f2be24-a838-4807-b739-b4f43b3ebc67",
   "metadata": {},
   "outputs": [],
   "source": [
    "# 6. 판다스-브로드캐스팅-데이터프레임과 값(논리연산)\n",
    "import pandas as pd\n",
    "df = pd.DataFrame([[True, True, False], \n",
    "                  [True, False, False], \n",
    "                  [False, False, True]])\n",
    "bool = False\n",
    "\n",
    "print(df|bool)"
   ]
  },
  {
   "cell_type": "code",
   "execution_count": null,
   "id": "717737b5-1335-4990-b74c-4ac3588c81f2",
   "metadata": {},
   "outputs": [],
   "source": [
    "# 7. 판다스-브로드캐스팅-시리즈와 데이터 프레임(1)\n",
    "import pandas as pd\n",
    "ser = pd.Series([1, 2, 3, 4, 5])\n",
    "df = pd.DataFrame([[1, 2, 3, 4, 5], \n",
    "                  [6, 7, 8, 9, 10]])\n",
    "print(df+ser)"
   ]
  },
  {
   "cell_type": "code",
   "execution_count": null,
   "id": "174ea3ab-3492-4367-81ce-9ea279b1bff0",
   "metadata": {},
   "outputs": [],
   "source": [
    "# 8. 판다스-브로드캐스팅-시리즈와 데이터 프레임(2)\n",
    "import pandas as pd\n",
    "ser = pd.Series([1, 2, 3])\n",
    "df = pd.DataFrame([[1, 2, 3, 4, 5], \n",
    "                  [6, 7, 8, 9, 10]])\n",
    "print(df+ser)"
   ]
  }
 ],
 "metadata": {
  "kernelspec": {
   "display_name": "Python 3 (ipykernel)",
   "language": "python",
   "name": "python3"
  },
  "language_info": {
   "codemirror_mode": {
    "name": "ipython",
    "version": 3
   },
   "file_extension": ".py",
   "mimetype": "text/x-python",
   "name": "python",
   "nbconvert_exporter": "python",
   "pygments_lexer": "ipython3",
   "version": "3.10.10"
  }
 },
 "nbformat": 4,
 "nbformat_minor": 5
}
