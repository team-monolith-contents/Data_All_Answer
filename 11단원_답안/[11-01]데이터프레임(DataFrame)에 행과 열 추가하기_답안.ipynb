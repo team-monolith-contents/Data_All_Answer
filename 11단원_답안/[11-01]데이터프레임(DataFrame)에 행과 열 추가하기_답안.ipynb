{
 "cells": [
  {
   "cell_type": "markdown",
   "id": "649afa8b-3d66-4bf9-83cf-52f142b43024",
   "metadata": {},
   "source": [
    "### **💯 연습문제를 풀어봅시다**\n",
    "\n"
   ]
  },
  {
   "cell_type": "markdown",
   "id": "60d6c105-ce8e-48a6-be07-2b3f9c96bbe2",
   "metadata": {
    "tags": []
   },
   "source": [
    "1. <a class=\"jcecodle-mk jcecodle-mk__problem-chip\" data-problem-id=\"LIBoGXNmeUo\" href='#jce-judge/open/LIBoGXNmeUo' target='_self'><span>판다스 - 데이터 추가 - 열 추가 (2)</span></a>\n",
    "\n",
    "2. <a class=\"jcecodle-mk jcecodle-mk__problem-chip\" data-problem-id=\"vjh20azyC30\" href='#jce-judge/open/vjh20azyC30' target='_self'><span>그룹 추가 (2)</span></a>\n",
    "\n",
    "\n",
    "2. <a class=\"jcecodle-mk jcecodle-mk__problem-chip\" data-problem-id=\"zyaZmyhT5Nk\" href='#jce-judge/open/zyaZmyhT5Nk' target='_self'><span>판다스 - 데이터 추가 - 행 추가</span></a>\n",
    "\n",
    "1. <a class=\"jcecodle-mk jcecodle-mk__problem-chip\" data-problem-id=\"GISIRUm0KbQ\" href='#jce-judge/open/GISIRUm0KbQ' target='_self'><span>친구들 반 정보 추가</span></a>\n",
    "\n",
    "2. <a class=\"jcecodle-mk jcecodle-mk__problem-chip\" data-problem-id=\"qVixOeC6aio\" href='#jce-judge/open/qVixOeC6aio' target='_self'><span>직무스트레스 조사 추가</span></a>\n",
    "\n"
   ]
  },
  {
   "cell_type": "code",
   "execution_count": null,
   "id": "24384cae-73e7-4a0b-bebe-72265269d57e",
   "metadata": {},
   "outputs": [],
   "source": [
    "# 1. 판다스 - 데이터 추가 - 열 추가 (2)\n",
    "import pandas as pd\n",
    "data = pd.DataFrame({'A':[1, 2, 3], 'B':[1, 4, 9]})\n",
    "\n",
    "a = list(map(int, input().split()))\n",
    "data[\"C\"] = a\n",
    "print(data)\n"
   ]
  },
  {
   "cell_type": "code",
   "execution_count": null,
   "id": "da61de01-1664-41ea-940e-4282b2b14c5c",
   "metadata": {},
   "outputs": [],
   "source": [
    "# 2. 그룹 추가 (2)\n",
    "import pandas as pd\n",
    "idols = {'뉴진스':{'첫째':'민지', '둘째':'하니', '셋째':'다니엘', '넷째':'해린', '다섯째':'혜인'}, \n",
    "         '르세라핌':{'첫째':'사쿠라', '둘째':'김채원', '셋째':'허윤진', '넷째':'카즈하', '다섯째':'은채'}, \n",
    "         'TXT':{'첫째':'연준', '둘째':'수진', '셋째':'범규', '넷째':'태현', '다섯째':'휴닝카이'}, \n",
    "         '셀럽파이브':{'첫째':'송은이', '둘째':'신봉선', '셋째':'김신영', '넷째':'김영희', '다섯째':'안영미'}}\n",
    "df = pd.DataFrame(idols)\n",
    "\n",
    "\n",
    "ser = pd.Series(index=['첫째', '둘째', '셋째', '넷째'], \n",
    "                data=['지수', '제니', '로제', '리사'])\n",
    "df['블랙핑크'] = ser\n",
    "print(df)"
   ]
  },
  {
   "cell_type": "code",
   "execution_count": null,
   "id": "052fbd01-b52c-43fe-b179-6d8ae7c45ceb",
   "metadata": {},
   "outputs": [],
   "source": [
    "# 3. 판다스 - 데이터 추가 - 행 추가\n",
    "import pandas as pd\n",
    "data = pd.DataFrame({'A':[1, 2, 3], 'B':[1, 4, 9]})\n",
    "\n",
    "a = list(map(int, input().split()))\n",
    "data.loc[3] = a\n",
    "print(data)"
   ]
  },
  {
   "cell_type": "code",
   "execution_count": null,
   "id": "7fdef158-b57d-4691-9f7f-95f7dafd4471",
   "metadata": {},
   "outputs": [],
   "source": [
    "# 4. 친구들 반 정보 추가\n",
    "import pandas as pd\n",
    "idx = ['키', '몸무게', '나이']\n",
    "info = {'김철수':[190, 88, 25], \n",
    "       '김영희':[170, 50, 18],\n",
    "       '김갑수':[170, 70, 20],\n",
    "       '이을수':[150, 40, 30]}\n",
    "df = pd.DataFrame(index=idx, data=info)\n",
    "\n",
    "df.loc['반']=['1반', '3반', '8반','4반']\n",
    "print(df)"
   ]
  },
  {
   "cell_type": "code",
   "execution_count": null,
   "id": "d9cb6070-b80f-4b3e-abe9-955cd985a19b",
   "metadata": {},
   "outputs": [],
   "source": [
    "# 5. 직무스트레스 조사 추가\n",
    "import pandas as pd\n",
    "survey = pd.DataFrame(index=['부장', '과장', '대리', '사원'], \n",
    "                     data={'업무과다':['높음', '높음', '매우 높음', '높음'],\n",
    "                          '직위불안':['낮음', '높음', '높음', '낮음'],\n",
    "                          '관계갈등':['매우 높음', '매우 높음', '높음', '낮음'],\n",
    "                          '보상부적절':['매우 높음','매우 높음', '매우 높음', '매우 높음']})\n",
    "survey.loc['인턴'] = ['낮음', '높음', '낮음', '높음']\n",
    "print(survey)"
   ]
  }
 ],
 "metadata": {
  "kernelspec": {
   "display_name": "Python 3 (ipykernel)",
   "language": "python",
   "name": "python3"
  },
  "language_info": {
   "codemirror_mode": {
    "name": "ipython",
    "version": 3
   },
   "file_extension": ".py",
   "mimetype": "text/x-python",
   "name": "python",
   "nbconvert_exporter": "python",
   "pygments_lexer": "ipython3",
   "version": "3.10.10"
  }
 },
 "nbformat": 4,
 "nbformat_minor": 5
}
