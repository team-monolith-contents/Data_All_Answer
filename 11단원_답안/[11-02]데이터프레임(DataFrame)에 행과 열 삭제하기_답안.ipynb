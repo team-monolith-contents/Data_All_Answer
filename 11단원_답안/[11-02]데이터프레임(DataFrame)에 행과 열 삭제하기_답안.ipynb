{
 "cells": [
  {
   "cell_type": "markdown",
   "id": "efeea333-dfee-4fe0-8441-f77d8db1a7ec",
   "metadata": {},
   "source": [
    "### **💯 연습문제를 풀어봅시다**\n",
    "\n"
   ]
  },
  {
   "cell_type": "markdown",
   "id": "f941f9a3-7fb0-4c11-aa1d-4cbcbdde3010",
   "metadata": {
    "tags": []
   },
   "source": [
    "1. <a class=\"jcecodle-mk jcecodle-mk__problem-chip\" data-problem-id=\"N-j0ivbRsm0\" href='#jce-judge/open/N-j0ivbRsm0' target='_self'><span>판다스 - 데이터 삭제 - 열 삭제</span></a>\n",
    "1. <a class=\"jcecodle-mk jcecodle-mk__problem-chip\" data-problem-id=\"kWbt-qyizF4\" href='#jce-judge/open/kWbt-qyizF4' target='_self'><span>판다스 - 데이터 삭제 - 열 삭제(2)</span></a>\n",
    "2. <a class=\"jcecodle-mk jcecodle-mk__problem-chip\" data-problem-id=\"HsbXmwoJ7z0\" href='#jce-judge/open/HsbXmwoJ7z0' target='_self'><span>국영수만 남기기</span></a>\n",
    "2. <a class=\"jcecodle-mk jcecodle-mk__problem-chip\" data-problem-id=\"tte1M-sG8tk\" href='#jce-judge/open/tte1M-sG8tk' target='_self'><span>판다스 - 데이터 삭제 - 행 삭제</span></a>\n",
    "1. <a class=\"jcecodle-mk jcecodle-mk__problem-chip\" data-problem-id=\"QlScCXbbxCk\" href='#jce-judge/open/QlScCXbbxCk' target='_self'><span>기권 학생 삭제</span></a>\n",
    "\n",
    "\n"
   ]
  },
  {
   "cell_type": "code",
   "execution_count": null,
   "id": "847a63e8-77fd-4c49-baf3-5c3964c72ec4",
   "metadata": {},
   "outputs": [],
   "source": [
    "# 1. 판다스 - 데이터 삭제 - 열 삭제\n",
    "import pandas as pd\n",
    "data = pd.DataFrame({'A':[1, 2, 3, 4], 'B':[1, 4, 9, 16], 'C':[1, 8, 27, 64]})\n",
    "\n",
    "a = input()\n",
    "b = int(input())\n",
    "data.drop(a, axis=b, inplace=True)\n",
    "print(data)"
   ]
  },
  {
   "cell_type": "code",
   "execution_count": null,
   "id": "5fa758e5-4072-43d5-bf72-ef8dda01477c",
   "metadata": {},
   "outputs": [],
   "source": [
    "# 2. 판다스 - 데이터 삭제 - 열 삭제 (2)\n",
    "import pandas as pd\n",
    "import seaborn as sns\n",
    "df = sns.load_dataset('diamonds')\n",
    "df.drop(['color', 'x', 'y', 'z'], axis=1, inplace=True)\n",
    "print(df.head(3))"
   ]
  },
  {
   "cell_type": "code",
   "execution_count": null,
   "id": "c6fb99de-f7ac-4519-a0cc-4e311c0854a3",
   "metadata": {},
   "outputs": [],
   "source": [
    "# 3. 국영수만 남기기\n",
    "import pandas as pd\n",
    "import random\n",
    "random.seed(20)\n",
    "scores = pd.DataFrame(index=range(1, 11), \n",
    "                     data={'국어':[random.randint(1, 100) for i in range(10)], \n",
    "                          '수학':[random.randint(1, 100) for i in range(10)], \n",
    "                          '영어':[random.randint(1, 100) for i in range(10)], \n",
    "                          '한국사':[random.randint(1, 100) for i in range(10)]})\n",
    "\n",
    "scores.drop(columns='한국사', inplace=True)\n",
    "print(scores)"
   ]
  },
  {
   "cell_type": "code",
   "execution_count": null,
   "id": "1efa005e-1f9c-4ec7-8f7a-686d327a66d0",
   "metadata": {},
   "outputs": [],
   "source": [
    "# 4. 판다스 - 데이터 삭제 - 행 삭제\n",
    "import pandas as pd\n",
    "data = pd.DataFrame({'A':[1, 2, 3, 4], 'B':[1, 4, 9, 16], 'C':[1, 8, 27, 64]})\n",
    "\n",
    "a = list(map(int, input().split()))\n",
    "data.drop(a, inplace=True)\n",
    "print(data)"
   ]
  },
  {
   "cell_type": "code",
   "execution_count": null,
   "id": "e9076408-b032-4d40-aff3-222d5e15317d",
   "metadata": {},
   "outputs": [],
   "source": [
    "# 5. 기권 학생 삭제\n",
    "import pandas as pd\n",
    "vote = pd.DataFrame(index=['A학생', 'B학생', 'C학생', 'D학생'], \n",
    "                   data = {'1학년': [98, 34, 22, 100], \n",
    "                          '2학년': [50, 22, 40, 10], \n",
    "                          '3학년': [99, 28, 33, 20]})\n",
    "\n",
    "print(vote.drop('C학생'))"
   ]
  }
 ],
 "metadata": {
  "kernelspec": {
   "display_name": "Python 3 (ipykernel)",
   "language": "python",
   "name": "python3"
  },
  "language_info": {
   "codemirror_mode": {
    "name": "ipython",
    "version": 3
   },
   "file_extension": ".py",
   "mimetype": "text/x-python",
   "name": "python",
   "nbconvert_exporter": "python",
   "pygments_lexer": "ipython3",
   "version": "3.10.10"
  }
 },
 "nbformat": 4,
 "nbformat_minor": 5
}
