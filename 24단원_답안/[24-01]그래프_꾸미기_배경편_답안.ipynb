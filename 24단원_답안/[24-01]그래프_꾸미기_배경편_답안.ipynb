{
 "cells": [
  {
   "cell_type": "markdown",
   "id": "10e63271-31f6-47f6-8a27-023b7c1b511a",
   "metadata": {
    "tags": []
   },
   "source": [
    "### **💯 연습문제를 풀어봅시다**\n",
    "\n"
   ]
  },
  {
   "cell_type": "markdown",
   "id": "36f99212-bfde-437a-a94c-14768660a3a2",
   "metadata": {
    "tags": []
   },
   "source": [
    "1. <a class=\"jcecodle-mk jcecodle-mk__problem-chip\" data-problem-id=\"OY5r7CmYZnE\" href='#jce-judge/open/OY5r7CmYZnE' target='_self'><span>그래프 꾸미기 - 배경 크기와 색</span></a>\n",
    "2. <a class=\"jcecodle-mk jcecodle-mk__problem-chip\" data-problem-id=\"M3vHHHjfOL8\" href='#jce-judge/open/M3vHHHjfOL8' target='_self'><span>그래프 꾸미기 - 제목과 축</span></a>\n",
    "3. <a class=\"jcecodle-mk jcecodle-mk__problem-chip\" data-problem-id=\"g-6IA-1SAIY\" href='#jce-judge/open/g-6IA-1SAIY' target='_self'><span>그래프 꾸미기 - 축의 눈금</span></a>\n",
    "4. <a class=\"jcecodle-mk jcecodle-mk__problem-chip\" data-problem-id=\"Uhten5lJerE\" href='#jce-judge/open/Uhten5lJerE' target='_self'><span>그래프 꾸미기 - 눈금 격자</span></a>"
   ]
  },
  {
   "cell_type": "code",
   "execution_count": null,
   "id": "af32ca24-3382-489d-9f20-c304041afdfd",
   "metadata": {},
   "outputs": [],
   "source": [
    "# 1. 그래프 꾸미기 - 배경 크기와 색\n"
   ]
  },
  {
   "cell_type": "code",
   "execution_count": null,
   "id": "f347b535-392d-4659-8887-c52a2823247b",
   "metadata": {},
   "outputs": [],
   "source": [
    "# 2. 그래프 꾸미기 - 제목과 축\n"
   ]
  },
  {
   "cell_type": "code",
   "execution_count": null,
   "id": "718a131c-23ea-40ff-9f49-6d23dfe21ad2",
   "metadata": {},
   "outputs": [],
   "source": [
    "# 3. 그래프 꾸미기 - 축의 눈금\n"
   ]
  },
  {
   "cell_type": "code",
   "execution_count": null,
   "id": "f171a5db-ed50-4e44-a53a-4959cbbc44a5",
   "metadata": {},
   "outputs": [],
   "source": [
    "# 4. 그래프 꾸미기 - 눈금 격자\n"
   ]
  }
 ],
 "metadata": {
  "kernelspec": {
   "display_name": "Python 3 (ipykernel)",
   "language": "python",
   "name": "python3"
  },
  "language_info": {
   "codemirror_mode": {
    "name": "ipython",
    "version": 3
   },
   "file_extension": ".py",
   "mimetype": "text/x-python",
   "name": "python",
   "nbconvert_exporter": "python",
   "pygments_lexer": "ipython3",
   "version": "3.8.10"
  }
 },
 "nbformat": 4,
 "nbformat_minor": 5
}
