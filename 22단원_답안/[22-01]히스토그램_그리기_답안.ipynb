{
 "cells": [
  {
   "cell_type": "markdown",
   "id": "f2b16705-eac5-42df-b88d-0cd006d31537",
   "metadata": {
    "tags": []
   },
   "source": [
    "### **💯 연습문제를 풀어봅시다**\n",
    "\n"
   ]
  },
  {
   "cell_type": "markdown",
   "id": "2df99188-04d3-4ca0-b60b-8d911463fa0d",
   "metadata": {
    "tags": []
   },
   "source": [
    "1. <a class=\"jcecodle-mk jcecodle-mk__problem-chip\" data-problem-id=\"eY7-4GPF29g\" href='#jce-judge/open/eY7-4GPF29g' target='_self'><span>히스토그램 그리기 - a와 b의 분포</span></a>\n",
    "2. <a class=\"jcecodle-mk jcecodle-mk__problem-chip\" data-problem-id=\"LbpnIfdP9Bc\" href='#jce-judge/open/LbpnIfdP9Bc' target='_self'><span>히스토그램 그리기 - 주사위 굴리기</span></a>\n",
    "3. <a class=\"jcecodle-mk jcecodle-mk__problem-chip\" data-problem-id=\"1KoqPXU39f8\" href='#jce-judge/open/1KoqPXU39f8' target='_self'><span>히스토그램 그리기 - 펭귄 날개 길이 분포</span></a>\n",
    "4. <a class=\"jcecodle-mk jcecodle-mk__problem-chip\" data-problem-id=\"xcoXB1gkY8c\" href='#jce-judge/open/xcoXB1gkY8c' target='_self'><span>히스토그램 중첩 - 펭귄 별 날개 길이 분포</span></a>"
   ]
  },
  {
   "cell_type": "code",
   "execution_count": null,
   "id": "3eb84e1d-9ab4-4a9f-bc39-f120cf2643f2",
   "metadata": {},
   "outputs": [],
   "source": [
    "# 1. 히스토그램 그리기 - a와 b의 분포\n"
   ]
  },
  {
   "cell_type": "code",
   "execution_count": null,
   "id": "1d7ebdf0-40d3-498a-9526-f2eadd65f582",
   "metadata": {},
   "outputs": [],
   "source": [
    "# 2. 히스토그램 그리기 - 주사위 굴리기\n"
   ]
  },
  {
   "cell_type": "code",
   "execution_count": null,
   "id": "d816d968-4bf9-42c0-b24e-7e609f073032",
   "metadata": {},
   "outputs": [],
   "source": [
    "# 3. 히스토그램 그리기 - 펭귄 날개 길이 분포\n"
   ]
  },
  {
   "cell_type": "code",
   "execution_count": null,
   "id": "14b1c58b-eccb-4fcd-8168-94853eae419e",
   "metadata": {},
   "outputs": [],
   "source": [
    "# 4. 히스토그램 중첩 - 펭귄 별 날개 길이 분포\n"
   ]
  }
 ],
 "metadata": {
  "kernelspec": {
   "display_name": "Python 3 (ipykernel)",
   "language": "python",
   "name": "python3"
  },
  "language_info": {
   "codemirror_mode": {
    "name": "ipython",
    "version": 3
   },
   "file_extension": ".py",
   "mimetype": "text/x-python",
   "name": "python",
   "nbconvert_exporter": "python",
   "pygments_lexer": "ipython3",
   "version": "3.8.10"
  }
 },
 "nbformat": 4,
 "nbformat_minor": 5
}
