{
 "cells": [
  {
   "cell_type": "markdown",
   "id": "23102c4d-4c85-4d59-bf9e-84502596dc3f",
   "metadata": {},
   "source": [
    "### **💯 연습문제를 풀어봅시다**\n",
    "\n"
   ]
  },
  {
   "cell_type": "markdown",
   "id": "cb46131b-d917-4d5d-9aaf-5666d5f1112b",
   "metadata": {
    "tags": []
   },
   "source": [
    "1. <a class=\"jcecodle-mk jcecodle-mk__problem-chip\" data-problem-id=\"QCIVQ-01EuM\" href='#jce-judge/open/QCIVQ-01EuM' target='_self'><span>판다스 - 데이터 연산하기 - rank</span></a>\n",
    "2. <a class=\"jcecodle-mk jcecodle-mk__problem-chip\" data-problem-id=\"BPIf2PrHeuw\" href='#jce-judge/open/BPIf2PrHeuw' target='_self'><span>판다스 - 데이터 연산하기 - rank (2)</span></a>\n",
    "3. <a class=\"jcecodle-mk jcecodle-mk__problem-chip\" data-problem-id=\"8AzXCaaHMPI\" href='#jce-judge/open/8AzXCaaHMPI' target='_self'><span>키 큰 순으로 (1)</span></a>\n",
    "4. <a class=\"jcecodle-mk jcecodle-mk__problem-chip\" data-problem-id=\"pt-y48i1cig\" href='#jce-judge/open/pt-y48i1cig' target='_self'><span>키 큰 순으로 (2)</span></a>\n",
    "5. <a class=\"jcecodle-mk jcecodle-mk__problem-chip\" data-problem-id=\"ktj0xXAZX54\" href='#jce-judge/open/ktj0xXAZX54' target='_self'><span>학급 성적평균 순위</span></a>\n"
   ]
  },
  {
   "cell_type": "code",
   "execution_count": null,
   "id": "bb6eed7a-2b24-4927-9291-edeb14f76b5a",
   "metadata": {},
   "outputs": [],
   "source": [
    "# 1. 판다스 - 데이터 연산하기 - rank\n",
    "import pandas as pd\n",
    "df = pd.DataFrame([[30, 20, 10], [10, 20, 30], [20, 30, 10]])\n",
    "n = int(input())\n",
    "print(df.rank(n))"
   ]
  },
  {
   "cell_type": "code",
   "execution_count": null,
   "id": "f7d7a72a-d454-432b-8244-b4440af1c268",
   "metadata": {},
   "outputs": [],
   "source": [
    "# 2. 판다스 - 데이터 연산하기 - rank (2)\n",
    "import pandas as pd\n",
    "import seaborn as sns\n",
    "\n",
    "df = sns.load_dataset('planets').loc[:9]\n",
    "df.index = range(1, 11)\n",
    "df = df.drop(['method', 'number'], axis='columns')\n",
    "\n",
    "print(df.rank())"
   ]
  },
  {
   "cell_type": "code",
   "execution_count": null,
   "id": "548985fe-b52c-4b15-89d2-586b7047a9e5",
   "metadata": {},
   "outputs": [],
   "source": [
    "# 3. 키 큰 순으로 (1)\n",
    "import pandas as pd\n",
    "height = pd.Series(index=['갑', '을', '병', '정'], \n",
    "               data=[190, 130, 150, 147])\n",
    "print(height.rank(ascending=False))"
   ]
  },
  {
   "cell_type": "code",
   "execution_count": null,
   "id": "13cad96c-57d6-46cb-8388-e611df01d408",
   "metadata": {},
   "outputs": [],
   "source": [
    "# 4. 키 큰 순으로 (2)\n",
    "import pandas as pd\n",
    "idx = ['키', '몸무게', '나이']\n",
    "info = {'김철수':[190, 88, 25], \n",
    "       '김영희':[165, 50, 18],\n",
    "       '김갑수':[170, 70, 20],\n",
    "       '이을수':[150, 40, 30]}\n",
    "df = pd.DataFrame(index=idx, data=info)\n",
    "\n",
    "print(df.loc['키'].rank(ascending=False))"
   ]
  },
  {
   "cell_type": "code",
   "execution_count": null,
   "id": "812c5353-7a2f-4e4e-9e49-cf134315f40d",
   "metadata": {},
   "outputs": [],
   "source": [
    "# 5. 학급 성적평균 순위\n",
    "import pandas as pd\n",
    "import random\n",
    "random.seed(20)\n",
    "scores = pd.DataFrame(index=['국어', '수학', '영어'], \n",
    "                     data = {'1반':[random.randint(1, 100) for i in range(3)], \n",
    "                            '2반':[random.randint(1, 100) for i in range(3)], \n",
    "                            '3반':[random.randint(1, 100) for i in range(3)], \n",
    "                            '4반':[random.randint(1, 100) for i in range(3)],\n",
    "                            '5반':[random.randint(1, 100) for i in range(3)]})\n",
    "print(scores.rank(axis=1, ascending=False))"
   ]
  }
 ],
 "metadata": {
  "kernelspec": {
   "display_name": "Python 3 (ipykernel)",
   "language": "python",
   "name": "python3"
  },
  "language_info": {
   "codemirror_mode": {
    "name": "ipython",
    "version": 3
   },
   "file_extension": ".py",
   "mimetype": "text/x-python",
   "name": "python",
   "nbconvert_exporter": "python",
   "pygments_lexer": "ipython3",
   "version": "3.10.10"
  }
 },
 "nbformat": 4,
 "nbformat_minor": 5
}
