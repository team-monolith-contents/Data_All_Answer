{
 "cells": [
  {
   "cell_type": "markdown",
   "id": "b70b91c4-7975-4c57-b7fe-4b7781e7d62f",
   "metadata": {},
   "source": [
    "### **💯 연습문제를 풀어봅시다**\n",
    "\n"
   ]
  },
  {
   "cell_type": "markdown",
   "id": "3517c362-45b2-4a7f-8506-bd682c1e8cf7",
   "metadata": {
    "tags": []
   },
   "source": [
    "1. <a class=\"jcecodle-mk jcecodle-mk__problem-chip\" data-problem-id=\"6UgfuWGCLOc\" href='#jce-judge/open/6UgfuWGCLOc' target='_self'><span>판다스 - 데이터 연산하기 - round</span></a>\n",
    "3. <a class=\"jcecodle-mk jcecodle-mk__problem-chip\" data-problem-id=\"F9252q3fdLs\" href='#jce-judge/open/F9252q3fdLs' target='_self'><span>판다스 - 데이터 연산하기 - round (2)</span></a>\n",
    "4. <a class=\"jcecodle-mk jcecodle-mk__problem-chip\" data-problem-id=\"QaAWWcHevyw\" href='#jce-judge/open/QaAWWcHevyw' target='_self'><span>판다스 - 데이터 연산하기 - round (3)</span></a>\n",
    "4. <a class=\"jcecodle-mk jcecodle-mk__problem-chip\" data-problem-id=\"kCB3klhNQuU\" href='#jce-judge/open/kCB3klhNQuU' target='_self'><span>성적 평균 반올림</span></a>\n"
   ]
  },
  {
   "cell_type": "code",
   "execution_count": null,
   "id": "b9a0cee3-772d-4a89-bebe-8e8563bb7445",
   "metadata": {},
   "outputs": [],
   "source": [
    "# 1. 판다스 - 데이터 연산하기 - round\n",
    "import pandas as pd\n",
    "df = pd.DataFrame([[13.2342, 4.2398423], [101.23445, 54.12], [9.23425212, 2]])\n",
    "\n",
    "n = int(input())\n",
    "print(df.round(n))"
   ]
  },
  {
   "cell_type": "code",
   "execution_count": null,
   "id": "efcde1eb-d4d9-407e-9f75-9d8edecc472e",
   "metadata": {},
   "outputs": [],
   "source": [
    "# 2. 판다스 - 데이터 연산하기 - round (2)\n",
    "import pandas as pd\n",
    "ser = pd.Series([1.1, 2.22, 3.333, 4.4444, 5.55555])\n",
    "print(ser.round(3))"
   ]
  },
  {
   "cell_type": "code",
   "execution_count": null,
   "id": "1f0942f8-e498-47f8-b5fb-cc44da0cff0f",
   "metadata": {},
   "outputs": [],
   "source": [
    "# 3. 판다스 - 데이터 연산하기 - round (3)\n",
    "import pandas as pd\n",
    "import random\n",
    "random.seed(10)\n",
    "df = pd.DataFrame(index=range(10),\n",
    "                 data = {'col1':[random.uniform(1,100) for i in range(10)],\n",
    "                        'col2':[random.uniform(1,100) for i in range(10)],\n",
    "                        'col3':[random.uniform(1,100) for i in range(10)]})\n",
    "\n",
    "print(df.round(3))"
   ]
  },
  {
   "cell_type": "code",
   "execution_count": null,
   "id": "3a22685a-4fad-4765-828d-2696851ed0c8",
   "metadata": {},
   "outputs": [],
   "source": [
    "# 4. 성적 평균 반올림\n",
    "import pandas as pd\n",
    "scores = pd.DataFrame(index=['국어', '수학', '영어'], \n",
    "                     data = {'1반':[88, 62, 85], \n",
    "                            '2반':[91.5, 34.2, 55], \n",
    "                            '3반':[38.2, 34, 44.3], \n",
    "                            '4반':[99.1, 22.6, 34],\n",
    "                            '5반':[31.2, 35.3, 88.2]})\n",
    "\n",
    "print(scores.round(-1))"
   ]
  }
 ],
 "metadata": {
  "kernelspec": {
   "display_name": "Python 3 (ipykernel)",
   "language": "python",
   "name": "python3"
  },
  "language_info": {
   "codemirror_mode": {
    "name": "ipython",
    "version": 3
   },
   "file_extension": ".py",
   "mimetype": "text/x-python",
   "name": "python",
   "nbconvert_exporter": "python",
   "pygments_lexer": "ipython3",
   "version": "3.10.10"
  }
 },
 "nbformat": 4,
 "nbformat_minor": 5
}
