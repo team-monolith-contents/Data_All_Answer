{
 "cells": [
  {
   "cell_type": "markdown",
   "id": "f7336d7b-9217-498f-816d-7206d45c0d74",
   "metadata": {},
   "source": [
    "### **💯 연습문제를 풀어봅시다**\n",
    "\n"
   ]
  },
  {
   "cell_type": "markdown",
   "id": "82be737c-bab8-42ad-953a-e1e12e5da1f7",
   "metadata": {
    "tags": []
   },
   "source": [
    "1. <a class=\"jcecodle-mk jcecodle-mk__problem-chip\" data-problem-id=\"rmsBS7UPIBE\" href='#jce-judge/open/rmsBS7UPIBE' target='_self'><span>판다스 - 시리즈 포함관계</span></a>\n",
    "2. <a class=\"jcecodle-mk jcecodle-mk__problem-chip\" data-problem-id=\"PAgT9s6XUZs\" href='#jce-judge/open/PAgT9s6XUZs' target='_self'><span>동물원에 포함된 동물</span></a>\n",
    "3. <a class=\"jcecodle-mk jcecodle-mk__problem-chip\" data-problem-id=\"P-vtszkk64s\" href='#jce-judge/open/P-vtszkk64s' target='_self'><span>판다스 - 데이터 프레임의 포함관계</span></a>\n",
    "4. <a class=\"jcecodle-mk jcecodle-mk__problem-chip\" data-problem-id=\"kW8wfufyjJo\" href='#jce-judge/open/kW8wfufyjJo' target='_self'><span>대회 출전자 확인</span></a>\n",
    "5. <a class=\"jcecodle-mk jcecodle-mk__problem-chip\" data-problem-id=\"iYIyrE6XeXg\" href='#jce-judge/open/iYIyrE6XeXg' target='_self'><span>대회 출전자 중 1반</span></a>\n",
    "\n"
   ]
  },
  {
   "cell_type": "code",
   "execution_count": null,
   "id": "b355d27b-21a1-446e-8ad6-99ac90fb7d48",
   "metadata": {},
   "outputs": [],
   "source": [
    "# 1. 판다스 - 시리즈 포함관계\n",
    "import pandas as pd\n",
    "ser = pd.Series(['apple', 'banana', 'strawberry', 'tangerine'])\n",
    "mine = ['apple', 'tangerine']\n",
    "print(ser.isin(mine))"
   ]
  },
  {
   "cell_type": "code",
   "execution_count": null,
   "id": "79069cb8-a5a5-4f59-9244-442808ca7bd9",
   "metadata": {},
   "outputs": [],
   "source": [
    "# 2. 동물원에 포함된 동물\n",
    "import pandas as pd\n",
    "animals = pd.Series(['사자', '코끼리', '호랑이', '돌고래', '까마귀', '낙타'])\n",
    "zoo = ['사자', '호랑이', '낙타']\n",
    "print(animals.isin(zoo))"
   ]
  },
  {
   "cell_type": "code",
   "execution_count": null,
   "id": "568de02d-279d-4520-9220-bf05ce913b1a",
   "metadata": {},
   "outputs": [],
   "source": [
    "# 3. 판다스 - 데이터 프레임의 포함관계\n",
    "import pandas as pd\n",
    "df = pd.DataFrame({'int':[1, 2, 3, 4], \n",
    "                  'bool':[True, False, True, False], \n",
    "                  'str':['a', 'b', 'c', 'd'], \n",
    "                  'float':[0.1, 0.2, 0.3, 0.4], \n",
    "                  'none':[None, None, None, None]})\n",
    "check_list = [1, 2, True, 'b', 'd', None]\n",
    "print(df.isin(check_list))"
   ]
  },
  {
   "cell_type": "code",
   "execution_count": null,
   "id": "6b45b7ff-8a3f-4f0c-86e2-4980283f03d2",
   "metadata": {},
   "outputs": [],
   "source": [
    "# 4. 대회 출전자 확인\n",
    "import pandas as pd\n",
    "classes = pd.DataFrame({'1반':['갑', '을', '병', '정'], \n",
    "                      '2반':['무', '기', '경', '신'], \n",
    "                      '3반':['임', '계', '진', '사']})\n",
    "contest = ['갑', '무', '경', '신', '사', '오', '미', '신']\n",
    "\n",
    "print(classes.isin(contest))"
   ]
  },
  {
   "cell_type": "code",
   "execution_count": null,
   "id": "35ec65b2-c863-421c-9778-ce8770f958fb",
   "metadata": {},
   "outputs": [],
   "source": [
    "# 5. 대회 출전자 중 1반\n",
    "import pandas as pd\n",
    "classes = pd.DataFrame({'1반':['갑', '을', '병', '정'], \n",
    "                      '2반':['무', '기', '경', '신'], \n",
    "                      '3반':['임', '계', '진', '사']})\n",
    "contest = pd.Series(['갑', '을', '무', '경', '신', '사'])\n",
    "\n",
    "\n",
    "print(contest.isin(classes['1반']))"
   ]
  }
 ],
 "metadata": {
  "kernelspec": {
   "display_name": "Python 3 (ipykernel)",
   "language": "python",
   "name": "python3"
  },
  "language_info": {
   "codemirror_mode": {
    "name": "ipython",
    "version": 3
   },
   "file_extension": ".py",
   "mimetype": "text/x-python",
   "name": "python",
   "nbconvert_exporter": "python",
   "pygments_lexer": "ipython3",
   "version": "3.10.10"
  }
 },
 "nbformat": 4,
 "nbformat_minor": 5
}
