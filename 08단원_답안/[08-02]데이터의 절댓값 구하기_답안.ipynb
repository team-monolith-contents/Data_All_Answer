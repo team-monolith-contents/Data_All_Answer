{
 "cells": [
  {
   "cell_type": "markdown",
   "id": "23102c4d-4c85-4d59-bf9e-84502596dc3f",
   "metadata": {},
   "source": [
    "### **💯 연습문제를 풀어봅시다**\n",
    "\n"
   ]
  },
  {
   "cell_type": "markdown",
   "id": "cb46131b-d917-4d5d-9aaf-5666d5f1112b",
   "metadata": {
    "tags": []
   },
   "source": [
    "1. <a class=\"jcecodle-mk jcecodle-mk__problem-chip\" data-problem-id=\"igEUbY7Tfwc\" href='#jce-judge/open/igEUbY7Tfwc' target='_self'><span>판다스 - 데이터 연산하기 - abs</span></a>\n",
    "2. <a class=\"jcecodle-mk jcecodle-mk__problem-chip\" data-problem-id=\"OtAL67kKFJc\" href='#jce-judge/open/OtAL67kKFJc' target='_self'><span>사업실적 절댓값 (1)</span></a>\n",
    "3. <a class=\"jcecodle-mk jcecodle-mk__problem-chip\" data-problem-id=\"PYcUHf3BssQ\" href='#jce-judge/open/PYcUHf3BssQ' target='_self'><span>사업실적 절댓값 (2)</span></a>"
   ]
  },
  {
   "cell_type": "code",
   "execution_count": null,
   "id": "016623b9-aab5-4735-a93e-236b42dea451",
   "metadata": {},
   "outputs": [],
   "source": [
    "# 1. 판다스 - 데이터 연산하기 - abs\n",
    "import pandas as pd\n",
    "df = pd.DataFrame([[-13, 45, -12], [-34, 23, 1], [-6, 0, 34]])\n",
    "print(df.abs())"
   ]
  },
  {
   "cell_type": "code",
   "execution_count": null,
   "id": "5b435526-2be6-459b-8e87-6c7925543ac9",
   "metadata": {},
   "outputs": [],
   "source": [
    "# 2. 사업실적 절댓값 (1)\n",
    "import pandas as pd\n",
    "perform = pd.DataFrame(index=['사업1', '사업2', '사업3', '사업4'], \n",
    "                      data = {'매출액(억원)':[-6, -2, 10, -7],\n",
    "                             '영업비용(억원)':[0, 8, -5, -10],\n",
    "                             '영업이익(억원)':[3, 3, -8, -7],\n",
    "                             '사업체 수':[-6, 0, 5, 8]})\n",
    "\n",
    "print(perform.abs())"
   ]
  },
  {
   "cell_type": "code",
   "execution_count": null,
   "id": "36b5e7d7-9e1f-4e37-ad0f-df279d284ee1",
   "metadata": {},
   "outputs": [],
   "source": [
    "# 2. 사업실적 절댓값 (2)\n",
    "import pandas as pd\n",
    "perform = pd.DataFrame(index=['사업1', '사업2', '사업3', '사업4'], \n",
    "                      data = {'매출액(억원)':[-6, -2, 10, -7],\n",
    "                             '영업비용(억원)':[0, 8, -5, -10],\n",
    "                             '영업이익(억원)':[3, 3, -8, -7],\n",
    "                             '사업체 수':[-6, 0, 5, 8]})\n",
    "print(perform['사업체 수'].abs())"
   ]
  }
 ],
 "metadata": {
  "kernelspec": {
   "display_name": "Python 3 (ipykernel)",
   "language": "python",
   "name": "python3"
  },
  "language_info": {
   "codemirror_mode": {
    "name": "ipython",
    "version": 3
   },
   "file_extension": ".py",
   "mimetype": "text/x-python",
   "name": "python",
   "nbconvert_exporter": "python",
   "pygments_lexer": "ipython3",
   "version": "3.10.10"
  }
 },
 "nbformat": 4,
 "nbformat_minor": 5
}
