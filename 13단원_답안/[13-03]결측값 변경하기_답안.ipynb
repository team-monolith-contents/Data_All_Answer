{
 "cells": [
  {
   "cell_type": "markdown",
   "id": "84d5ac2c-16f4-4f36-a139-35ac3138aef7",
   "metadata": {},
   "source": [
    "### **💯 연습문제를 풀어봅시다**\n",
    "\n"
   ]
  },
  {
   "cell_type": "markdown",
   "id": "f4cee1a0-1f69-46fc-8650-9ceb7f8ca286",
   "metadata": {
    "tags": []
   },
   "source": [
    "1. <a class=\"jcecodle-mk jcecodle-mk__problem-chip\" data-problem-id=\"7h23TDPhtbs\" href='#jce-judge/open/7h23TDPhtbs' target='_self'><span>판다스 - 결측값 처리 - 시리즈 결측값 변경</span></a>\n",
    "1. <a class=\"jcecodle-mk jcecodle-mk__problem-chip\" data-problem-id=\"1a5lam-7dW8\" href='#jce-judge/open/1a5lam-7dW8' target='_self'><span>판다스 - 결측값 처리 - 일괄 변경</span></a> \n",
    "4. <a class=\"jcecodle-mk jcecodle-mk__problem-chip\" data-problem-id=\"Rx-lpctLFg4\" href='#jce-judge/open/Rx-lpctLFg4' target='_self'><span>판다스 - 결측값 처리 - 열에 따라 변경 (3)</span></a>\n",
    "5. <a class=\"jcecodle-mk jcecodle-mk__problem-chip\" data-problem-id=\"L42tTfYUbxk\" href='#jce-judge/open/L42tTfYUbxk' target='_self'><span>가계부 결측값 변경</span></a>\n"
   ]
  },
  {
   "cell_type": "code",
   "execution_count": null,
   "id": "a28ee531-3e12-4bd3-b452-861c43df4b30",
   "metadata": {},
   "outputs": [],
   "source": [
    "# 1. 판다스 - 결측값 처리 - 시리즈 결측값 변경\n",
    "import pandas as pd\n",
    "ser = pd.Series([1, 2, 3, None, 4, 5, 6])\n",
    "\n",
    "print(ser.fillna(ser.median()))"
   ]
  },
  {
   "cell_type": "code",
   "execution_count": null,
   "id": "af834df4-04d6-4146-85ba-cf911202c782",
   "metadata": {},
   "outputs": [],
   "source": [
    "# 2. 판다스 - 결측값 처리 - 일괄 변경\n",
    "import pandas as pd\n",
    "df = pd.DataFrame({\"a\":[1, 2, None, 4, 5], \"c\":[3, 4, 5, None, 7], \"e\":[None, None, 7, 8, 9]}, dtype=float)  \n",
    "df.insert(1, \"b\", pd.Series({1: 3, 3: 5}))  \n",
    "df.insert(3, \"d\", pd.Series({1: 5, 3: 7}))\n",
    "\n",
    "n = float(input())\n",
    "print(df.fillna(n))"
   ]
  },
  {
   "cell_type": "code",
   "execution_count": null,
   "id": "dcae27dd-095c-4166-b507-2e52b1aae7df",
   "metadata": {},
   "outputs": [],
   "source": [
    "# 3. 판다스 - 결측값 처리 - 열에 따라 변경(3)\n",
    "import pandas as pd\n",
    "df = pd.DataFrame({'A': [1, 2, None, 4, 5],\n",
    "                   'B': [6, 7, 8, 9, 10],\n",
    "                   'C': [11, None, 13, None, 15],\n",
    "                   'D': [1, 2, 3, 4, 5], \n",
    "                   'E': [6, 7, 8, 9, 10],\n",
    "                   'F': [None, 12, None, None, None]})\n",
    "\n",
    "new_items = {'A':df.A.mean(), 'C':df.C.mean(), 'F':df.F.mean()}\n",
    "df.fillna(new_items, inplace=True)\n",
    "print(df)"
   ]
  },
  {
   "cell_type": "code",
   "execution_count": null,
   "id": "acad936c-d466-406c-97ac-dc2d5c5ec4dd",
   "metadata": {},
   "outputs": [],
   "source": [
    "# 4. 가계부 결측값 변경\n",
    "import pandas as pd\n",
    "week = ['첫째주', '둘째주', '셋째주', '넷째주']\n",
    "acc = [[None, 5000, 100000, 2000], \n",
    "       [None, None, None, 30000], \n",
    "       [20000, 3000, 110000, 300000], \n",
    "       [25000, None, 100000, 100000]]\n",
    "col = ['식비','교통비', '관리비', '기타비용']\n",
    "house_acc = pd.DataFrame(index=week, columns=col, data=acc)\n",
    "\n",
    "items = {'식비':22500, '교통비':4000, '관리비':100000}\n",
    "print(house_acc.fillna(items))"
   ]
  }
 ],
 "metadata": {
  "kernelspec": {
   "display_name": "Python 3 (ipykernel)",
   "language": "python",
   "name": "python3"
  },
  "language_info": {
   "codemirror_mode": {
    "name": "ipython",
    "version": 3
   },
   "file_extension": ".py",
   "mimetype": "text/x-python",
   "name": "python",
   "nbconvert_exporter": "python",
   "pygments_lexer": "ipython3",
   "version": "3.10.10"
  }
 },
 "nbformat": 4,
 "nbformat_minor": 5
}
