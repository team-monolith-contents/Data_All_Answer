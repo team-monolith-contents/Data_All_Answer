{
 "cells": [
  {
   "cell_type": "markdown",
   "id": "84d5ac2c-16f4-4f36-a139-35ac3138aef7",
   "metadata": {},
   "source": [
    "### **💯 연습문제를 풀어봅시다**\n",
    "\n"
   ]
  },
  {
   "cell_type": "markdown",
   "id": "f4cee1a0-1f69-46fc-8650-9ceb7f8ca286",
   "metadata": {
    "tags": []
   },
   "source": [
    "1. <a class=\"jcecodle-mk jcecodle-mk__problem-chip\" data-problem-id=\"3byVGYRn9Iw\" href='#jce-judge/open/3byVGYRn9Iw' target='_self'><span>판다스 - 결측값 처리 - 열 기준 제거</span></a>\n",
    "2. <a class=\"jcecodle-mk jcecodle-mk__problem-chip\" data-problem-id=\"afipiWToT9s\" href='#jce-judge/open/afipiWToT9s' target='_self'><span>판다스 - 결측값 처리 - 개수 기준 제거</span></a>\n",
    "3. <a class=\"jcecodle-mk jcecodle-mk__problem-chip\" data-problem-id=\"YeBPoVzxddU\" href='#jce-judge/open/YeBPoVzxddU' target='_self'><span>판다스 - 결측값 처리 - 시리즈</span></a>\n",
    "4. <a class=\"jcecodle-mk jcecodle-mk__problem-chip\" data-problem-id=\"vXPtJTZLuJ8\" href='#jce-judge/open/vXPtJTZLuJ8' target='_self'><span>판다스 - 결측값 처리 - 데이터 프레임 (1)</span></a>\n",
    "5. <a class=\"jcecodle-mk jcecodle-mk__problem-chip\" data-problem-id=\"DvZNqrnu4Ic\" href='#jce-judge/open/DvZNqrnu4Ic' target='_self'><span>판다스 - 결측값 처리 - 데이터프레임 (2)</span></a>\n",
    "6. <a class=\"jcecodle-mk jcecodle-mk__problem-chip\" data-problem-id=\"debOT0206AE\" href='#jce-judge/open/debOT0206AE' target='_self'><span>판다스 - 결측값 처리 - 데이터 프레임(subset)</span></a>\n",
    "7. <a class=\"jcecodle-mk jcecodle-mk__problem-chip\" data-problem-id=\"hRBnpX8BDwc\" href='#jce-judge/open/hRBnpX8BDwc' target='_self'><span>판다스 - 결측값 처리 - 데이터 프레임(thresh 1)</span></a>\n",
    "8. <a class=\"jcecodle-mk jcecodle-mk__problem-chip\" data-problem-id=\"c6tjvUjD6zI\" href='#jce-judge/open/c6tjvUjD6zI' target='_self'><span>판다스 - 결측값 처리 - 데이터 프레임(thresh 2)</span></a>"
   ]
  },
  {
   "cell_type": "code",
   "execution_count": null,
   "id": "d67e40d5-51ca-44f5-887a-1e73d12f6efa",
   "metadata": {},
   "outputs": [],
   "source": [
    "# 1. 판다스 - 결측값 처리 - 열 기준 제거\n",
    "import pandas as pd\n",
    "df = pd.DataFrame({\"a\":[1, 2, 3, 4, 5], \"c\":[3, 4, 5, 6, 7], \"e\":[5, 6, 7, 8, 9]}, dtype=float)  \n",
    "df.insert(1, \"b\", pd.Series({1: 3, 3: 5}))\n",
    "df.insert(3, \"d\", pd.Series({1: 5, 3: 7}))\n",
    "\n",
    "a = input().split()\n",
    "print(df.dropna(subset=a))"
   ]
  },
  {
   "cell_type": "code",
   "execution_count": null,
   "id": "c8ebe422-1a9f-4134-81e4-554980424313",
   "metadata": {},
   "outputs": [],
   "source": [
    "# 2. 판다스 - 결측값 처리 - 개수 기준 제거\n",
    "import pandas as pd\n",
    "df = pd.DataFrame({\"a\":[1, 2, None, 4, 5], \"c\":[3, 4, 5, None, 7], \"e\":[None, None, 7, 8, 9]}, dtype=float)  \n",
    "df.insert(1, \"b\", pd.Series({1: 3, 3: 5}))\n",
    "df.insert(3, \"d\", pd.Series({1: 5, 3: 7}))\n",
    "\n",
    "n = int(input())\n",
    "print(df.dropna(thresh=n))"
   ]
  },
  {
   "cell_type": "code",
   "execution_count": null,
   "id": "e15efa5c-87a3-4ec9-b7e5-3dbc2b1bf7f3",
   "metadata": {},
   "outputs": [],
   "source": [
    "# 3. 판다스 - 결측값 처리 - 시리즈\n",
    "import pandas as pd\n",
    "s = pd.Series([1, 2, None, 4, 5, None, 7])\n",
    "\n",
    "print(s.dropna())"
   ]
  },
  {
   "cell_type": "code",
   "execution_count": null,
   "id": "b7b4cdde-6c30-4e00-baef-9513f6f8a9a4",
   "metadata": {},
   "outputs": [],
   "source": [
    "# 4. 판다스 - 결측값 처리 - 데이터 프레임 (1)\n",
    "import pandas as pd\n",
    "df = pd.DataFrame({'A': [1, 2, None, 4, 5],\n",
    "                   'B': [None, 7, 8, 9, 10],\n",
    "                   'C': [11, 12, 13, None, 15]})\n",
    "\n",
    "print(df.dropna())"
   ]
  },
  {
   "cell_type": "code",
   "execution_count": null,
   "id": "ae66980f-63c2-408c-8ade-161542e8a1a6",
   "metadata": {},
   "outputs": [],
   "source": [
    "# 5. 판다스 - 결측값 처리 - 데이터 프레임 (2)\n",
    "import pandas as pd\n",
    "df = pd.DataFrame({'A': [1, 2, None, 4, 5],\n",
    "                   'B': [6, 7, 8, 9, 10],\n",
    "                   'C': [11, 12, 13, None, 15],\n",
    "                   'D': [1, 2, 3, 4, 5]})\n",
    "\n",
    "print(df.dropna(axis=1))"
   ]
  },
  {
   "cell_type": "code",
   "execution_count": null,
   "id": "8f220486-ebe2-4ca4-8ad3-7fd318b12246",
   "metadata": {},
   "outputs": [],
   "source": [
    "# 6. 판다스 - 결측값 처리 - 데이터 프레임(subset)\n",
    "import pandas as pd\n",
    "df = pd.DataFrame({'A': [1, 2, None, 4, 5],\n",
    "                   'B': [None, 7, 8, 9, 10],\n",
    "                   'C': [11, 12, 13, None, 15],\n",
    "                   'D': [1, 2, 3, 4, 5]})\n",
    "print(df.dropna(subset=['B', 'C']))"
   ]
  },
  {
   "cell_type": "code",
   "execution_count": null,
   "id": "0d32fcc7-2579-4d37-a79c-8a0b13b3be9a",
   "metadata": {},
   "outputs": [],
   "source": [
    "# 7. 판다스 - 결측값 처리 - 데이터 프레임(thresh 1)\n",
    "import pandas as pd\n",
    "df = pd.DataFrame({'A': [1, 2, None, 4, 5],\n",
    "                   'B': [None, 7, 8, 9, 10],\n",
    "                   'C': [11, 12, 13, None, 15],\n",
    "                   'D': [1, 2, None, 4, 5], \n",
    "                   'E': [6, 7, None, None, 10],\n",
    "                   'F': [None, 12, None, None, None]})\n",
    "print(df.dropna(thresh=4))"
   ]
  },
  {
   "cell_type": "code",
   "execution_count": null,
   "id": "b765929f-3d38-41ff-a61f-05c022171880",
   "metadata": {},
   "outputs": [],
   "source": [
    "# 8. 판다스 - 결측값 처리 - 데이터 프레임(thresh 2)\n"
   ]
  }
 ],
 "metadata": {
  "kernelspec": {
   "display_name": "Python 3 (ipykernel)",
   "language": "python",
   "name": "python3"
  },
  "language_info": {
   "codemirror_mode": {
    "name": "ipython",
    "version": 3
   },
   "file_extension": ".py",
   "mimetype": "text/x-python",
   "name": "python",
   "nbconvert_exporter": "python",
   "pygments_lexer": "ipython3",
   "version": "3.10.10"
  }
 },
 "nbformat": 4,
 "nbformat_minor": 5
}
