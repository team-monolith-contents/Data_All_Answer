{
 "cells": [
  {
   "cell_type": "markdown",
   "id": "84d5ac2c-16f4-4f36-a139-35ac3138aef7",
   "metadata": {},
   "source": [
    "### **💯 연습문제를 풀어봅시다**\n",
    "\n"
   ]
  },
  {
   "cell_type": "markdown",
   "id": "f4cee1a0-1f69-46fc-8650-9ceb7f8ca286",
   "metadata": {
    "tags": []
   },
   "source": [
    "1. <a class=\"jcecodle-mk jcecodle-mk__problem-chip\" data-problem-id=\"Vk5TA4lAoNw\" href='#jce-judge/open/Vk5TA4lAoNw' target='_self'><span>판다스 - 결측값 처리 - 위치 확인하기</span></a>\n",
    "2. <a class=\"jcecodle-mk jcecodle-mk__problem-chip\" data-problem-id=\"vhrZOf4smVM\" href='#jce-judge/open/vhrZOf4smVM' target='_self'><span>판다스 - 결측값 처리 - 결측값 있는 열 확인</span></a>\n",
    "\n",
    "3. <a class=\"jcecodle-mk jcecodle-mk__problem-chip\" data-problem-id=\"TYOgo47wp-8\" href='#jce-judge/open/TYOgo47wp-8' target='_self'><span>판다스 - 결측값 처리 - 결측값 있는 행 확인</span></a>\n",
    "\n",
    "\n"
   ]
  },
  {
   "cell_type": "code",
   "execution_count": null,
   "id": "a7aa4920-fff6-4367-8dd4-f3a23cd355be",
   "metadata": {},
   "outputs": [],
   "source": [
    "# 1. 판다스 - 결측값 처리 - 위치 확인하기\n",
    "import pandas as pd\n",
    "df = pd.DataFrame({\"a\":[1, 2, 3, 4, 5], \"c\":[3, 4, 5, 6, 7], \"e\":[5, 6, 7, 8, 9]}, dtype=float)  \n",
    "df.insert(1, \"b\", pd.Series({1: 3, 3: 5}))\n",
    "df.insert(3, \"d\", pd.Series({1: 5, 3: 7}))\n",
    "\n",
    "print(df.loc[df.isna().any(axis=1), df.isna().any(axis=0)])"
   ]
  },
  {
   "cell_type": "code",
   "execution_count": null,
   "id": "63706a19-ba14-4f83-b165-b1b03affb700",
   "metadata": {},
   "outputs": [],
   "source": [
    "# 2. 판다스 - 결측값 처리 - 결측값 있는 열 확인\n",
    "import pandas as pd\n",
    "import seaborn as sns\n",
    "df = sns.load_dataset('planets')\n",
    "\n",
    "print(df.isna().any(axis=0))"
   ]
  },
  {
   "cell_type": "code",
   "execution_count": null,
   "id": "68779bde-973b-45c2-88a6-0f2754ec45f6",
   "metadata": {},
   "outputs": [],
   "source": [
    "# 3. 판다스 - 결측값 처리 - 결측값 있는 행 확인\n",
    "import pandas as pd\n",
    "import seaborn as sns\n",
    "df = sns.load_dataset('planets')\n",
    "\n",
    "print(df.isna().any(axis=1))"
   ]
  }
 ],
 "metadata": {
  "kernelspec": {
   "display_name": "Python 3 (ipykernel)",
   "language": "python",
   "name": "python3"
  },
  "language_info": {
   "codemirror_mode": {
    "name": "ipython",
    "version": 3
   },
   "file_extension": ".py",
   "mimetype": "text/x-python",
   "name": "python",
   "nbconvert_exporter": "python",
   "pygments_lexer": "ipython3",
   "version": "3.10.10"
  }
 },
 "nbformat": 4,
 "nbformat_minor": 5
}
