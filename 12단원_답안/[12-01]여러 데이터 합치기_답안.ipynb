{
 "cells": [
  {
   "cell_type": "markdown",
   "id": "35fee16e-0e8b-4a0d-a3e7-fb1d038fec28",
   "metadata": {},
   "source": [
    "### **💯 연습문제를 풀어봅시다**\n",
    "\n"
   ]
  },
  {
   "cell_type": "markdown",
   "id": "626e55e9-3102-4be7-a23f-12562ed8d3b9",
   "metadata": {
    "tags": []
   },
   "source": [
    "1. <a class=\"jcecodle-mk jcecodle-mk__problem-chip\" data-problem-id=\"iJ3G7ROpeQg\" href='#jce-judge/open/iJ3G7ROpeQg' target='_self'><span>판다스 - 데이터 합치기 - 열 방향 (1)</span></a>\n",
    "\n",
    "1. <a class=\"jcecodle-mk jcecodle-mk__problem-chip\" data-problem-id=\"xgSM9U6IvM0\" href='#jce-judge/open/xgSM9U6IvM0' target='_self'><span>판다스 - 데이터 합치기 - 열 방향 (3)</span></a>\n",
    "\n",
    "2. <a class=\"jcecodle-mk jcecodle-mk__problem-chip\" data-problem-id=\"z_sxdOdbBF4\" href='#jce-judge/open/z_sxdOdbBF4' target='_self'><span>친구들 정보 합치기</span></a>\n",
    "\n",
    "\n",
    "2. <a class=\"jcecodle-mk jcecodle-mk__problem-chip\" data-problem-id=\"B8nXG7yv_7g\" href='#jce-judge/open/B8nXG7yv_7g' target='_self'><span>판다스 - 데이터 합치기 - 열 방향 (2)</span></a>  --> 삭제\n",
    "\n",
    "1. <a class=\"jcecodle-mk jcecodle-mk__problem-chip\" data-problem-id=\"5GM48rolCBA\" href='#jce-judge/open/5GM48rolCBA' target='_self'><span>설문조사 결과 합치기</span></a>\n",
    "\n",
    "2. <a class=\"jcecodle-mk jcecodle-mk__problem-chip\" data-problem-id=\"IZ1qk4DGlL4\" href='#jce-judge/open/IZ1qk4DGlL4' target='_self'><span>국영수, 한국사 합치기</span></a>\n",
    "\n",
    "3. <a class=\"jcecodle-mk jcecodle-mk__problem-chip\" data-problem-id=\"VvK4p--Xuow\" href='#jce-judge/open/VvK4p--Xuow' target='_self'><span>판다스 - 데이터 합치기 - 열 방향 (4)</span></a>\n",
    "\n",
    "\n",
    "\n",
    "3. <a class=\"jcecodle-mk jcecodle-mk__problem-chip\" data-problem-id=\"jscCW3ar_No\" href='#jce-judge/open/jscCW3ar_No' target='_self'><span>판다스 - 데이터 합치기 - 행 방향 (1)</span></a>\n",
    "\n",
    "1. <a class=\"jcecodle-mk jcecodle-mk__problem-chip\" data-problem-id=\"Nv1KNnuFb0E\" href='#jce-judge/open/Nv1KNnuFb0E' target='_self'><span>판다스 - 데이터 합치기 - 행 방향 (3)</span></a>\n",
    "\n",
    "2. <a class=\"jcecodle-mk jcecodle-mk__problem-chip\" data-problem-id=\"7qcV3dTA_k8\" href='#jce-judge/open/7qcV3dTA_k8' target='_self'><span>강수 예측</span></a>\n",
    "\n",
    "3. <a class=\"jcecodle-mk jcecodle-mk__problem-chip\" data-problem-id=\"eayeQepVMBc\" href='#jce-judge/open/eayeQepVMBc' target='_self'><span>행열 바꾸기</span></a>\n",
    "\n",
    "\n",
    "\n",
    "4. <a class=\"jcecodle-mk jcecodle-mk__problem-chip\" data-problem-id=\"s9hpAThbHks\" href='#jce-judge/open/s9hpAThbHks' target='_self'><span>판다스 - 데이터 합치기 - 행 방향 (2)</span></a>\n",
    "\n",
    "\n",
    "1. <a class=\"jcecodle-mk jcecodle-mk__problem-chip\" data-problem-id=\"xJM81yYpu5Y\" href='#jce-judge/open/xJM81yYpu5Y' target='_self'><span>판다스 - 데이터 합치기 - 행 방향 (4)</span></a>\n",
    "\n",
    "2. <a class=\"jcecodle-mk jcecodle-mk__problem-chip\" data-problem-id=\"FH9W86cuDrQ\" href='#jce-judge/open/FH9W86cuDrQ' target='_self'><span>인덱스 순서대로</span></a>\n",
    "\n",
    "3. <a class=\"jcecodle-mk jcecodle-mk__problem-chip\" data-problem-id=\"2WF9lV43UKs\" href='#jce-judge/open/2WF9lV43UKs' target='_self'><span>득표수 데이터 합치기</span></a>\n",
    "\n",
    "\n",
    "\n"
   ]
  },
  {
   "cell_type": "code",
   "execution_count": null,
   "id": "3e8a6b31-067e-4e24-abd6-25b526c39b56",
   "metadata": {},
   "outputs": [],
   "source": [
    "# 1. 판다스 - 데이터 합치기 - 열 방향 (1)\n",
    "import pandas as pd\n",
    "국어 = pd.Series([3, 2, 2, 1, 3, 3, 2, 1, 2, 3])   \n",
    "영어 = pd.Series([2, 1, 2, 2, 3, 3, 2, 3, 1, 2])  \n",
    "수학 = pd.Series([3, 1, 2, 2, 1, 3, 3, 2, 1, 2])\n",
    "\n",
    "df = pd.concat([국어, 영어, 수학], axis=1)\n",
    "df.columns = ['국어', '영어', '수학']\n",
    "df.index = [1, 2, 3, 4, 5, 6, 7, 8, 9, 10]\n",
    "print(df)"
   ]
  },
  {
   "cell_type": "code",
   "execution_count": null,
   "id": "ca285f22-8dbf-48be-ab00-3b1e1a2ec9dd",
   "metadata": {},
   "outputs": [],
   "source": [
    "# 2. 판다스 - 데이터 합치기 - 열 방향 (3)\n",
    "import pandas as pd\n",
    "ser1=pd.Series([1, 2, 3, 4, 5])\n",
    "ser2=pd.Series(['a', 'b', 'c', 'd', 'e'])\n",
    "ser3=pd.Series([0.1, 0.2, 0.3, 0.4, 0.5])\n",
    "\n",
    "df = pd.concat([ser1, ser2, ser3], axis=1)\n",
    "print(df)"
   ]
  },
  {
   "cell_type": "code",
   "execution_count": null,
   "id": "e38993ff-3721-48a9-802d-7186ab78b495",
   "metadata": {},
   "outputs": [],
   "source": [
    "# 3. 친구들 정보 합치기\n",
    "import pandas as pd\n",
    "ser1 = pd.Series(index=['키', '몸무게', '반', '나이' ], data=[190, 88, 1, 18], name='갑')\n",
    "ser2 = pd.Series(index=['키', '몸무게', '반'], data=[177, 74, 2], name='을')\n",
    "ser3 = pd.Series(index=['키', '몸무게', '반'], data=[153, 56, 3], name='병')\n",
    "\n",
    "df = pd.concat([ser1, ser2, ser3], axis=1)\n",
    "print(df)"
   ]
  },
  {
   "cell_type": "code",
   "execution_count": null,
   "id": "d1e3f536-da7e-4ce3-b0cc-f933c15d178f",
   "metadata": {},
   "outputs": [],
   "source": [
    "# 5. 판다스 - 데이터 합치기 - 열 방향 (2)\n"
   ]
  },
  {
   "cell_type": "code",
   "execution_count": null,
   "id": "f4fe70b4-d420-47fd-92f3-0e90808ac340",
   "metadata": {},
   "outputs": [],
   "source": [
    "# 6. 설문조사 결과 합치기\n",
    "import pandas as pd\n",
    "favor_add1 = pd.DataFrame(index=['20대이하', '30~40대', '50대 이상'], \n",
    "                        data = {'신문':[4, 16, 22], \n",
    "                               '현수막':[15, 17, 25], \n",
    "                                '기타':[11, 8, 8]})\n",
    "favor_add2 = pd.DataFrame(index=['20대이하', '30~40대', '50대 이상'], \n",
    "                        data = {'TV': [20, 26, 35], \n",
    "                               '인터넷':[50, 33, 10]})\n",
    "\n",
    "print(pd.concat([favor_add1, favor_add2], axis=1))"
   ]
  },
  {
   "cell_type": "code",
   "execution_count": null,
   "id": "d0260c12-3614-443d-a486-9f004f3b4056",
   "metadata": {},
   "outputs": [],
   "source": [
    "# 7. 국영수, 한국사 합치기\n",
    "import pandas as pd\n",
    "import random\n",
    "random.seed(20)\n",
    "kme = pd.DataFrame(index=range(1, 11), \n",
    "                     data={'국어':[random.randint(1, 100) for i in range(10)], \n",
    "                          '수학':[random.randint(1, 100) for i in range(10)], \n",
    "                          '영어':[random.randint(1, 100) for i in range(10)]})\n",
    "\n",
    "his = pd.DataFrame(index=range(1, 11), \n",
    "                     data={'한국사':[random.randint(1, 100) for i in range(10)]})\n",
    "\n",
    "print(pd.concat([kme, his], axis=1))\n"
   ]
  },
  {
   "cell_type": "code",
   "execution_count": null,
   "id": "57b37490-9564-46f8-8de8-f1969508e0cc",
   "metadata": {},
   "outputs": [],
   "source": [
    "# 8. 판다스 - 데이터 합치기 - 열 방향 (4)\n",
    "import pandas as pd\n",
    "df1 = pd.DataFrame(index=[1, 2, 3],\n",
    "                  data=[[11, 12, 13], [14, 15, 16], [17, 18, 19]], \n",
    "                  columns=[1, 2, 3])\n",
    "\n",
    "df2 = pd.DataFrame(index=[4, 5, 6], \n",
    "                  data=[[21, 22, 23], [24, 25, 26], [27, 28, 29]],\n",
    "                  columns=[4, 5, 6])\n",
    "\n",
    "df3 = pd.DataFrame(index=[2, 3, 4],\n",
    "                  data=[[31, 32, 33], [34, 35, 36], [37, 38, 39]],\n",
    "                  columns=[2, 3, 4])\n",
    "\n",
    "df = pd.concat([df1, df2, df3], axis=1)\n",
    "print(df)"
   ]
  },
  {
   "cell_type": "code",
   "execution_count": null,
   "id": "6e806326-967a-4e33-bc2c-d361cdff1110",
   "metadata": {},
   "outputs": [],
   "source": [
    "# 9. 판다스 - 데이터 합치기 - 행 방향 (1)\n",
    "import pandas as pd\n",
    "subjects = [\"국어\", \"영어\", \"수학\"]\n",
    "S1 = pd.Series(data=[3, 2, 3], index=subjects)  \n",
    "S2 = pd.Series(data=[2, 1, 1], index=subjects)  \n",
    "S3 = pd.Series(data=[2, 2, 2], index=subjects)  \n",
    "S4 = pd.Series(data=[1, 2, 2], index=subjects)\n",
    "\n",
    "S1 = S1.to_frame().T\n",
    "S2 = S2.to_frame().T\n",
    "S3 = S3.to_frame().T\n",
    "S4 = S4.to_frame().T\n",
    "\n",
    "df=pd.concat([S1, S2, S3, S4], axis=0)\n",
    "df.index = [1, 2, 3, 4]\n",
    "print(df)"
   ]
  },
  {
   "cell_type": "code",
   "execution_count": null,
   "id": "60365d70-20f1-4f73-8dd7-89cd774f5ad3",
   "metadata": {},
   "outputs": [],
   "source": [
    "# 10. 판다스 - 데이터 합치기 - 행 방향 (3)\n",
    "import pandas as pd\n",
    "ser1 = pd.Series([1, 2, 3, 4, 5])\n",
    "ser2 = pd.Series([6, 7, 8, 9, 0])\n",
    "\n",
    "df1 = ser1.to_frame().T\n",
    "df2 = ser2.to_frame().T\n",
    "\n",
    "df = pd.concat([df1, df2], axis=0)\n",
    "print(df)"
   ]
  },
  {
   "cell_type": "code",
   "execution_count": null,
   "id": "492ce507-630a-4912-8104-aeff8d939cc8",
   "metadata": {},
   "outputs": [],
   "source": [
    "# 11. 강수 예측\n",
    "import pandas as pd\n",
    "import random\n",
    "random.seed(20)\n",
    "pre_rain = pd.Series([random.choice(['O', 'X']) for i in range(10)], name='예측')\n",
    "ob_rain = pd.Series([random.choice(['O', 'X']) for i in range(10)], name='관측')\n",
    "\n",
    "df = pd.concat([pre_rain.to_frame().T, ob_rain.to_frame().T], axis=0)\n",
    "print(df)"
   ]
  },
  {
   "cell_type": "code",
   "execution_count": null,
   "id": "2c111a9e-30b0-4ac7-bd0a-496f00f15bea",
   "metadata": {},
   "outputs": [],
   "source": [
    "# 12. 행열 바꾸기\n",
    "import pandas as pd\n",
    "df = pd.DataFrame([[1, 2, 3], [4, 5, 6]])\n",
    "print(df)\n",
    "print(df.T)"
   ]
  },
  {
   "cell_type": "code",
   "execution_count": null,
   "id": "de10d130-cc29-49b0-ba9d-ba2991a65ec1",
   "metadata": {},
   "outputs": [],
   "source": [
    "# 13. 판다스 - 데이터 합치기 - 행 방향 (2)\n",
    "import pandas as pd\n",
    "df = pd.DataFrame(index=[1, 2, 3, 5, 6, 7, 8], \n",
    "                  data={\"국어\": [3, 2, 2, 1, 1, 2, 3], \n",
    "                        \"영어\": [2, 1, 2, 2, 3, 1, 2], \n",
    "                        \"수학\": [3, 1, 3, 3, 2, 1, 2]})\n",
    "S4 = pd.Series(data=[3, 3, 2], index=['국어', '영어', '수학'], name=4)\n",
    "\n",
    "S4 = S4.to_frame().T\n",
    "df1 = df.iloc[:3]\n",
    "df2 = df.iloc[3:]\n",
    "res = pd.concat([df1, S4, df2], axis=0)\n",
    "print(res)"
   ]
  },
  {
   "cell_type": "code",
   "execution_count": null,
   "id": "3e06998a-25d8-4d35-988c-e2abb7da06a4",
   "metadata": {},
   "outputs": [],
   "source": [
    "# 14. 판다스 - 데이터 합치기 - 행 방향 (4)\n",
    "import pandas as pd\n",
    "df1 = pd.DataFrame(index=['첫째주', '둘째주'], \n",
    "                  data = {'식비':[5000, 5000],\n",
    "                         '교통비':[10000, 1000]})\n",
    "df2 = pd.DataFrame(index=['둘째주', '셋째주'], \n",
    "                  data = {'교통비':[1000, 5000]})\n",
    "df3 = pd.DataFrame(index=['넷째주', '다섯째주'], \n",
    "                  data = {'식비':[5000, 15000], \n",
    "                         '관리비':[5000, 10000]})\n",
    "df = pd.concat([df1, df2, df3], axis=0)\n",
    "print(df)"
   ]
  },
  {
   "cell_type": "code",
   "execution_count": null,
   "id": "8a9e9110-bc10-4179-bbd3-30d9d2add126",
   "metadata": {},
   "outputs": [],
   "source": [
    "# 15. 인덱스 순서대로\n",
    "import pandas as pd\n",
    "df1 = pd.DataFrame([list('.##...##.'),\n",
    "                    list('####.####'),\n",
    "                    list('#########')])\n",
    "df2 = pd.DataFrame([list('.#######.'),\n",
    "                    list('..#####..'),\n",
    "                    list('...###...'),\n",
    "                    list('....#....')])\n",
    "print(pd.concat([df1, df2], axis=0, ignore_index=True))"
   ]
  },
  {
   "cell_type": "code",
   "execution_count": null,
   "id": "08f64cca-8ab9-4d54-a248-85160fe44010",
   "metadata": {},
   "outputs": [],
   "source": [
    "# 16. 득표수 데이터 합치기\n",
    "import pandas as pd\n",
    "vote1 = pd.DataFrame(index=['A학생', 'B학생'], \n",
    "                   data = {'1학년': [98, 34], \n",
    "                          '2학년': [50, 22], \n",
    "                          '3학년': [99, 28]})\n",
    "vote2 = pd.DataFrame(index=['C학생', 'D학생'], \n",
    "                   data = {'4학년': [22, 100], \n",
    "                          '5학년': [40, 10], \n",
    "                          '6학년': [33, 20]})\n",
    "print(pd.concat([vote1, vote2], axis=0))"
   ]
  }
 ],
 "metadata": {
  "kernelspec": {
   "display_name": "Python 3 (ipykernel)",
   "language": "python",
   "name": "python3"
  },
  "language_info": {
   "codemirror_mode": {
    "name": "ipython",
    "version": 3
   },
   "file_extension": ".py",
   "mimetype": "text/x-python",
   "name": "python",
   "nbconvert_exporter": "python",
   "pygments_lexer": "ipython3",
   "version": "3.10.10"
  }
 },
 "nbformat": 4,
 "nbformat_minor": 5
}
