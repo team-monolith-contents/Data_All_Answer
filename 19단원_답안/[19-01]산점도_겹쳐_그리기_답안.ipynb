{
 "cells": [
  {
   "cell_type": "markdown",
   "id": "f5552053-b44c-4422-b5f7-7c5d7d44028a",
   "metadata": {
    "tags": []
   },
   "source": [
    "### **💯 연습문제를 풀어봅시다**\n",
    "\n"
   ]
  },
  {
   "cell_type": "markdown",
   "id": "dd5bf4d1-7a1e-431c-b9c0-5b798eae52f4",
   "metadata": {
    "tags": []
   },
   "source": [
    "1. <a class=\"jcecodle-mk jcecodle-mk__problem-chip\" data-problem-id=\"6qmUmpGjm7M\" href='#jce-judge/open/6qmUmpGjm7M' target='_self'><span>산점도 중첩 - sine, cosine 그래프</span></a>\n",
    "2. <a class=\"jcecodle-mk jcecodle-mk__problem-chip\" data-problem-id=\"Z6zquYQKGBI\" href='#jce-judge/open/Z6zquYQKGBI' target='_self'><span>산점도 중첩 - sine, cosine 그래프2</span></a>\n",
    "3. <a class=\"jcecodle-mk jcecodle-mk__problem-chip\" data-problem-id=\"TngPU_CH4wE\" href='#jce-judge/open/TngPU_CH4wE' target='_self'><span>산점도 중첩 - 펭귄 부리 길이와 깊이</span></a>\n",
    "4. <a class=\"jcecodle-mk jcecodle-mk__problem-chip\" data-problem-id=\"TMClUfDB13k\" href='#jce-judge/open/TMClUfDB13k' target='_self'><span>산점도 중첩 - 펭귄 날개 길이와 몸무게</span></a>"
   ]
  },
  {
   "cell_type": "code",
   "execution_count": null,
   "id": "edef7f9f-15cb-4a57-9142-0b74ed9b37ff",
   "metadata": {},
   "outputs": [],
   "source": [
    "# 1. 산점도 중첩 - sine, cosine 그래프\n"
   ]
  },
  {
   "cell_type": "code",
   "execution_count": null,
   "id": "70a47cd9-ac6f-436a-8658-21e1f2fe8074",
   "metadata": {},
   "outputs": [],
   "source": [
    "# 2. 산점도 중첩 - sine, cosine 그래프2\n"
   ]
  },
  {
   "cell_type": "code",
   "execution_count": null,
   "id": "2d785575-8176-4c50-94c9-708c6f9030af",
   "metadata": {},
   "outputs": [],
   "source": [
    "# 3. 산점도 중첩 - 펭귄 부리 길이와 깊이\n"
   ]
  },
  {
   "cell_type": "code",
   "execution_count": null,
   "id": "3e42fb1d-3711-4e0c-836a-83427a96ce41",
   "metadata": {},
   "outputs": [],
   "source": [
    "# 4. 산점도 중첩 - 펭귄 날개 길이와 몸무게\n"
   ]
  }
 ],
 "metadata": {
  "kernelspec": {
   "display_name": "Python 3 (ipykernel)",
   "language": "python",
   "name": "python3"
  },
  "language_info": {
   "codemirror_mode": {
    "name": "ipython",
    "version": 3
   },
   "file_extension": ".py",
   "mimetype": "text/x-python",
   "name": "python",
   "nbconvert_exporter": "python",
   "pygments_lexer": "ipython3",
   "version": "3.8.10"
  }
 },
 "nbformat": 4,
 "nbformat_minor": 5
}
