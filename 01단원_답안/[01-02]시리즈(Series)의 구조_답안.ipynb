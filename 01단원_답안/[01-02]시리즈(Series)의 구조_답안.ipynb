{
 "cells": [
  {
   "cell_type": "markdown",
   "id": "6439102b-a675-4908-8a24-a415e2db0fa0",
   "metadata": {},
   "source": [
    "### **💯 연습문제를 풀어봅시다**\n",
    "\n",
    "1. <a class=\"jcecodle-mk jcecodle-mk__problem-chip\" data-problem-id=\"B67IHw_tw50\" href='#jce-judge/open/B67IHw_tw50' target='_self'><span>판다스 기초 - 시리즈 인덱스</span></a>\n",
    "\n",
    "\n",
    "2. <a class=\"jcecodle-mk jcecodle-mk__problem-chip\" data-problem-id=\"F_e2WtqdvEY\" href='#jce-judge/open/F_e2WtqdvEY' target='_self'><span>판다스 기초 - 제철과일</span></a>\n",
    "\n",
    "3. <a class=\"jcecodle-mk jcecodle-mk__problem-chip\" data-problem-id=\"X2KlLVDDz00\" href='#jce-judge/open/X2KlLVDDz00' target='_self'><span>판다스 기초 - 시리즈 이름</span></a>\n",
    "\n",
    "4. <a class=\"jcecodle-mk jcecodle-mk__problem-chip\" data-problem-id=\"4MjEBLXXxEM\" href='#jce-judge/open/4MjEBLXXxEM' target='_self'><span>판다스 기초 - 시리즈 요소 확인하기</span></a>"
   ]
  },
  {
   "cell_type": "code",
   "execution_count": null,
   "id": "48c2933c-c053-4670-a7ad-00d196133696",
   "metadata": {},
   "outputs": [],
   "source": [
    "# 1. 판다스 기초 - 시리즈 인덱스\n",
    "import pandas as pd\n",
    "mySeries = pd.Series({\"첫번째\": 1, \"두번째\": 2, \"세번째\": 3})\n",
    "\n",
    "print(mySeries.index.tolist())"
   ]
  },
  {
   "cell_type": "code",
   "execution_count": null,
   "id": "cece084a-e122-4bd2-a9d8-af220aa56a6b",
   "metadata": {},
   "outputs": [],
   "source": [
    "# 2. 판다스 기초 - 제철과일\n",
    "import pandas as pd\n",
    "myFruits = pd.Series({'봄':'딸기', '여름':'수박', '가을':'무화과', '겨울':'귤'})\n",
    "\n",
    "idx = input()\n",
    "print(myFruits[idx])"
   ]
  },
  {
   "cell_type": "code",
   "execution_count": null,
   "id": "8b9ba794-3fbb-4724-9be4-80d46f0e4d3f",
   "metadata": {},
   "outputs": [],
   "source": [
    "# 3. 판다스 기초 - 시리즈 이름름\n",
    "import pandas as pd\n",
    "mySeries = pd.Series({\"이름\": '김철수', \"키\": 170, \"몸무게\": 80}, name='인적사항')\n",
    "\n",
    "print(mySeries.name)"
   ]
  },
  {
   "cell_type": "code",
   "execution_count": null,
   "id": "7f411009-b90d-49f7-a9b0-567523018c8a",
   "metadata": {},
   "outputs": [],
   "source": [
    "# 4. 판다스 기초 - 시리즈 요소 확인하기\n",
    "import pandas as pd\n",
    "mySeries = pd.Series({\"i1\": 3, \"i2\": 4, \"i3\": '오'}, name='number')\n",
    "\n",
    "print(list(mySeries.index))\n",
    "print(list(mySeries.values))\n",
    "print(mySeries.name)"
   ]
  }
 ],
 "metadata": {
  "kernelspec": {
   "display_name": "Python 3 (ipykernel)",
   "language": "python",
   "name": "python3"
  },
  "language_info": {
   "codemirror_mode": {
    "name": "ipython",
    "version": 3
   },
   "file_extension": ".py",
   "mimetype": "text/x-python",
   "name": "python",
   "nbconvert_exporter": "python",
   "pygments_lexer": "ipython3",
   "version": "3.10.10"
  }
 },
 "nbformat": 4,
 "nbformat_minor": 5
}
