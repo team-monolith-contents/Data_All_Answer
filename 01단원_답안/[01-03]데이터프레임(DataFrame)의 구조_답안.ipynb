{
 "cells": [
  {
   "cell_type": "markdown",
   "id": "3645ed05-ebe1-4eba-bb1c-2308c799465f",
   "metadata": {},
   "source": [
    "### **💯 연습문제를 풀어봅시다**\n",
    "\n",
    "1. <a class=\"jcecodle-mk jcecodle-mk__problem-chip\" data-problem-id=\"Jj4KxNJ4NZE\" href='#jce-judge/open/Jj4KxNJ4NZE' target='_self'><span>판다스 기초 - column 확인하기</span></a>\n",
    "\n",
    "2. <a class=\"jcecodle-mk jcecodle-mk__problem-chip\" data-problem-id=\"nyza019DULk\" href='#jce-judge/open/nyza019DULk' target='_self'><span>판다스 기초 - data 확인하기</span></a>\n",
    "\n",
    "\n",
    "3. <a class=\"jcecodle-mk jcecodle-mk__problem-chip\" data-problem-id=\"JUghSoAbOM0\" href='#jce-judge/open/JUghSoAbOM0' target='_self'><span>판다스 기초 - index 확인하기</span></a>\n",
    "\n",
    "\n",
    "4. <a class=\"jcecodle-mk jcecodle-mk__problem-chip\" data-problem-id=\"kFRTYiv15_0\" href='#jce-judge/open/kFRTYiv15_0' target='_self'><span>판다스 기초 - 인덱스, 열, 데이터 리스트</span></a>\n",
    "\n",
    "\n",
    "5. <a class=\"jcecodle-mk jcecodle-mk__problem-chip\" data-problem-id=\"MiKGzQxQIZ4\" href='#jce-judge/open/MiKGzQxQIZ4' target='_self'><span>판다스 기초 - 데이터프레임 요소 확인</span></a>\n",
    "\n",
    "6. <a class=\"jcecodle-mk jcecodle-mk__problem-chip\" data-problem-id=\"EkzhU4G6u90\" href='#jce-judge/open/EkzhU4G6u90' target='_self'><span>판다스 기초 - 옷 색깔</span></a>\n"
   ]
  },
  {
   "cell_type": "code",
   "execution_count": null,
   "id": "bad508c4-7719-4ba3-87c3-cd2cc025d9b3",
   "metadata": {},
   "outputs": [],
   "source": [
    "# 1. 판다스 기초 - column 확인하기\n",
    "import pandas as pd\n",
    "nations = {'영국':{'수도':'런던', '인구수':'6천만'}, \n",
    "           '한국':{'수도':'서울', '인구수':'5천만'}, \n",
    "           '프랑스':{'수도':'파리', '인구수':'6천만'}}\n",
    "df = pd.DataFrame(nations)\n",
    "\n",
    "print(df.columns)"
   ]
  },
  {
   "cell_type": "code",
   "execution_count": null,
   "id": "7b44d5a5-442f-4983-9bde-f42a1c1b4ddb",
   "metadata": {},
   "outputs": [],
   "source": [
    "# 2. 판다스 기초 - data 확인하기\n",
    "import pandas as pd\n",
    "nations = {'영국':{'수도':'런던', '인구수':'6천만'}, \n",
    "           '한국':{'수도':'서울', '인구수':'5천만'}, \n",
    "           '프랑스':{'수도':'파리', '인구수':'6천만'}}\n",
    "df = pd.DataFrame(nations)\n",
    "\n",
    "print(df.values)"
   ]
  },
  {
   "cell_type": "code",
   "execution_count": null,
   "id": "f72a352b-f971-4213-a8c1-96830abfa37a",
   "metadata": {},
   "outputs": [],
   "source": [
    "# 3. 판다스 기초 - index 확인하기\n",
    "import pandas as pd\n",
    "nations = {'영국':{'수도':'런던', '인구수':'6천만'}, \n",
    "           '한국':{'수도':'서울', '인구수':'5천만'}, \n",
    "           '프랑스':{'수도':'파리', '인구수':'6천만'}}\n",
    "df = pd.DataFrame(nations)\n",
    "\n",
    "print(df.index)"
   ]
  },
  {
   "cell_type": "code",
   "execution_count": null,
   "id": "abc7b726-52ee-4ae8-85c7-870e120d77e1",
   "metadata": {},
   "outputs": [],
   "source": [
    "# 4. 판다스 기초 - 인덱스, 열, 데이터 리스트\n",
    "import seaborn as sns\n",
    "df = sns.load_dataset('flights')[:5]\n",
    "\n",
    "print(df.index.tolist())\n",
    "print(df.columns.tolist())\n",
    "print(df.values.tolist())"
   ]
  },
  {
   "cell_type": "code",
   "execution_count": null,
   "id": "1f0a257c-a6db-4e4d-8e56-f64177a82231",
   "metadata": {},
   "outputs": [],
   "source": [
    "# 5. 판다스 기초 - 데이터프레임 요소 확인\n",
    "import pandas as pd\n",
    "items = {'price': {'apple': 1000, 'cup': 2000, 'pen': 500, 'banana': 4000}, \n",
    "         'pcs': {'kiwi': \"한 개\", 'cup': \"한 개\", 'pen': \"네 개\", 'candy': \"세 개\"}}\n",
    "df = pd.DataFrame(items)\n",
    "\n",
    "print(df.columns.tolist())"
   ]
  },
  {
   "cell_type": "code",
   "execution_count": null,
   "id": "7e29026f-e20a-4114-a410-05845638d635",
   "metadata": {},
   "outputs": [],
   "source": [
    "# 6. 판다스 기초 - 옷 색깔\n",
    "import pandas as pd\n",
    "clothes = {'치마':{'빨강':'3개', '노랑':'2개', '초록':'5개'}, \n",
    "          '셔츠':{'빨강':'0개', '노랑':'1개', '초록':'4개'}, \n",
    "          '신발':{'빨강':'3개', '노랑':'0개', '초록':'0개'}}\n",
    "df = pd.DataFrame(clothes)\n",
    "\n",
    "print(df.index.tolist())"
   ]
  }
 ],
 "metadata": {
  "kernelspec": {
   "display_name": "Python 3 (ipykernel)",
   "language": "python",
   "name": "python3"
  },
  "language_info": {
   "codemirror_mode": {
    "name": "ipython",
    "version": 3
   },
   "file_extension": ".py",
   "mimetype": "text/x-python",
   "name": "python",
   "nbconvert_exporter": "python",
   "pygments_lexer": "ipython3",
   "version": "3.10.10"
  }
 },
 "nbformat": 4,
 "nbformat_minor": 5
}
