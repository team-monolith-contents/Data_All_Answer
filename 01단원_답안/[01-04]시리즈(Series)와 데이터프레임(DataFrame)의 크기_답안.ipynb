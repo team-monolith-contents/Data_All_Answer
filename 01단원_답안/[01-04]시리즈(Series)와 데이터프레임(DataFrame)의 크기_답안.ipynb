{
 "cells": [
  {
   "cell_type": "markdown",
   "id": "4ba36263-a45e-433d-b113-72d48614f1be",
   "metadata": {},
   "source": [
    "### **💯 연습문제를 풀어봅시다**\n",
    "\n",
    "1. <a class=\"jcecodle-mk jcecodle-mk__problem-chip\" data-problem-id=\"ylLF1ww29MM\" href='#jce-judge/open/ylLF1ww29MM' target='_self'><span>판다스 기초 - 시리즈 길이 확인하기</span></a>\n",
    "2. <a class=\"jcecodle-mk jcecodle-mk__problem-chip\" data-problem-id=\"clgT71wmE0Q\" href='#jce-judge/open/clgT71wmE0Q' target='_self'><span>판다스 기초 - 데이터프레임 크기 확인</span></a>\n",
    "\n",
    "3. <a class=\"jcecodle-mk jcecodle-mk__problem-chip\" data-problem-id=\"1rDA3PTfNPM\" href='#jce-judge/open/1rDA3PTfNPM' target='_self'><span>판다스 기초 - 데이터 프레임 크기 확인(2)</span></a>\n",
    "\n",
    "4. <a class=\"jcecodle-mk jcecodle-mk__problem-chip\" data-problem-id=\"xkdpBYcXK5A\" href='#jce-judge/open/xkdpBYcXK5A' target='_self'><span>판다스 기초 - 데이터의 개수</span></a>\n",
    "\n",
    "5. <a class=\"jcecodle-mk jcecodle-mk__problem-chip\" data-problem-id=\"bwEFGVtzsfw\" href='#jce-judge/open/bwEFGVtzsfw' target='_self'><span>판다스 기초 - 열의 개수</span></a>\n"
   ]
  },
  {
   "cell_type": "code",
   "execution_count": null,
   "id": "a367fa4f-76e4-4f09-8213-adb5dbb2d117",
   "metadata": {},
   "outputs": [],
   "source": [
    "# 1. 판다스 기초 - 시리즈 길이 확인하기\n",
    "import pandas as pd\n",
    "df = pd.Series([0, 1, 2, 3, 4, 5, 6, 7, 8, 9])\n",
    "\n",
    "print(df.shape[0])"
   ]
  },
  {
   "cell_type": "code",
   "execution_count": null,
   "id": "1cb92f7a-ecb6-4592-ad63-52615c346f8c",
   "metadata": {},
   "outputs": [],
   "source": [
    "# 2. 판다스 기초 - 데이터 프레임 크기 확인\n",
    "import pandas as pd\n",
    "myFavoriteCity = pd.DataFrame(data=[['서울', '뉴욕'], ['대전', '시카고'], ['부산', 'LA']],\n",
    "                             index=['1순위', '2순위', '3순위'], \n",
    "                             columns=['대한민국', '미국'])\n",
    "\n",
    "n = int(input())\n",
    "if n==0:\n",
    "    print(myFavoriteCity.shape[0])\n",
    "elif n==1:\n",
    "    print(myFavoriteCity.shape[1])"
   ]
  },
  {
   "cell_type": "code",
   "execution_count": null,
   "id": "d64d15ce-50d5-44b0-8d4b-1efa74611b60",
   "metadata": {},
   "outputs": [],
   "source": [
    "# 3. 판다스 기초 - 데이터 프레임 크기 확인(2)\n",
    "import seaborn as sns\n",
    "df = sns.load_dataset('diamonds')\n",
    "\n",
    "print(df.shape)"
   ]
  },
  {
   "cell_type": "code",
   "execution_count": null,
   "id": "026f2920-00d4-4724-9bed-38e444734e3e",
   "metadata": {},
   "outputs": [],
   "source": [
    "# 4. 판다스 기초 - 데이터의 개수\n",
    "import seaborn as sns\n",
    "sns.get_dataset_names()\n",
    "df = sns.load_dataset('glue')\n",
    "\n",
    "print(df.shape[0])"
   ]
  },
  {
   "cell_type": "code",
   "execution_count": null,
   "id": "3c742bc0-62f9-44ed-ac72-4369b3aed4c6",
   "metadata": {},
   "outputs": [],
   "source": [
    "# 5. 판다스 기초 - 열의 개수\n",
    "import pandas as pd\n",
    "items = {'price': {'apple': 1000, 'cup': 2000, 'pen': 500, 'banana': 4000}, \n",
    "         'pcs': {'kiwi': \"한 개\", 'cup': \"한 개\", 'pen': \"네 개\", 'candy': \"세 개\"}}\n",
    "df = pd.DataFrame(items)\n",
    "\n",
    "print(df.shape[1])"
   ]
  }
 ],
 "metadata": {
  "kernelspec": {
   "display_name": "Python 3 (ipykernel)",
   "language": "python",
   "name": "python3"
  },
  "language_info": {
   "codemirror_mode": {
    "name": "ipython",
    "version": 3
   },
   "file_extension": ".py",
   "mimetype": "text/x-python",
   "name": "python",
   "nbconvert_exporter": "python",
   "pygments_lexer": "ipython3",
   "version": "3.10.10"
  }
 },
 "nbformat": 4,
 "nbformat_minor": 5
}
