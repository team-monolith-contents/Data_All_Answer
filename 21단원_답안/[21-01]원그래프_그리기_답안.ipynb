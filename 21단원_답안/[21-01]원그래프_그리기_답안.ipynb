{
 "cells": [
  {
   "cell_type": "markdown",
   "id": "8dc03ad2-3e29-4ce5-93f9-1ed9e9bdead3",
   "metadata": {
    "tags": []
   },
   "source": [
    "### **💯 연습문제를 풀어봅시다**\n",
    "\n"
   ]
  },
  {
   "cell_type": "markdown",
   "id": "4aa39660-b43b-4755-a429-ce53e17748e4",
   "metadata": {
    "tags": []
   },
   "source": [
    "1. <a class=\"jcecodle-mk jcecodle-mk__problem-chip\" data-problem-id=\"yJNsKxhPy2k\" href='#jce-judge/open/yJNsKxhPy2k' target='_self'><span>원그래프 그리기 - 하루일과</span></a>\n",
    "2. <a class=\"jcecodle-mk jcecodle-mk__problem-chip\" data-problem-id=\"nVy3A-rDz7k\" href='#jce-judge/open/nVy3A-rDz7k' target='_self'><span>원그래프 그리기 - 닭가슴살 열량 분포</span></a>\n",
    "3. <a class=\"jcecodle-mk jcecodle-mk__problem-chip\" data-problem-id=\"Qj8yA_9g3vI\" href='#jce-judge/open/Qj8yA_9g3vI' target='_self'><span>원그래프 그리기 - 우리나라 인구분포</span></a>\n",
    "4. <a class=\"jcecodle-mk jcecodle-mk__problem-chip\" data-problem-id=\"uf1PiXwR4Ts\" href='#jce-judge/open/uf1PiXwR4Ts' target='_self'><span>원그래프 꾸미기 - 닭가슴살 열량 분포</span></a>\n",
    "5. <a class=\"jcecodle-mk jcecodle-mk__problem-chip\" data-problem-id=\"nrY9TWfZX9g\" href='#jce-judge/open/nrY9TWfZX9g' target='_self'><span>원그래프 꾸미기 - 우리나라 인구분포</span></a>"
   ]
  },
  {
   "cell_type": "code",
   "execution_count": null,
   "id": "a149bf93-dde2-458a-8197-6a8b6a93ef3b",
   "metadata": {},
   "outputs": [],
   "source": [
    "# 1. 원그래프 그리기 - 하루일과\n"
   ]
  },
  {
   "cell_type": "code",
   "execution_count": null,
   "id": "6a7905c4-98ba-41f5-8c82-19021a37696c",
   "metadata": {},
   "outputs": [],
   "source": [
    "# 2. 원그래프 그리기 - 닭가슴살 열량 분포\n"
   ]
  },
  {
   "cell_type": "code",
   "execution_count": null,
   "id": "176fd0ca-4ae5-4324-8e12-f5160903385e",
   "metadata": {},
   "outputs": [],
   "source": [
    "# 3. 원그래프 그리기 - 우리나라 인구분포\n"
   ]
  },
  {
   "cell_type": "code",
   "execution_count": null,
   "id": "8f00a907-da52-4899-a555-1f075bcb811e",
   "metadata": {},
   "outputs": [],
   "source": [
    "# 4. 원그래프 꾸미기 - 닭가슴살 열량 분포\n"
   ]
  },
  {
   "cell_type": "code",
   "execution_count": null,
   "id": "b896f704-21be-4aee-97be-d91b99eca3dd",
   "metadata": {},
   "outputs": [],
   "source": [
    "# 5. 원그래프 꾸미기 - 우리나라 인구분포\n"
   ]
  }
 ],
 "metadata": {
  "kernelspec": {
   "display_name": "Python 3 (ipykernel)",
   "language": "python",
   "name": "python3"
  },
  "language_info": {
   "codemirror_mode": {
    "name": "ipython",
    "version": 3
   },
   "file_extension": ".py",
   "mimetype": "text/x-python",
   "name": "python",
   "nbconvert_exporter": "python",
   "pygments_lexer": "ipython3",
   "version": "3.8.10"
  }
 },
 "nbformat": 4,
 "nbformat_minor": 5
}
