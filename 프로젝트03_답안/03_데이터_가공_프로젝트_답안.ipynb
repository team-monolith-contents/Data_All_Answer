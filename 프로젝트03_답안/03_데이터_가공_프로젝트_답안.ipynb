{
 "cells": [
  {
   "cell_type": "markdown",
   "id": "31bc57b8-ee01-4fba-967c-59b833719cee",
   "metadata": {},
   "source": [
    "\n",
    "<a class=\"jcecodle-mk jcecodle-mk__problem-chip\" data-problem-id=\"n7JXblBYBxo\" href='#jce-judge/open/n7JXblBYBxo' target='_self'><span>판다스 - 데이터 가공 프로젝트 - 문제1</span></a>\n"
   ]
  },
  {
   "cell_type": "markdown",
   "id": "85e1bb7e-5146-4c41-bbec-7648583f4ace",
   "metadata": {},
   "source": [
    "\n",
    "<a class=\"jcecodle-mk jcecodle-mk__problem-chip\" data-problem-id=\"362vR3-jZY8\" href='#jce-judge/open/362vR3-jZY8' target='_self'><span>판다스 - 데이터 가공 프로젝트 - 문제2</span></a>\n"
   ]
  },
  {
   "cell_type": "markdown",
   "id": "9ccde542-8b18-48aa-a0a8-bfb399b56f35",
   "metadata": {},
   "source": [
    "<a class=\"jcecodle-mk jcecodle-mk__problem-chip\" data-problem-id=\"EG1FvEm74pI\" href='#jce-judge/open/EG1FvEm74pI' target='_self'><span>판다스 - 데이터 가공 프로젝트 - 문제3</span></a>\n"
   ]
  },
  {
   "cell_type": "markdown",
   "id": "90c4133e-f0a4-4243-85bf-4f1f85c9e731",
   "metadata": {},
   "source": [
    "<a class=\"jcecodle-mk jcecodle-mk__problem-chip\" data-problem-id=\"270tyrqTHT4\" href='#jce-judge/open/270tyrqTHT4' target='_self'><span>판다스 - 데이터 가공 프로젝트 - 문제4</span></a>\n"
   ]
  },
  {
   "cell_type": "markdown",
   "id": "325438aa-5721-4db6-b2cd-dbec893a3eca",
   "metadata": {},
   "source": [
    "\n",
    "\n",
    "<a class=\"jcecodle-mk jcecodle-mk__problem-chip\" data-problem-id=\"ZC_uuGtxGNM\" href='#jce-judge/open/ZC_uuGtxGNM' target='_self'><span>판다스 - 데이터 가공 프로젝트 - 문제5</span></a>\n"
   ]
  },
  {
   "cell_type": "code",
   "execution_count": null,
   "id": "cda8d66c-501c-48dd-b44d-b4d9247fd204",
   "metadata": {},
   "outputs": [],
   "source": [
    "# 문제 1\n",
    "import pandas as pd\n",
    "import seaborn as sns\n",
    "\n",
    "# 타이타닉 데이터\n",
    "df = sns.load_dataset('titanic')[[\"survived\", \"age\", \"fare\", \"class\", \"who\", \"deck\", \"embark_town\", \"alone\"]]\n",
    "\n",
    "########## 여기에 코딩해주세요. ##########\n",
    "\n",
    "print(df.describe(include='category'))\n",
    "\n",
    "########################################"
   ]
  },
  {
   "cell_type": "code",
   "execution_count": null,
   "id": "9d9e44fc-7d0e-45dd-b7e9-d879432a019e",
   "metadata": {},
   "outputs": [],
   "source": [
    "# 문제 2\n",
    "import pandas as pd\n",
    "import seaborn as sns\n",
    "\n",
    "# 타이타닉 데이터\n",
    "df = sns.load_dataset('titanic')[[\"survived\", \"age\", \"fare\", \"class\", \"who\", \"deck\", \"embark_town\", \"alone\"]]\n",
    "\n",
    "########## 여기에 코딩해주세요. ##########\n",
    "\n",
    "df.drop(columns='deck', inplace=True)\n",
    "df.dropna(subset=[\"age\"], inplace=True)\n",
    "\n",
    "df.info()\n",
    "########################################"
   ]
  },
  {
   "cell_type": "code",
   "execution_count": null,
   "id": "443d605d-46a2-446d-a142-094ea43c836f",
   "metadata": {},
   "outputs": [],
   "source": [
    "# 문제 3\n",
    "import pandas as pd\n",
    "import seaborn as sns\n",
    "\n",
    "# 타이타닉 데이터\n",
    "df = sns.load_dataset('titanic')[[\"survived\", \"age\", \"fare\", \"class\", \"who\", \"deck\", \"embark_town\", \"alone\"]]\n",
    "\n",
    "########## 여기에 코딩해주세요. ##########\n",
    "\n",
    "df.drop(columns='deck', inplace=True)\n",
    "df.dropna(subset=[\"age\"], inplace=True)\n",
    "df.fillna({'embark_town':'Southampton'}, inplace=True)\n",
    "\n",
    "df.info()\n",
    "########################################"
   ]
  },
  {
   "cell_type": "code",
   "execution_count": null,
   "id": "084654f7-aba5-4301-acf7-c81662c7a745",
   "metadata": {},
   "outputs": [],
   "source": [
    "# 문제 4\n",
    "import pandas as pd\n",
    "import seaborn as sns\n",
    "\n",
    "# 타이타닉 데이터\n",
    "df = sns.load_dataset('titanic')[[\"survived\", \"age\", \"fare\", \"class\", \"who\", \"deck\", \"embark_town\", \"alone\"]]\n",
    "\n",
    "########## 여기에 코딩해주세요. ##########\n",
    "\n",
    "df.drop(columns='deck', inplace=True)\n",
    "df.dropna(subset=[\"age\"], inplace=True)\n",
    "df.fillna({'embark_town':'Southampton'}, inplace=True)\n",
    "\n",
    "print(df.groupby('survived').describe(include='category'))\n",
    "\n",
    "########################################"
   ]
  },
  {
   "cell_type": "code",
   "execution_count": null,
   "id": "3f2f5810-1f49-47c7-956e-8c46a04cfa0a",
   "metadata": {},
   "outputs": [],
   "source": [
    "# 문제 5\n",
    "import pandas as pd\n",
    "import seaborn as sns\n",
    "\n",
    "# 타이타닉 데이터\n",
    "df = sns.load_dataset('titanic')[[\"survived\", \"age\", \"fare\", \"class\", \"who\", \"deck\", \"embark_town\", \"alone\"]]\n",
    "\n",
    "########## 여기에 코딩해주세요. ##########\n",
    "\n",
    "df.drop(columns='deck', inplace=True)\n",
    "df.dropna(subset=[\"age\"], inplace=True)\n",
    "df.fillna({'embark_town':'Southampton'}, inplace=True)\n",
    "\n",
    "print(df.groupby('class')['survived'].describe())\n",
    "\n",
    "########################################"
   ]
  }
 ],
 "metadata": {
  "kernelspec": {
   "display_name": "Python 3 (ipykernel)",
   "language": "python",
   "name": "python3"
  },
  "language_info": {
   "codemirror_mode": {
    "name": "ipython",
    "version": 3
   },
   "file_extension": ".py",
   "mimetype": "text/x-python",
   "name": "python",
   "nbconvert_exporter": "python",
   "pygments_lexer": "ipython3",
   "version": "3.10.10"
  }
 },
 "nbformat": 4,
 "nbformat_minor": 5
}
