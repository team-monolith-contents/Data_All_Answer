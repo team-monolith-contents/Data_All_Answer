{
 "cells": [
  {
   "cell_type": "markdown",
   "id": "39d8bcb0-45cc-475b-a0bf-6242a3b7983f",
   "metadata": {},
   "source": [
    "### **💯 연습문제를 풀어봅시다**\n",
    "\n"
   ]
  },
  {
   "cell_type": "markdown",
   "id": "8d0dd8fe-cfd0-4ccb-a3d6-fbf7199fbb98",
   "metadata": {
    "tags": []
   },
   "source": [
    "1. <a class=\"jcecodle-mk jcecodle-mk__problem-chip\" data-problem-id=\"382GQJkEmuY\" href='#jce-judge/open/382GQJkEmuY' target='_self'><span>판다스 - 데이터 연산하기 - count</span></a>\n",
    "1. <a class=\"jcecodle-mk jcecodle-mk__problem-chip\" data-problem-id=\"9S_mUPGOUuM\" href='#jce-judge/open/9S_mUPGOUuM' target='_self'><span>열별 데이터 개수</span></a>\n",
    "2. <a class=\"jcecodle-mk jcecodle-mk__problem-chip\" data-problem-id=\"Ko8ZZWsvwZ4\" href='#jce-judge/open/Ko8ZZWsvwZ4' target='_self'><span>가계부 데이터 개수 (1)</span></a>\n",
    "2. <a class=\"jcecodle-mk jcecodle-mk__problem-chip\" data-problem-id=\"0JU_Sr_2GP0\" href='#jce-judge/open/0JU_Sr_2GP0' target='_self'><span>판다스 - 데이터 연산하기 - sum (1)</span></a>\n",
    "3. <a class=\"jcecodle-mk jcecodle-mk__problem-chip\" data-problem-id=\"nOauwzr8TZU\" href='#jce-judge/open/nOauwzr8TZU' target='_self'><span>판다스 - 데이터 연산하기 - sum (2)</span></a>\n",
    "1. <a class=\"jcecodle-mk jcecodle-mk__problem-chip\" data-problem-id=\"Clzp33-7Wd4\" href='#jce-judge/open/Clzp33-7Wd4' target='_self'><span>광고 매체 저촉 인원 합계</span></a>\n",
    "2. <a class=\"jcecodle-mk jcecodle-mk__problem-chip\" data-problem-id=\"FC1e2M2CMtw\" href='#jce-judge/open/FC1e2M2CMtw' target='_self'><span>전교회장 후보 득표수 합계</span></a>\n",
    "3. <a class=\"jcecodle-mk jcecodle-mk__problem-chip\" data-problem-id=\"l_FykgOTPIM\" href='#jce-judge/open/l_FykgOTPIM' target='_self'><span>전과목 성적 합계</span></a>\n",
    "6. <a class=\"jcecodle-mk jcecodle-mk__problem-chip\" data-problem-id=\"C9BqQGWVB0Y\" href='#jce-judge/open/C9BqQGWVB0Y' target='_self'><span>득표수 정보 찾아 변경하기</span></a>\n",
    "1. <a class=\"jcecodle-mk jcecodle-mk__problem-chip\" data-problem-id=\"XTOwDbSGsZ8\" href='#jce-judge/open/XTOwDbSGsZ8' target='_self'><span>지출 최소인 주</span></a>"
   ]
  },
  {
   "cell_type": "code",
   "execution_count": null,
   "id": "cd6d3c72-e905-478b-8d4f-0d6592898be5",
   "metadata": {},
   "outputs": [],
   "source": [
    "# 1. 판다스 - 데이터 연산하기 - count\n",
    "import pandas as pd\n",
    "df = pd.DataFrame([[0, 2, 4, None], [5, None, 8, None]])\n",
    "\n",
    "idx = int(input())\n",
    "print(df.loc[idx].count())"
   ]
  },
  {
   "cell_type": "code",
   "execution_count": null,
   "id": "6c6edee0-6e19-4147-88ea-a871731128c2",
   "metadata": {},
   "outputs": [],
   "source": [
    "# 2. 열별 데이터 개수\n",
    "import pandas as pd\n",
    "idx = ['i1', 'i2', 'i3', 'i4', 'i5', 'i6', 'i7']\n",
    "items = {'col1':[1, 2, 3, 4, 5, 6, 7], \n",
    "         'col2':['a', None, 'c', 'd', 'e', 'f', 'g'], \n",
    "         'col3':[0.7, None, 0.5, 0.4, 0.3, 0.2, 0.1], \n",
    "         'col4':['f', 'm', 'f', 'f', None, None, 'm'], \n",
    "         'col5':[None, None, 6, 6, None, 7, None]}\n",
    "df = pd.DataFrame(index=idx, data=items)\n",
    "\n",
    "print(df.count())"
   ]
  },
  {
   "cell_type": "code",
   "execution_count": null,
   "id": "a79ada8b-4e43-44de-b45b-129d2a37d103",
   "metadata": {},
   "outputs": [],
   "source": [
    "# 3. 가계부 데이터 개수 (1)\n",
    "import pandas as pd\n",
    "week = ['첫째주', '둘째주', '셋째주', '넷째주']\n",
    "acc = [[5000, None, None, 2000], [None, None, 50000, None], [20000, None, 40000, 300000], [50000, 2000, 30000, 100000]]\n",
    "col = ['식비','교통비', '관리비', '기타비용']\n",
    "house_acc = pd.DataFrame(index=week, columns=col, data=acc)\n",
    "\n",
    "print(house_acc.count(axis=1))"
   ]
  },
  {
   "cell_type": "code",
   "execution_count": null,
   "id": "56d36090-1437-483b-bbc2-5470f1b7c179",
   "metadata": {},
   "outputs": [],
   "source": [
    "# 4. 판다스 - 데이터 연산하기 - sum (1)\n",
    "import pandas as pd\n",
    "df = pd.DataFrame([[0, 2, 4, None], [5, None, 8, 4], [5, 1, 0, None]])\n",
    "\n",
    "n = int(input())\n",
    "print(df.sum(axis=n))"
   ]
  },
  {
   "cell_type": "code",
   "execution_count": null,
   "id": "b16c0dba-7d18-436e-b9a1-cc29f9d09bae",
   "metadata": {},
   "outputs": [],
   "source": [
    "# 5. 판다스 - 데이터 연산하기 - sum (2)\n",
    "import pandas as pd\n",
    "df = pd.DataFrame([[0, 2, 4, None], [5, None, 8, 4], [5, 1, 0, None]])\n",
    "\n",
    "print(df.sum().sum())"
   ]
  },
  {
   "cell_type": "code",
   "execution_count": null,
   "id": "273a3696-de8e-43d2-97d6-839db282b6a2",
   "metadata": {},
   "outputs": [],
   "source": [
    "# 6. 광고 매체 저촉 인원 합계\n",
    "import pandas as pd\n",
    "exposure_add = pd.DataFrame(index=['20대이하', '30~40대', '50대 이상'], \n",
    "                        data = {'TV': [20, 26, 35], \n",
    "                               '인터넷':[50, 33, 10], \n",
    "                               '신문':[4, 16, 22], \n",
    "                               '현수막':[15, 17, 25], \n",
    "                                '기타':[11, 8, 8]})\n",
    "\n",
    "print(exposure_add.sum())"
   ]
  },
  {
   "cell_type": "code",
   "execution_count": null,
   "id": "eda98897-6b1c-4739-befd-1038cf1d6e05",
   "metadata": {},
   "outputs": [],
   "source": [
    "# 7. 전교회장 후보 득표수 합계\n",
    "import pandas as pd\n",
    "vote = pd.DataFrame(index=['A학생', 'B학생', 'C학생', 'D학생'], \n",
    "                   data = {'1학년': [98, 34, 22, 100], \n",
    "                          '2학년': [50, 22, 40, 10], \n",
    "                          '3학년': [99, 28, 33, 20]})\n",
    "\n",
    "print(vote.sum(axis=1))"
   ]
  },
  {
   "cell_type": "code",
   "execution_count": null,
   "id": "b7874a26-9368-4491-815d-ae9e555fe600",
   "metadata": {},
   "outputs": [],
   "source": [
    "# 8. 전과목 성적 합계\n",
    "import pandas as pd\n",
    "import random\n",
    "random.seed(20)\n",
    "scores = pd.DataFrame(index=range(1, 11), \n",
    "                     data={'국어':[random.randint(1, 100) for i in range(10)], \n",
    "                          '수학':[random.randint(1, 100) for i in range(10)], \n",
    "                          '영어':[random.randint(1, 100) for i in range(10)], \n",
    "                          '한국사':[random.randint(1, 100) for i in range(10)]})\n",
    "\n",
    "print(scores.loc[4].sum())"
   ]
  },
  {
   "cell_type": "code",
   "execution_count": null,
   "id": "ae4063b0-c907-4ef6-b912-c5d9554de3e2",
   "metadata": {},
   "outputs": [],
   "source": [
    "# 9. 득표수 정보 찾아 변경하기\n",
    "import pandas as pd\n",
    "vote = pd.DataFrame(index=['A학생', 'B학생', 'C학생', 'D학생'], \n",
    "                   data = {'1학년': [98, 34, 22, 100], \n",
    "                          '2학년': [50, None, 40, 10], \n",
    "                          '3학년': [99, 28, 33, 20]})\n",
    "sum = vote.sum().sum()\n",
    "print(vote.fillna(600-sum))"
   ]
  },
  {
   "cell_type": "code",
   "execution_count": null,
   "id": "973f80fe-a749-4361-a7b3-57ac8aca7f03",
   "metadata": {},
   "outputs": [],
   "source": [
    "# 10. 지출 최소인 주\n",
    "import pandas as pd\n",
    "week = ['첫째주', '둘째주', '셋째주', '넷째주']\n",
    "acc = [[5000, 10000, 100000, 2000], [5000, 1000, 50000, 30000], [20000, 5000, 40000, 300000], [50000, 2000, 30000, 100000]]\n",
    "col = ['식비','교통비', '관리비', '기타비용']\n",
    "house_acc = pd.DataFrame(index=week, columns=col, data=acc)\n",
    "\n",
    "print(house_acc.sum(axis=1).idxmin())"
   ]
  }
 ],
 "metadata": {
  "kernelspec": {
   "display_name": "Python 3 (ipykernel)",
   "language": "python",
   "name": "python3"
  },
  "language_info": {
   "codemirror_mode": {
    "name": "ipython",
    "version": 3
   },
   "file_extension": ".py",
   "mimetype": "text/x-python",
   "name": "python",
   "nbconvert_exporter": "python",
   "pygments_lexer": "ipython3",
   "version": "3.10.10"
  }
 },
 "nbformat": 4,
 "nbformat_minor": 5
}
