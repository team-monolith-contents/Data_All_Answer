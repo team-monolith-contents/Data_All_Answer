{
 "cells": [
  {
   "cell_type": "markdown",
   "id": "634c9dde-c8e9-47b8-947a-14bb1015b1e1",
   "metadata": {},
   "source": [
    "### **💯 연습문제를 풀어봅시다**\n",
    "\n"
   ]
  },
  {
   "cell_type": "markdown",
   "id": "705efcce-0dc2-401a-8bef-5ca8cf35dad5",
   "metadata": {
    "tags": []
   },
   "source": [
    "1. <a class=\"jcecodle-mk jcecodle-mk__problem-chip\" data-problem-id=\"wof3MOPluTM\" href='#jce-judge/open/wof3MOPluTM' target='_self'><span>판다스 - 데이터 통계 - max</span></a>\n",
    "1. <a class=\"jcecodle-mk jcecodle-mk__problem-chip\" data-problem-id=\"K51KUnww6ME\" href='#jce-judge/open/K51KUnww6ME' target='_self'><span>매출액 최대</span></a>\n",
    "2. <a class=\"jcecodle-mk jcecodle-mk__problem-chip\" data-problem-id=\"Vm59O1HkYv0\" href='#jce-judge/open/Vm59O1HkYv0' target='_self'><span>인적사항 최댓값</span></a>\n",
    "1. <a class=\"jcecodle-mk jcecodle-mk__problem-chip\" data-problem-id=\"WocVHm-2gLs\" href='#jce-judge/open/WocVHm-2gLs' target='_self'><span>판다스 - 데이터 통계 - min</span></a>\n",
    "1. <a class=\"jcecodle-mk jcecodle-mk__problem-chip\" data-problem-id=\"W0G6nPsoNgo\" href='#jce-judge/open/W0G6nPsoNgo' target='_self'><span>매출액 최소</span></a>\n",
    "2. <a class=\"jcecodle-mk jcecodle-mk__problem-chip\" data-problem-id=\"dGLmkowYD18\" href='#jce-judge/open/dGLmkowYD18' target='_self'><span>인적사항 최솟값</span></a>\n",
    "3. <a class=\"jcecodle-mk jcecodle-mk__problem-chip\" data-problem-id=\"_8jUyWKYLHU\" href='#jce-judge/open/_8jUyWKYLHU' target='_self'><span>판다스 - 데이터 연산하기 - idxmax</span></a>\n",
    "1. <a class=\"jcecodle-mk jcecodle-mk__problem-chip\" data-problem-id=\"e3bAUADVQ8k\" href='#jce-judge/open/e3bAUADVQ8k' target='_self'><span>국어 1등</span></a>\n",
    "2. <a class=\"jcecodle-mk jcecodle-mk__problem-chip\" data-problem-id=\"ZqBeUeUkv3Q\" href='#jce-judge/open/ZqBeUeUkv3Q' target='_self'><span>연장자</span></a>\n",
    "4. <a class=\"jcecodle-mk jcecodle-mk__problem-chip\" data-problem-id=\"UyGtM9-My2Q\" href='#jce-judge/open/UyGtM9-My2Q' target='_self'><span>판다스 - 데이터 연산하기 - idxmin</span></a>\n",
    "2. <a class=\"jcecodle-mk jcecodle-mk__problem-chip\" data-problem-id=\"cEF35d3TDqA\" href='#jce-judge/open/cEF35d3TDqA' target='_self'><span>성적 평균이 최소인 과목</span></a>\n"
   ]
  },
  {
   "cell_type": "code",
   "execution_count": null,
   "id": "3b1fe375-ba08-4226-b1c8-a32b7d102f12",
   "metadata": {},
   "outputs": [],
   "source": [
    "# 1. 판다스 - 데이터 통계 - max\n",
    "import pandas as pd\n",
    "df = pd.DataFrame(index=list(range(1, 9)), \n",
    "                data={'나이':[40, 20, 85, 13, 67, 44, 26, 34],\n",
    "                    '저축총액':[17340000, 3422400, 80000000, 43000, 843130, 23450100, 234000, 8421400], \n",
    "                    '입출금횟수':[30, 85, 3, 34, 95, 1, 90, 15]})\n",
    "\n",
    "col = input()\n",
    "print(df[col].max())"
   ]
  },
  {
   "cell_type": "code",
   "execution_count": null,
   "id": "6f2b4c92-f1ac-4a43-ab27-2e594a4321cb",
   "metadata": {},
   "outputs": [],
   "source": [
    "# 2. 매출액 최대\n",
    "import pandas as pd\n",
    "sales = pd.DataFrame(index=list(range(1, 13)), \n",
    "                            data={'사과':[35, 55, 20, 85, 90, 25, 45, 65, 5, 75, 55, 80],\n",
    "                                  '수박':[90, 75, 90, 100, 55, 65, 90, 65, 50, 95, 100, 76], \n",
    "                                  '딸기':[55, 75, 80, 65, 45, 85, 45, 35, 60, 65, 33, 45]})\n",
    "print(sales.사과.max())\n",
    "print(sales.수박.max())\n",
    "print(sales.딸기.max())"
   ]
  },
  {
   "cell_type": "code",
   "execution_count": null,
   "id": "b1763964-0dbd-450f-a00e-94f0fc191ec4",
   "metadata": {},
   "outputs": [],
   "source": [
    "# 3. 인적사항 최댓값\n",
    "import pandas as pd\n",
    "idx = ['키', '몸무게', '나이']\n",
    "info = {'김철수':[190, 88, 25], \n",
    "       '김영희':[170, 50, 18],\n",
    "       '김갑수':[170, 70, 20],\n",
    "       '이을수':[150, 40, 30]}\n",
    "\n",
    "df = pd.DataFrame(index=idx, data=info)\n",
    "print(df.max(axis=1))"
   ]
  },
  {
   "cell_type": "code",
   "execution_count": null,
   "id": "fce0d7f2-c070-41f0-9e9c-48f49e8831a2",
   "metadata": {},
   "outputs": [],
   "source": [
    "# 4. 판다스 - 데이터 통계 - min\n",
    "import pandas as pd\n",
    "df = pd.DataFrame(index=list(range(1, 9)), \n",
    "                data={'나이':[40, 20, 85, 13, 67, 44, 26, 34],\n",
    "                    '저축총액':[17340000, 3422400, 80000000, 43000, 843130, 23450100, 234000, 8421400], \n",
    "                    '입출금횟수':[30, 85, 3, 34, 95, 1, 90, 15]})\n",
    "col = input()\n",
    "print(df[col].min())"
   ]
  },
  {
   "cell_type": "code",
   "execution_count": null,
   "id": "667412c7-1e2c-4dd4-8f82-23573ca179a2",
   "metadata": {},
   "outputs": [],
   "source": [
    "# 5. 매출액 최소\n",
    "import pandas as pd\n",
    "sales = pd.DataFrame(index=list(range(1, 13)), \n",
    "                            data={'사과':[35, 55, 20, 85, 90, 25, 45, 65, 5, 75, 55, 80],\n",
    "                                  '수박':[90, 75, 90, 100, 55, 65, 90, 65, 50, 95, 100, 76], \n",
    "                                  '딸기':[55, 75, 80, 65, 45, 85, 45, 35, 60, 65, 33, 45]})\n",
    "print(sales.min())"
   ]
  },
  {
   "cell_type": "code",
   "execution_count": null,
   "id": "fcf892a8-3b2f-4a65-a7ca-816569352c58",
   "metadata": {},
   "outputs": [],
   "source": [
    "# 6. 인적사항 최솟값\n",
    "import pandas as pd\n",
    "idx = ['키', '몸무게', '나이']\n",
    "info = {'김철수':[190, 88, 25], \n",
    "       '김영희':[170, 50, 18],\n",
    "       '김갑수':[170, 70, 20],\n",
    "       '이을수':[150, 40, 30]}\n",
    "df = pd.DataFrame(index=idx, data=info)\n",
    "\n",
    "print(df.loc['키'].min())"
   ]
  },
  {
   "cell_type": "code",
   "execution_count": null,
   "id": "b64042f5-2c30-4c81-b4fa-56bb7659d059",
   "metadata": {},
   "outputs": [],
   "source": [
    "# 7. 판다스 - 데이터 연산하기 - idxmax\n",
    "import pandas as pd\n",
    "df = pd.DataFrame(index=['VR', '루지', '산책'], \n",
    "                data={'비용':[10000, 15000, 0], '시간':[15, 30, 60], '재미':[4, 5, 2]})\n",
    "\n",
    "col = input()\n",
    "idx = df[col].idxmax()\n",
    "print(df.loc[idx])"
   ]
  },
  {
   "cell_type": "code",
   "execution_count": null,
   "id": "431e4c69-274b-4c32-8b43-96e856410479",
   "metadata": {},
   "outputs": [],
   "source": [
    "# 8. 국어 1등\n",
    "import pandas as pd\n",
    "import random\n",
    "random.seed(20)\n",
    "scores = pd.DataFrame(index=range(1, 11), \n",
    "                     data={'국어':[random.randint(1, 100) for i in range(10)], \n",
    "                          '수학':[random.randint(1, 100) for i in range(10)], \n",
    "                          '영어':[random.randint(1, 100) for i in range(10)], \n",
    "                          '한국사':[random.randint(1, 100) for i in range(10)]})\n",
    "\n",
    "print(scores.국어.idxmax())"
   ]
  },
  {
   "cell_type": "code",
   "execution_count": null,
   "id": "455f579d-020e-44c8-878b-1f2677c7c914",
   "metadata": {},
   "outputs": [],
   "source": [
    "# 9. 연장자\n",
    "import pandas as pd\n",
    "idx = ['키', '몸무게', '나이']\n",
    "info = {'김철수':[190, 88, 25], \n",
    "       '김영희':[170, 50, 18],\n",
    "       '김갑수':[170, 70, 20],\n",
    "       '이을수':[150, 40, 30]}\n",
    "df = pd.DataFrame(index=idx, data=info)\n",
    "\n",
    "print(df.loc['나이'].idxmax())"
   ]
  },
  {
   "cell_type": "code",
   "execution_count": null,
   "id": "e6be2048-9260-4eb3-a62f-fca6b173f811",
   "metadata": {},
   "outputs": [],
   "source": [
    "# 10. 판다스 - 데이터 연산하기 - idxmin\n",
    "import pandas as pd\n",
    "df = pd.DataFrame(index=['VR', '루지', '산책'], data={'비용':[10000, 15000, 0], '시간':[15, 30, 60], '재미':[4, 5, 2]})\n",
    "\n",
    "col = input()\n",
    "idx = df[col].idxmin()\n",
    "print(df.loc[idx])"
   ]
  },
  {
   "cell_type": "code",
   "execution_count": null,
   "id": "bd83ac60-e1b7-4242-87f0-08a8784a6d33",
   "metadata": {},
   "outputs": [],
   "source": [
    "# 11. 성적 평균이 최소인 과목\n",
    "import pandas as pd\n",
    "import random\n",
    "random.seed(20)\n",
    "scores = pd.DataFrame(index=range(1, 11), \n",
    "                     data={'국어':[random.randint(1, 100) for i in range(10)], \n",
    "                          '수학':[random.randint(1, 100) for i in range(10)], \n",
    "                          '영어':[random.randint(1, 100) for i in range(10)], \n",
    "                          '한국사':[random.randint(1, 100) for i in range(10)]})\n",
    "\n",
    "kor_last = scores.국어.idxmin()\n",
    "print(kor_last)\n",
    "print(scores.loc[kor_last].idxmax())"
   ]
  }
 ],
 "metadata": {
  "kernelspec": {
   "display_name": "Python 3 (ipykernel)",
   "language": "python",
   "name": "python3"
  },
  "language_info": {
   "codemirror_mode": {
    "name": "ipython",
    "version": 3
   },
   "file_extension": ".py",
   "mimetype": "text/x-python",
   "name": "python",
   "nbconvert_exporter": "python",
   "pygments_lexer": "ipython3",
   "version": "3.10.10"
  }
 },
 "nbformat": 4,
 "nbformat_minor": 5
}
