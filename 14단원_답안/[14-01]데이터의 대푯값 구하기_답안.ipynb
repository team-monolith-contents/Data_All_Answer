{
 "cells": [
  {
   "cell_type": "markdown",
   "id": "4faf772d-313e-4bb7-995e-a3e5a99cdc1e",
   "metadata": {},
   "source": [
    "### **💯 연습문제를 풀어봅시다**\n",
    "\n"
   ]
  },
  {
   "cell_type": "markdown",
   "id": "bfc63131-846c-4c7e-a4e0-c918c3962b19",
   "metadata": {
    "tags": []
   },
   "source": [
    "1. <a class=\"jcecodle-mk jcecodle-mk__problem-chip\" data-problem-id=\"F6pUd4gvMwM\" href='#jce-judge/open/F6pUd4gvMwM' target='_self'><span>판다스 - 데이터 통계 - median</span></a>\n",
    "1. <a class=\"jcecodle-mk jcecodle-mk__problem-chip\" data-problem-id=\"yAEg4HHoJF8\" href='#jce-judge/open/yAEg4HHoJF8' target='_self'><span>도착시간 중앙값 (1)</span></a>\n",
    "2. <a class=\"jcecodle-mk jcecodle-mk__problem-chip\" data-problem-id=\"uR1NqzwSJvk\" href='#jce-judge/open/uR1NqzwSJvk' target='_self'><span>도착시간 중앙값 (2)</span></a>\n",
    "3. <a class=\"jcecodle-mk jcecodle-mk__problem-chip\" data-problem-id=\"OsKrBBq2TTE\" href='#jce-judge/open/OsKrBBq2TTE' target='_self'><span>성적 중앙값</span></a>\n",
    "2. <a class=\"jcecodle-mk jcecodle-mk__problem-chip\" data-problem-id=\"lHKazuduw5A\" href='#jce-judge/open/lHKazuduw5A' target='_self'><span>판다스 - 데이터 통계 -  mean</span></a>\n",
    "1. <a class=\"jcecodle-mk jcecodle-mk__problem-chip\" data-problem-id=\"XxoGA530lVI\" href='#jce-judge/open/XxoGA530lVI' target='_self'><span>성적 평균값 (1)</span></a>\n",
    "2. <a class=\"jcecodle-mk jcecodle-mk__problem-chip\" data-problem-id=\"2un8j30nlU0\" href='#jce-judge/open/2un8j30nlU0' target='_self'><span>성적 평균값 (3)</span></a>\n",
    "3. <a class=\"jcecodle-mk jcecodle-mk__problem-chip\" data-problem-id=\"19-h_lB1w-I\" href='#jce-judge/open/19-h_lB1w-I' target='_self'><span>판다스 - 결측값 처리 - 열에 따라 변경(1)</span></a>\n",
    "3. <a class=\"jcecodle-mk jcecodle-mk__problem-chip\" data-problem-id=\"SZoWwB5VS24\" href='#jce-judge/open/SZoWwB5VS24' target='_self'><span>판다스 - 데이터 통계 - std</span></a>\n",
    "1. <a class=\"jcecodle-mk jcecodle-mk__problem-chip\" data-problem-id=\"0UyZTrM2eUo\" href='#jce-judge/open/0UyZTrM2eUo' target='_self'><span>매출액 표준편차</span></a>\n",
    "2. <a class=\"jcecodle-mk jcecodle-mk__problem-chip\" data-problem-id=\"IAmEXv9cWrE\" href='#jce-judge/open/IAmEXv9cWrE' target='_self'><span>부동산 표준편차</span></a>\n",
    "3. <a class=\"jcecodle-mk jcecodle-mk__problem-chip\" data-problem-id=\"0Se3NuwFlBE\" href='#jce-judge/open/0Se3NuwFlBE' target='_self'><span>광고 매체 선호도 표준편차</span></a>\n",
    "4. <a class=\"jcecodle-mk jcecodle-mk__problem-chip\" data-problem-id=\"omdpmhnQghk\" href='#jce-judge/open/omdpmhnQghk' target='_self'><span>판다스 - 데이터 통계 - mode</span></a>\n",
    "1. <a class=\"jcecodle-mk jcecodle-mk__problem-chip\" data-problem-id=\"QBymtuzthO0\" href='#jce-judge/open/QBymtuzthO0' target='_self'><span>펭귄의 종과 서식지</span></a>\n",
    "2. <a class=\"jcecodle-mk jcecodle-mk__problem-chip\" data-problem-id=\"-54q2pbV7pQ\" href='#jce-judge/open/-54q2pbV7pQ' target='_self'><span>카페 정보 최빈값</span></a>\n",
    "3. <a class=\"jcecodle-mk jcecodle-mk__problem-chip\" data-problem-id=\"BXTt2Rjlq5w\" href='#jce-judge/open/BXTt2Rjlq5w' target='_self'><span>판다스 - 결측값 처리 - 열에 따라 변경(2)</span></a>"
   ]
  },
  {
   "cell_type": "code",
   "execution_count": null,
   "id": "3f9b231f-f19f-4fdf-954f-84ab18e2cb43",
   "metadata": {},
   "outputs": [],
   "source": [
    "# 1. 판다스 - 데이터 통계 - median\n",
    "import pandas as pd\n",
    "df = pd.DataFrame(index=list(range(1, 9)), \n",
    "                data={'나이':[40, 20, 85, 13, 67, 44, 26, 34],\n",
    "                    '저축총액':[17340000, 3422400, 80000000, 43000, 843130, 23450100, 234000, 8421400], \n",
    "                    '입출금횟수':[30, 85, 3, 34, 95, 1, 90, 15]})\n",
    "\n",
    "col = input()\n",
    "print(df[col].median())"
   ]
  },
  {
   "cell_type": "code",
   "execution_count": null,
   "id": "2b442eba-ce6d-43ea-bd41-796eb6db9a0d",
   "metadata": {},
   "outputs": [],
   "source": [
    "# 2. 도착시간 중앙값 (1)\n",
    "import pandas as pd\n",
    "arrival = pd.DataFrame(index=range(1, 11), \n",
    "                 data = {'시':[1, 2, 4, 12, 3, 6, 8, 9, 10, 11], \n",
    "                        '분':[50, 44, 35, 50, 33, 54, 23, 4, 30, 55], \n",
    "                        '초':[33, 50, 58, 34, 22, 52, 4, 25, 22, 11]})\n",
    "print(arrival.median())"
   ]
  },
  {
   "cell_type": "code",
   "execution_count": null,
   "id": "038fbffa-d63a-46eb-ab15-08fa184f90fd",
   "metadata": {},
   "outputs": [],
   "source": [
    "# 3. 도착시간 중앙값 (2)\n",
    "import pandas as pd\n",
    "arrival = pd.DataFrame(index=range(1, 11), \n",
    "                 data = {'시':[1, 2, 4, 12, 3, 6, 8, 9, 10, 11], \n",
    "                        '분':[50, 44, 35, 50, 33, 54, 23, 4, 30, 55], \n",
    "                        '초':[33, 50, 58, 34, 22, 52, 4, 25, 22, 11]})\n",
    "print(int(arrival.시.median()))"
   ]
  },
  {
   "cell_type": "code",
   "execution_count": null,
   "id": "7f00ff20-fd1e-48c1-88c3-16a68009971e",
   "metadata": {},
   "outputs": [],
   "source": [
    "# 4. 성적 중앙값\n",
    "import pandas as pd\n",
    "import random\n",
    "random.seed(20)\n",
    "scores = pd.DataFrame(index=['국어', '수학', '영어'], \n",
    "                     data = {'1반':[random.randint(1, 100) for i in range(3)], \n",
    "                            '2반':[random.randint(1, 100) for i in range(3)], \n",
    "                            '3반':[random.randint(1, 100) for i in range(3)], \n",
    "                            '4반':[random.randint(1, 100) for i in range(3)],\n",
    "                            '5반':[random.randint(1, 100) for i in range(3)]})\n",
    "\n",
    "print(scores.median(axis=1))"
   ]
  },
  {
   "cell_type": "code",
   "execution_count": null,
   "id": "65e3e0f3-c523-4591-af9f-b7f94b5413ea",
   "metadata": {},
   "outputs": [],
   "source": [
    "# 5. 판다스 - 데이터 통계 -  mean\n",
    "import pandas as pd\n",
    "df = pd.DataFrame(index=list(range(1, 9)), \n",
    "                data={'나이':[40, 20, 85, 13, 67, 44, 26, 34],\n",
    "                    '저축총액':[17340000, 3422400, 80000000, 43000, 843130, 23450100, 234000, 8421400], \n",
    "                    '입출금횟수':[30, 85, 3, 34, 95, 1, 90, 15]})\n",
    "\n",
    "col = input()\n",
    "print(df[col].mean())"
   ]
  },
  {
   "cell_type": "code",
   "execution_count": null,
   "id": "7347dab1-c75b-4a89-82ce-880115a65e18",
   "metadata": {},
   "outputs": [],
   "source": [
    "# 6. 성적 평균값 (1)\n",
    "import pandas as pd\n",
    "import random\n",
    "random.seed(20)\n",
    "scores = pd.DataFrame(index=['국어', '수학', '영어'], \n",
    "                     data = {'1반':[random.randint(1, 100) for i in range(3)], \n",
    "                            '2반':[random.randint(1, 100) for i in range(3)], \n",
    "                            '3반':[random.randint(1, 100) for i in range(3)], \n",
    "                            '4반':[random.randint(1, 100) for i in range(3)],\n",
    "                            '5반':[random.randint(1, 100) for i in range(3)]})\n",
    "\n",
    "print(scores.mean(axis=1))"
   ]
  },
  {
   "cell_type": "code",
   "execution_count": null,
   "id": "b0553c90-fee5-4d85-8363-84e2edcc89cf",
   "metadata": {},
   "outputs": [],
   "source": [
    "# 7. 성적 평균값 (3)\n",
    "import pandas as pd\n",
    "import random\n",
    "random.seed(20)\n",
    "scores = pd.DataFrame(index=range(1, 11), \n",
    "                     data={'국어':[random.randint(1, 100) for i in range(10)], \n",
    "                          '수학':[random.randint(1, 100) for i in range(10)], \n",
    "                          '영어':[random.randint(1, 100) for i in range(10)], \n",
    "                          '한국사':[random.randint(1, 100) for i in range(10)]})\n",
    "print(scores.mean())"
   ]
  },
  {
   "cell_type": "code",
   "execution_count": null,
   "id": "ddb1fe33-e537-4d29-87a2-bfd24bafcdab",
   "metadata": {},
   "outputs": [],
   "source": [
    "# 8. 판다스 - 결측값 처리 - 열에 따라 변경(1)\n",
    "import pandas as pd\n",
    "df = pd.DataFrame({\"a\":[1, 2, None, 4, 5], \"c\":[3, 4, 5, None, 7], \"e\":[None, None, 7, 8, 9]}, dtype=float)  \n",
    "df.insert(1, \"b\", pd.Series({1: 3, 3: 5}))  \n",
    "df.insert(3, \"d\", pd.Series({1: 5, 3: 7}))\n",
    "\n",
    "items = {'a':df.a.mean(), 'b':df.b.mean(), \n",
    "         'c':df.c.mean(), 'd':df.d.mean(), 'e':df.e.mean()}\n",
    "\n",
    "print(df.fillna(items))"
   ]
  },
  {
   "cell_type": "code",
   "execution_count": null,
   "id": "83db32d3-b867-44f0-9416-18e8f65e0bd7",
   "metadata": {},
   "outputs": [],
   "source": [
    "# 9. 판다스 - 데이터 통계 - std\n",
    "import pandas as pd\n",
    "df = pd.DataFrame(index=list(range(1, 9)), \n",
    "                data={'나이':[40, 20, 85, 13, 67, 44, 26, 34],\n",
    "                    '저축총액':[17340000, 3422400, 80000000, 43000, 843130, 23450100, 234000, 8421400], \n",
    "                    '입출금횟수':[30, 85, 3, 34, 95, 1, 90, 15]})\n",
    "\n",
    "col = input()\n",
    "print(df[col].std())"
   ]
  },
  {
   "cell_type": "code",
   "execution_count": null,
   "id": "8c62a59e-45d7-42fd-817b-ddf1b92574c4",
   "metadata": {},
   "outputs": [],
   "source": [
    "# 10. 매출액 표준편차\n",
    "import pandas as pd\n",
    "sales = pd.DataFrame(index=list(range(1, 13)), \n",
    "                            data={'사과':[35, 55, 20, 85, 90, 25, 45, 65, 5, 75, 55, 80],\n",
    "                                  '수박':[90, 75, 90, 100, 55, 65, 90, 65, 50, 95, 100, 76], \n",
    "                                  '딸기':[55, 75, 80, 65, 45, 85, 45, 35, 60, 65, 33, 45]})\n",
    "print(sales.std())"
   ]
  },
  {
   "cell_type": "code",
   "execution_count": null,
   "id": "fd066298-0fc2-47c4-9ddf-3555b52a3861",
   "metadata": {},
   "outputs": [],
   "source": [
    "# 11. 부동산 표준편차\n",
    "import pandas as pd\n",
    "df = pd.DataFrame(index=['A', 'B', 'C', 'D', 'E'], \n",
    "                 data={'평수':[26, 10, 40, 60, 33], \n",
    "                      '방수':[2, 1, 4, 3, 3],\n",
    "                      '월세(만원)':[60, 30, 75, 80, 35]})\n",
    "print(df.평수.std())"
   ]
  },
  {
   "cell_type": "code",
   "execution_count": null,
   "id": "2ff5818d-85f9-4c27-a1a0-f486cc2753b9",
   "metadata": {},
   "outputs": [],
   "source": [
    "# 12. 광고 매체 선호도 표준편차\n",
    "import pandas as pd\n",
    "favor_add = pd.DataFrame(index=['20대이하', '30~40대', '50대 이상'], \n",
    "                        data = {'TV': [20, 30, 35], \n",
    "                               '인터넷':[60, 35, 10], \n",
    "                               '신문':[5, 16, 25], \n",
    "                               '현수막':[20, 18, 25], \n",
    "                                '기타':[11, 9, 8]})\n",
    "print(favor_add.std(axis=1))"
   ]
  },
  {
   "cell_type": "code",
   "execution_count": null,
   "id": "eec33bb0-37cc-4ed6-b6ad-82310e5b5cbc",
   "metadata": {},
   "outputs": [],
   "source": [
    "# 13. 판다스 - 데이터 통계 - mode\n",
    "import pandas as pd\n",
    "df = pd.DataFrame({'9월1일':['당근', '레몬', '레몬', '초코', '딸기', '장미', '레몬'],\n",
    "                   '9월2일':['바닐라', '레몬', '초코', '딸기', '초코', '초코', None], \n",
    "                   '9월3일':['장미', '당근', '초코', '당근', '당근', '장미', '장미']})\n",
    "\n",
    "date = input()\n",
    "print(df[date].mode())"
   ]
  },
  {
   "cell_type": "code",
   "execution_count": null,
   "id": "a52e7ab4-fa6f-496e-888d-4ff4114ec2a6",
   "metadata": {},
   "outputs": [],
   "source": [
    "# 14. 펭귄의 종과 서식지\n",
    "import pandas as pd\n",
    "import seaborn as sns\n",
    "df = sns.load_dataset('penguins')\n",
    "\n",
    "print(df[['species', 'island']].mode())"
   ]
  },
  {
   "cell_type": "code",
   "execution_count": null,
   "id": "28a7524c-422d-4b3f-b516-4d01f485fce6",
   "metadata": {},
   "outputs": [],
   "source": [
    "# 15. 카페 정보 최빈값\n",
    "import pandas as pd\n",
    "import random \n",
    "random.seed(20)\n",
    "cafe = pd.DataFrame(index=range(1, 11), \n",
    "                   data = {'가격평균':[random.randrange(3000, 10000, 100) for i in range(10)],\n",
    "                          '음료개수':[random.randint(5, 30) for i in range(10)],\n",
    "                          '자리개수':[random.randint(3, 40) for i in range(10)],\n",
    "                          '콘센트개수':[random.randint(3, 40) for i in range(10)]}).T\n",
    "print(cafe.mode(axis=1))"
   ]
  },
  {
   "cell_type": "code",
   "execution_count": null,
   "id": "08d69a97-00ca-43f4-b9e4-f0829076d9fa",
   "metadata": {},
   "outputs": [],
   "source": [
    "# 16. 판다스 - 결측값 처리 - 열에 따라 변경(2)\n",
    "import pandas as pd\n",
    "df = pd.DataFrame({\"항목1\":list(\"aabc\")+[None, None]+list(\"bbbbca\"), \n",
    "                   \"항목2\":list(\"cca\")+[None]+list(\"bcacca\")+[None, \"c\"], \n",
    "                   \"항목3\":list(\"baabbb\")+[None, \"b\", None]+list(\"cca\")})\n",
    "\n",
    "items = {'항목1':df.항목1.mode()[0], \n",
    "         '항목2':df.항목2.mode()[0], \n",
    "         '항목3':df.항목3.mode()[0]}\n",
    "\n",
    "print(df.fillna(items))"
   ]
  }
 ],
 "metadata": {
  "kernelspec": {
   "display_name": "Python 3 (ipykernel)",
   "language": "python",
   "name": "python3"
  },
  "language_info": {
   "codemirror_mode": {
    "name": "ipython",
    "version": 3
   },
   "file_extension": ".py",
   "mimetype": "text/x-python",
   "name": "python",
   "nbconvert_exporter": "python",
   "pygments_lexer": "ipython3",
   "version": "3.10.10"
  }
 },
 "nbformat": 4,
 "nbformat_minor": 5
}
