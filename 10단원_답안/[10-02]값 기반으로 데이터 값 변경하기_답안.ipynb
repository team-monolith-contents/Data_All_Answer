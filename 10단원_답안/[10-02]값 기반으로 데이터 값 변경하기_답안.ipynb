{
 "cells": [
  {
   "cell_type": "markdown",
   "id": "cc31304b-9cd0-4305-8229-f7e7d6499f0c",
   "metadata": {},
   "source": [
    "### **💯 연습문제를 풀어봅시다**\n",
    "\n"
   ]
  },
  {
   "cell_type": "markdown",
   "id": "aa2d823c-95a3-4dd0-84af-3b7bed2ec84d",
   "metadata": {
    "tags": []
   },
   "source": [
    "1. <a class=\"jcecodle-mk jcecodle-mk__problem-chip\" data-problem-id=\"SzB0uPNXl9Y\" href='#jce-judge/open/SzB0uPNXl9Y' target='_self'><span>판다스 - 데이터 값 변경 - 1가지 값</span></a>\n",
    "\n",
    "1. <a class=\"jcecodle-mk jcecodle-mk__problem-chip\" data-problem-id=\"f4VGEDRxHO4\" href='#jce-judge/open/f4VGEDRxHO4' target='_self'><span>친구 이름 변경 (2)</span></a>\n",
    "\n",
    "2. <a class=\"jcecodle-mk jcecodle-mk__problem-chip\" data-problem-id=\"4egTpZbVMZ4\" href='#jce-judge/open/4egTpZbVMZ4' target='_self'><span>반평균 성적 변경(2)</span></a>\n",
    "\n",
    "\n",
    "2. <a class=\"jcecodle-mk jcecodle-mk__problem-chip\" data-problem-id=\"2xZ3Fs7FMtg\" href='#jce-judge/open/2xZ3Fs7FMtg' target='_self'><span>판다스 - 데이터 값 변경 - 여러가지 값 (1)</span></a>\n",
    "\n",
    "1. <a class=\"jcecodle-mk jcecodle-mk__problem-chip\" data-problem-id=\"uMudTUOpafQ\" href='#jce-judge/open/uMudTUOpafQ' target='_self'><span>아이돌 멤버수 수정</span></a>\n",
    "\n",
    "\n",
    "2. <a class=\"jcecodle-mk jcecodle-mk__problem-chip\" data-problem-id=\"3Be5uuDlrEI\" href='#jce-judge/open/3Be5uuDlrEI' target='_self'><span>가족 직업 변경 (2)</span></a>\n",
    "\n",
    "\n",
    "3. <a class=\"jcecodle-mk jcecodle-mk__problem-chip\" data-problem-id=\"E3Vp2wXS6Hw\" href='#jce-judge/open/E3Vp2wXS6Hw' target='_self'><span>판다스 - 데이터 값 변경 - 여러가지 값 (2)</span></a>\n",
    "\n",
    "\n",
    "2. <a class=\"jcecodle-mk jcecodle-mk__problem-chip\" data-problem-id=\"mL-2BXbypoE\" href='#jce-judge/open/mL-2BXbypoE' target='_self'><span>판다스 - 데이터 값 변경 - 여러가지 값(3)</span></a>\n",
    "\n",
    "1. <a class=\"jcecodle-mk jcecodle-mk__problem-chip\" data-problem-id=\"LBop0grjxDs\" href='#jce-judge/open/LBop0grjxDs' target='_self'><span>타이틀로 업데이트</span></a>\n",
    "\n"
   ]
  },
  {
   "cell_type": "code",
   "execution_count": null,
   "id": "7b41e94b-5998-45bb-aea4-9a318df9d7d5",
   "metadata": {},
   "outputs": [],
   "source": [
    "# 1. 판다스 - 데이터 값 변경 - 1가지 값\n",
    "import pandas as pd\n",
    "data = pd.DataFrame([list('OVOVO'), list('VVVLL'), list('LLVVV'), list('OLVLO'), list('OOVOO')])\n",
    "\n",
    "a = input()\n",
    "b = input()\n",
    "\n",
    "data.replace(a, b, inplace=True)\n",
    "print(data)"
   ]
  },
  {
   "cell_type": "code",
   "execution_count": null,
   "id": "92a91e67-26b6-43f8-aa1d-3e1d294d9cd9",
   "metadata": {},
   "outputs": [],
   "source": [
    "# 2. 친구 이름 변경 (2)\n",
    "import pandas as pd\n",
    "info = pd.DataFrame(index = range(1, 5),\n",
    "                   data = {'이름':['김철수', '김영희', '김갑수', '이을수'], \n",
    "                          '나이':[17, 17, 18, 19], \n",
    "                          '성별':['여', '여', '남', '남']})\n",
    "\n",
    "info.replace('김철수', '김수정', inplace=True)\n",
    "print(info)"
   ]
  },
  {
   "cell_type": "code",
   "execution_count": null,
   "id": "31047f9b-8ae7-4623-ada6-9f1d443f48d5",
   "metadata": {},
   "outputs": [],
   "source": [
    "# 3. 반평균 성적 변경(2)\n",
    "import pandas as pd\n",
    "scores = pd.DataFrame(index=['국어', '수학', '영어'], \n",
    "                     data = {'1반':[90, 52, 88], \n",
    "                            '2반':[99, 23, 69], \n",
    "                            '3반':[87, 35, 99], \n",
    "                            '4반':[92, 44, 12],\n",
    "                            '5반':[99, 23, 55]})\n",
    "\n",
    "scores.replace(99, '일등', inplace=True)\n",
    "print(scores)"
   ]
  },
  {
   "cell_type": "code",
   "execution_count": null,
   "id": "fedcde88-0359-4315-970b-f8afdb7f5d14",
   "metadata": {},
   "outputs": [],
   "source": [
    "# 4. 판다스 - 데이터 값 변경 - 여러가지 값 (1)\n",
    "import pandas as pd\n",
    "data = pd.DataFrame([list('OEOVO'), list('VEVLE'), list('LLVEE'), list('OLVLO'), list('OOEOO')])\n",
    "\n",
    "a = list(input().split())\n",
    "b = input()\n",
    "data.replace(a, b, inplace=True)\n",
    "print(data)"
   ]
  },
  {
   "cell_type": "code",
   "execution_count": null,
   "id": "2621c960-e4f0-48fe-96d7-cbbeff9102ce",
   "metadata": {},
   "outputs": [],
   "source": [
    "# 5. 아이돌 멤버수 수정\n",
    "import pandas as pd\n",
    "member = pd.Series(index=['뉴진스', '르세라핌', 'TXT'], \n",
    "                  data=[6, 7, 8], name = '멤버수')\n",
    "\n",
    "member.replace([6, 7, 8], 5, inplace=True)\n",
    "print(member)"
   ]
  },
  {
   "cell_type": "code",
   "execution_count": null,
   "id": "8b7c911d-93ca-4191-ab6c-b95281793bb9",
   "metadata": {},
   "outputs": [],
   "source": [
    "# 6. 가족 직업 변경 (2)\n",
    "import pandas as pd\n",
    "idx = ['할아버지', '할머니', '엄마', '아빠', '언니', '나', '남동생']\n",
    "data = {'나이':[90, 88, 50, 50, 26, 18, 16],\n",
    "       '키':[190, 150, 160, 179, 160, 165, 155],\n",
    "       '몸무게':[90, 45, 50, 80, 48, 52, 42],\n",
    "       '직업':['교사', '은행원', '사무직', '변호사', '대학생', '고등학생', '중학생']}\n",
    "family = pd.DataFrame(index=idx, data=data)\n",
    "\n",
    "family.replace(['대학생', '고등학생', '중학생'], '학생', inplace=True)\n",
    "print(family)"
   ]
  },
  {
   "cell_type": "code",
   "execution_count": null,
   "id": "fa656d68-f37a-4512-85eb-88dc63b1e998",
   "metadata": {},
   "outputs": [],
   "source": [
    "# 7. 판다스 - 데이터 값 변경 - 여러가지 값 (2)\n",
    "import pandas as pd\n",
    "data = pd.DataFrame([list('EVEVO'), list('VVVLL'), list('LLVVV'), list('ELVLO'), list('OOVEE')])\n",
    "\n",
    "a = input().split()\n",
    "b = input().split()\n",
    "data.replace(a, b, inplace=True)\n",
    "print(data)"
   ]
  },
  {
   "cell_type": "code",
   "execution_count": null,
   "id": "b783a65a-c4b3-4c85-b02c-ef725e01bd32",
   "metadata": {},
   "outputs": [],
   "source": [
    "# 8. 판다스 - 데이터 값 변경 - 여러가지 값(3)\n",
    "import pandas as pd\n",
    "star = pd.DataFrame([list('-::---::-'),\n",
    "                    list('::::-::::'),\n",
    "                    list(':::::::::'),\n",
    "                    list('-:::::::-'),\n",
    "                    list('--:::::--'),\n",
    "                    list('---:::---'),\n",
    "                    list('----:----')])\n",
    "\n",
    "star.replace({':':'#', '-':'.'}, inplace=True)\n",
    "print(star)"
   ]
  },
  {
   "cell_type": "code",
   "execution_count": null,
   "id": "474e04ea-9b34-47b4-bf80-79289871480e",
   "metadata": {},
   "outputs": [],
   "source": [
    "# 9. 타이틀로 업데이트\n",
    "import pandas as pd\n",
    "latest = pd.DataFrame(index=['블랙핑크', '뉴진스', '르세라핌', '카라'],\n",
    "                     data={'노래':['Pink Venom', 'Ditto', 'No Celestial', 'Oxygen'], \n",
    "                          '앨범명':['BORN PINK', 'New Jeans \\'OMG\\'', 'ANTIFRAGILE', 'MOVE AGAIN']})\n",
    "\n",
    "title = {'Pink Venom':'Shut Down', 'Ditto':'OMG', 'No Celestial':'ANTIFRAGILE', 'Oxygen':'WHEN I MOVE'}\n",
    "\n",
    "latest.replace(title, inplace=True)\n",
    "print(latest)"
   ]
  }
 ],
 "metadata": {
  "kernelspec": {
   "display_name": "Python 3 (ipykernel)",
   "language": "python",
   "name": "python3"
  },
  "language_info": {
   "codemirror_mode": {
    "name": "ipython",
    "version": 3
   },
   "file_extension": ".py",
   "mimetype": "text/x-python",
   "name": "python",
   "nbconvert_exporter": "python",
   "pygments_lexer": "ipython3",
   "version": "3.10.10"
  }
 },
 "nbformat": 4,
 "nbformat_minor": 5
}
