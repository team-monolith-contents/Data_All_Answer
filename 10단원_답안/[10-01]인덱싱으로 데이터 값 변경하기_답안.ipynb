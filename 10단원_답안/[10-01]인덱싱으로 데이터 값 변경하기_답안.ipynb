{
 "cells": [
  {
   "cell_type": "markdown",
   "id": "9b667f93-b6bc-4304-9323-3e274406f0c9",
   "metadata": {},
   "source": [
    "### **💯 연습문제를 풀어봅시다**\n",
    "\n"
   ]
  },
  {
   "cell_type": "markdown",
   "id": "10291135-cd99-482b-acaa-1b316318e544",
   "metadata": {
    "tags": []
   },
   "source": [
    "1. <a class=\"jcecodle-mk jcecodle-mk__problem-chip\" data-problem-id=\"pdcOTVxad0k\" href='#jce-judge/open/pdcOTVxad0k' target='_self'><span>판다스 - 데이터 값 변경 - 1개 위치</span></a>\n",
    "\n",
    "1. <a class=\"jcecodle-mk jcecodle-mk__problem-chip\" data-problem-id=\"pF0w3GD4yws\" href='#jce-judge/open/pF0w3GD4yws' target='_self'><span>친구 이름 변경 (1)</span></a>\n",
    "\n",
    "2. <a class=\"jcecodle-mk jcecodle-mk__problem-chip\" data-problem-id=\"UtynmIiHz3Q\" href='#jce-judge/open/UtynmIiHz3Q' target='_self'><span>반평균 성적 변경 (1)</span></a>\n",
    "\n",
    "3. <a class=\"jcecodle-mk jcecodle-mk__problem-chip\" data-problem-id=\"G7uK_Y6fStY\" href='#jce-judge/open/G7uK_Y6fStY' target='_self'><span>아이돌 멤버 변경</span></a>\n",
    "\n",
    "2. <a class=\"jcecodle-mk jcecodle-mk__problem-chip\" data-problem-id=\"vI2-Cplg3VY\" href='#jce-judge/open/vI2-Cplg3VY' target='_self'><span>판다스 - 데이터 값 변경 - 여러 위치(1)</span></a>\n",
    "\n",
    "1. <a class=\"jcecodle-mk jcecodle-mk__problem-chip\" data-problem-id=\"Z4taEsAFFr8\" href='#jce-judge/open/Z4taEsAFFr8' target='_self'><span>친구들 나이 변경</span></a>\n",
    "\n",
    "2. <a class=\"jcecodle-mk jcecodle-mk__problem-chip\" data-problem-id=\"ul7HW3Vv8zI\" href='#jce-judge/open/ul7HW3Vv8zI' target='_self'><span>학교 정보 수정</span></a>\n",
    "\n",
    "3. <a class=\"jcecodle-mk jcecodle-mk__problem-chip\" data-problem-id=\"1cSq2qkpN9k\" href='#jce-judge/open/1cSq2qkpN9k' target='_self'><span>가계부 수정</span></a>\n",
    "\n",
    "3. <a class=\"jcecodle-mk jcecodle-mk__problem-chip\" data-problem-id=\"Lf_f_K08VMY\" href='#jce-judge/open/Lf_f_K08VMY' target='_self'><span>판다스 - 데이터 값 변경 - 여러 위치(2)</span></a>\n",
    "\n",
    "2. <a class=\"jcecodle-mk jcecodle-mk__problem-chip\" data-problem-id=\"e-P2j-3PEJM\" href='#jce-judge/open/e-P2j-3PEJM' target='_self'><span>친구들 정보 변경</span></a>\n",
    "\n",
    "3. <a class=\"jcecodle-mk jcecodle-mk__problem-chip\" data-problem-id=\"6ZrVIlCVAq0\" href='#jce-judge/open/6ZrVIlCVAq0' target='_self'><span>특정 구역 값 변경</span></a>\n"
   ]
  },
  {
   "cell_type": "code",
   "execution_count": null,
   "id": "d19848d3-2e7e-4504-80f3-f81272f91bac",
   "metadata": {},
   "outputs": [],
   "source": [
    "# 1. 판다스 - 데이터 값 변경 - 1개 위치\n",
    "import pandas as pd\n",
    "data = pd.Series([0]*10)\n",
    "\n",
    "n = int(input())\n",
    "data[n]=input()\n",
    "print(data)"
   ]
  },
  {
   "cell_type": "code",
   "execution_count": null,
   "id": "561c3f9e-7b2f-4df7-8d9b-78c6458b4562",
   "metadata": {},
   "outputs": [],
   "source": [
    "# 2. 친구 이름 변경 (1)\n",
    "import pandas as pd\n",
    "info = pd.DataFrame(index = range(1, 5),\n",
    "                   data = {'이름':['김철수', '김영희', '김갑수', '이을수'], \n",
    "                          '나이':[17, 17, 18, 19], \n",
    "                          '성별':['여', '여', '남', '남']})\n",
    "info['이름'][4] = '이병지'\n",
    "print(info)"
   ]
  },
  {
   "cell_type": "code",
   "execution_count": null,
   "id": "6e88558c-315c-493a-b336-4d04edb73535",
   "metadata": {},
   "outputs": [],
   "source": [
    "# 3. 반평균 성적 변경 (1)\n",
    "import pandas as pd\n",
    "import random\n",
    "random.seed(20)\n",
    "scores = pd.DataFrame(index=['국어', '수학', '영어'], \n",
    "                     data = {'1반':[random.randint(1, 100) for i in range(3)], \n",
    "                            '2반':[random.randint(1, 100) for i in range(3)], \n",
    "                            '3반':[random.randint(1, 100) for i in range(3)], \n",
    "                            '4반':[random.randint(1, 100) for i in range(3)],\n",
    "                            '5반':[random.randint(1, 100) for i in range(3)]})\n",
    "\n",
    "scores['3반']['국어'] = 99\n",
    "print(scores)"
   ]
  },
  {
   "cell_type": "code",
   "execution_count": null,
   "id": "49dde576-b9d8-4854-b748-482b2438dcc9",
   "metadata": {},
   "outputs": [],
   "source": [
    "# 4. 아이돌 멤버 변경\n",
    "import pandas as pd\n",
    "idols = {'뉴진스':{'첫째':'민지', '둘째':'하니', '셋째':'다니엘', '넷째':'해린', '막내':'혜인'}, \n",
    "         '르세라핌':{'첫째':'사쿠라', '둘째':'김채원', '셋째':'허윤진', '넷째':'카즈하', '막내':'은채'}, \n",
    "         'TXT':{'첫째':'연준', '둘째':'수진', '셋째':'범규', '넷째':'태현', '막내':'휴닝카이'}, \n",
    "         '셀럽파이브':{'첫째':'송은이', '둘째':'신봉선', '셋째':'김신영', '넷째':'김영희', '막내':'안영미'}}\n",
    "df = pd.DataFrame(idols)\n",
    "\n",
    "df['셀럽파이브']['넷째'] = None\n",
    "print(df)"
   ]
  },
  {
   "cell_type": "code",
   "execution_count": null,
   "id": "b3714022-6efc-493c-a719-f1d56d29a070",
   "metadata": {},
   "outputs": [],
   "source": [
    "# 5. 판다스 - 데이터 값 변경 - 여러 위치(1)\n",
    "import pandas as pd\n",
    "data = pd.DataFrame([[0]*5]*5)\n",
    "\n",
    "a, b, c = map(int, input().split())\n",
    "\n",
    "n = [i for i in range(b, b+c)]\n",
    "\n",
    "data.iloc[a:a+c, b:b+c]=1\n",
    "print(data)"
   ]
  },
  {
   "cell_type": "code",
   "execution_count": null,
   "id": "5fe16674-3ac6-40ab-88c8-70e18e49f302",
   "metadata": {},
   "outputs": [],
   "source": [
    "# 6. 친구들 나이 변경\n",
    "import pandas as pd\n",
    "idx = ['키', '몸무게', '나이']\n",
    "info = {'김철수':[190, 88, 25], \n",
    "       '김영희':[170, 50, 18],\n",
    "       '김갑수':[170, 70, 20],\n",
    "       '이을수':[150, 40, 30]}\n",
    "df = pd.DataFrame(index=idx, data=info)\n",
    "\n",
    "df.loc['나이'] = 18\n",
    "print(df)"
   ]
  },
  {
   "cell_type": "code",
   "execution_count": 1,
   "id": "772f9b14-a0e8-4368-936f-dbe1baa35991",
   "metadata": {},
   "outputs": [],
   "source": [
    "# 7. 학교 정보 수정\n",
    "import pandas as pd\n",
    "info = pd.DataFrame(index=['1학년', '2학년', '3학년'], \n",
    "                   data = {'학급수': [1, 4, 2], \n",
    "                          '담임교사수': [5, 2, 3], \n",
    "                          '층수': [2, 3, 4]})\n",
    "\n",
    "\n",
    "info[[ '학급수', '담임교사수']] = 10\n",
    "print(info)"
   ]
  },
  {
   "cell_type": "code",
   "execution_count": null,
   "id": "24bdff4d-2b10-4688-8060-2d03addd5df5",
   "metadata": {},
   "outputs": [],
   "source": [
    "# 8. 가계부 수정\n",
    "import pandas as pd\n",
    "week = ['첫째주', '둘째주', '셋째주', '넷째주']\n",
    "acc = [[5000, 10000, 100000, 2000], [5000, 1000, 50000, 30000], [20000, 5000, 40000, 300000], [50000, 2000, 30000, 100000]]\n",
    "col = ['식비','교통비', '관리비', '기타비용']\n",
    "house_acc = pd.DataFrame(index=week, columns=col, data=acc)\n",
    "\n",
    "house_acc.iloc[1:3, 1:3]=1000\n",
    "print(house_acc)"
   ]
  },
  {
   "cell_type": "code",
   "execution_count": null,
   "id": "0323ae1f-4285-49bf-9365-a635b392e7bd",
   "metadata": {},
   "outputs": [],
   "source": [
    "# 9. 판다스 - 데이터 값 변경 - 여러 위치(2)\n",
    "import pandas as pd\n",
    "data = pd.DataFrame([[0]*5]*5)\n",
    "pattern =[[0, 1, 0], [1, 1, 1], [0, 1, 0]]\n",
    "\n",
    "a, b = map(int, input().split())\n",
    "\n",
    "data.iloc[a:a+3, b:b+3] = pattern\n",
    "print(data)"
   ]
  },
  {
   "cell_type": "code",
   "execution_count": null,
   "id": "6ae2a0e0-2a5d-487b-8611-ff792d87bfdd",
   "metadata": {},
   "outputs": [],
   "source": [
    "# 10. 친구들 정보 변경\n",
    "import pandas as pd\n",
    "idx = ['키', '몸무게', '나이']\n",
    "info = {'김철수':[190, 88, 25], \n",
    "       '김영희':[170, 50, 18],\n",
    "       '김갑수':[170, 70, 20],\n",
    "       '이을수':[150, 40, 30]}\n",
    "df = pd.DataFrame(index=idx, data=info)\n",
    "\n",
    "height = [180, 168, 175, 153]\n",
    "age = [27, 20, 22, 32]\n",
    "\n",
    "df.iloc[[0, 2]]=[height,age]\n",
    "print(df)"
   ]
  },
  {
   "cell_type": "code",
   "execution_count": null,
   "id": "c54af9e9-1650-477f-933f-238c51de400b",
   "metadata": {},
   "outputs": [],
   "source": [
    "# 11. 특정 구역 값 변경\n",
    "import pandas as pd\n",
    "idx = ['i1', 'i2', 'i3', 'i4', 'i5', 'i6', 'i7']\n",
    "items = {'col1':[1, 2, 3, 4, 5, 6, 7], \n",
    "         'col2':['a', 'b', 'c', 'd', 'e', 'f', 'g'], \n",
    "         'col3':[0.7, 0.6, 0.5, 0.4, 0.3, 0.2, 0.1], \n",
    "         'col4':['f', 'm', 'f', 'f', 'm', 'm', 'm'], \n",
    "         'col5':[6, 7, 6, 6, 6, 7, 7]}\n",
    "df = pd.DataFrame(index=idx, data=items)\n",
    "\n",
    "new_one = [['AAA', 'BBB'], ['CCC', 'DDD'], ['EEE', 'FFF']]\n",
    "\n",
    "df.iloc[2:5, 1:3] = new_one\n",
    "print(df)"
   ]
  }
 ],
 "metadata": {
  "kernelspec": {
   "display_name": "Python 3 (ipykernel)",
   "language": "python",
   "name": "python3"
  },
  "language_info": {
   "codemirror_mode": {
    "name": "ipython",
    "version": 3
   },
   "file_extension": ".py",
   "mimetype": "text/x-python",
   "name": "python",
   "nbconvert_exporter": "python",
   "pygments_lexer": "ipython3",
   "version": "3.10.10"
  }
 },
 "nbformat": 4,
 "nbformat_minor": 5
}
