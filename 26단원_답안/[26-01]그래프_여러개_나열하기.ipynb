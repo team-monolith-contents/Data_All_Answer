{
 "cells": [
  {
   "cell_type": "markdown",
   "id": "ae5c31b6-559a-410f-9d02-1f233dfe33fc",
   "metadata": {
    "tags": []
   },
   "source": [
    "### **💯 연습문제를 풀어봅시다**\n",
    "\n"
   ]
  },
  {
   "cell_type": "markdown",
   "id": "0ba7572d-d3c6-4ded-b320-afaf81d97c12",
   "metadata": {
    "tags": []
   },
   "source": [
    "1. <a class=\"jcecodle-mk jcecodle-mk__problem-chip\" data-problem-id=\"4FQc6aMK3FE\" href='#jce-judge/open/4FQc6aMK3FE' target='_self'><span>그래프 나열하기 - sin(x)와 sin(2x)</span></a>\n",
    "2. <a class=\"jcecodle-mk jcecodle-mk__problem-chip\" data-problem-id=\"gIhrSgkuIXg\" href='#jce-judge/open/gIhrSgkuIXg' target='_self'><span>그래프 나열하기 - sine그래프 가로방향 나열</span></a>\n",
    "3. <a class=\"jcecodle-mk jcecodle-mk__problem-chip\" data-problem-id=\"4wTmFGHDHCQ\" href='#jce-judge/open/4wTmFGHDHCQ' target='_self'><span>그래프 나열하기 - 2차원 나열</span></a>"
   ]
  },
  {
   "cell_type": "code",
   "execution_count": null,
   "id": "4621a87d-cd30-4a9f-928e-e7a4ae04085d",
   "metadata": {},
   "outputs": [],
   "source": [
    "# 1. 그래프 나열하기 - sin(x)와 sin(2x)\n"
   ]
  },
  {
   "cell_type": "code",
   "execution_count": null,
   "id": "2f940add-56b1-4a07-ab4e-f76346dbaa78",
   "metadata": {},
   "outputs": [],
   "source": [
    "# 2. 그래프 나열하기 - sine그래프 가로방향 나열\n"
   ]
  },
  {
   "cell_type": "code",
   "execution_count": null,
   "id": "db43f0c4-608a-4d20-816d-141deeb01150",
   "metadata": {},
   "outputs": [],
   "source": [
    "# 3. 그래프 나열하기 - 2차원 나열\n"
   ]
  }
 ],
 "metadata": {
  "kernelspec": {
   "display_name": "Python 3 (ipykernel)",
   "language": "python",
   "name": "python3"
  },
  "language_info": {
   "codemirror_mode": {
    "name": "ipython",
    "version": 3
   },
   "file_extension": ".py",
   "mimetype": "text/x-python",
   "name": "python",
   "nbconvert_exporter": "python",
   "pygments_lexer": "ipython3",
   "version": "3.8.10"
  }
 },
 "nbformat": 4,
 "nbformat_minor": 5
}
