{
 "cells": [
  {
   "cell_type": "markdown",
   "id": "17c6a67d-319d-48f9-86d3-812b409de751",
   "metadata": {},
   "source": [
    "### **💯 연습문제를 풀어봅시다**\n",
    "\n"
   ]
  },
  {
   "cell_type": "markdown",
   "id": "91784f8a-a69f-43e4-9953-8e853c6148c1",
   "metadata": {
    "tags": []
   },
   "source": [
    "1. <a class=\"jcecodle-mk jcecodle-mk__problem-chip\" data-problem-id=\"iQDHW7Fgp2E\" href='#jce-judge/open/iQDHW7Fgp2E' target='_self'><span>꺾은선그래프그리기 - 인생행복그래프</span></a>\n",
    "2. <a class=\"jcecodle-mk jcecodle-mk__problem-chip\" data-problem-id=\"4Xbi5NOVY-4\" href='#jce-judge/open/4Xbi5NOVY-4' target='_self'><span>꺾은선그래프그리기 - 4차함수 그래프</span></a>\n",
    "3. <a class=\"jcecodle-mk jcecodle-mk__problem-chip\" data-problem-id=\"KRhgQx_lZyg\" href='#jce-judge/open/KRhgQx_lZyg' target='_self'><span>꺾은선그래프그리기 - cosine 그래프</span></a>\n",
    "4. <a class=\"jcecodle-mk jcecodle-mk__problem-chip\" data-problem-id=\"2ptXD5vnn_8\" href='#jce-judge/open/2ptXD5vnn_8' target='_self'><span>꺾은선그래프그리기 - 임산부의 몸무게 변화</span></a>"
   ]
  },
  {
   "cell_type": "code",
   "execution_count": null,
   "id": "baff9a0a-0c4a-41b3-a047-8fbc029646c3",
   "metadata": {},
   "outputs": [],
   "source": [
    "# 1. 꺾은선그래프그리기 - 인생행복그래프\n"
   ]
  },
  {
   "cell_type": "code",
   "execution_count": null,
   "id": "2e25bec3-af91-42a3-9d6c-b2ed61c3dfb0",
   "metadata": {},
   "outputs": [],
   "source": [
    "# 2. 꺾은선그래프그리기 - 4차함수 그래프\n"
   ]
  },
  {
   "cell_type": "code",
   "execution_count": null,
   "id": "5fb8ec9d-4c55-4f56-87c3-7f9f70255606",
   "metadata": {},
   "outputs": [],
   "source": [
    "# 3. 꺾은선그래프그리기 - cosine 그래프\n"
   ]
  },
  {
   "cell_type": "code",
   "execution_count": null,
   "id": "bd33ce88-9b99-4e36-bc91-455d845cfa82",
   "metadata": {},
   "outputs": [],
   "source": [
    "# 4. 꺾은선그래프그리기 - 임산부의 몸무게 변화\n"
   ]
  }
 ],
 "metadata": {
  "kernelspec": {
   "display_name": "Python 3 (ipykernel)",
   "language": "python",
   "name": "python3"
  },
  "language_info": {
   "codemirror_mode": {
    "name": "ipython",
    "version": 3
   },
   "file_extension": ".py",
   "mimetype": "text/x-python",
   "name": "python",
   "nbconvert_exporter": "python",
   "pygments_lexer": "ipython3",
   "version": "3.8.10"
  }
 },
 "nbformat": 4,
 "nbformat_minor": 5
}
