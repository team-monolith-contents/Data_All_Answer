{
 "cells": [
  {
   "cell_type": "markdown",
   "id": "c8423198-bbf4-4e78-b43a-bb01a098f887",
   "metadata": {},
   "source": [
    "### **💯 연습문제를 풀어봅시다**\n",
    "\n"
   ]
  },
  {
   "cell_type": "markdown",
   "id": "69779ce5-32d8-4ace-8399-f226e87838fc",
   "metadata": {
    "tags": []
   },
   "source": [
    "1. <a class=\"jcecodle-mk jcecodle-mk__problem-chip\" data-problem-id=\"nuRAz-IVE_s\" href='#jce-judge/open/nuRAz-IVE_s' target='_self'><span>판다스 - 데이터 나누기 - 행 기준 (비교 연산 1)</span></a>\n",
    "\n",
    "2. <a class=\"jcecodle-mk jcecodle-mk__problem-chip\" data-problem-id=\"BlvfsJPAf0c\" href='#jce-judge/open/BlvfsJPAf0c' target='_self'><span>판다스 - 데이터 나누기 - boolean indexing</span></a>\n",
    "\n",
    "3. <a class=\"jcecodle-mk jcecodle-mk__problem-chip\" data-problem-id=\"bwvFokLhC_Y\" href='#jce-judge/open/bwvFokLhC_Y' target='_self'><span>판다스 - 데이터 나누기 - boolean indexing(2)</span></a>\n",
    "\n",
    "4. <a class=\"jcecodle-mk jcecodle-mk__problem-chip\" data-problem-id=\"ChuKgwqgGus\" href='#jce-judge/open/ChuKgwqgGus' target='_self'><span>판다스 - 데이터 나누기 - 행 기준 (비교 연산 2)</span></a>\n",
    "\n",
    "5. <a class=\"jcecodle-mk jcecodle-mk__problem-chip\" data-problem-id=\"tYDpenjOzyA\" href='#jce-judge/open/tYDpenjOzyA' target='_self'><span>득표수 100이상</span></a>\n",
    "\n",
    "6. <a class=\"jcecodle-mk jcecodle-mk__problem-chip\" data-problem-id=\"KltxWJ2iYbs\" href='#jce-judge/open/KltxWJ2iYbs' target='_self'><span>키 170초과</span></a>\n",
    "\n",
    "7. <a class=\"jcecodle-mk jcecodle-mk__problem-chip\" data-problem-id=\"Dk1xdaA_OTE\" href='#jce-judge/open/Dk1xdaA_OTE' target='_self'><span>판다스 - 데이터 나누기 - 행 기준(비교 연산 3)</span></a>\n",
    "\n",
    "8. <a class=\"jcecodle-mk jcecodle-mk__problem-chip\" data-problem-id=\"j6F4bQcy91w\" href='#jce-judge/open/j6F4bQcy91w' target='_self'><span>판다스 - 데이터 나누기 - 행 기준 (포함 관계)</span></a>\n",
    "\n",
    "9. <a class=\"jcecodle-mk jcecodle-mk__problem-chip\" data-problem-id=\"0jksIko2Wvg\" href='#jce-judge/open/0jksIko2Wvg' target='_self'><span>판다스 - 데이터나누기 - 행 기준(포함관계 2)</span></a>\n",
    "\n",
    "10. <a class=\"jcecodle-mk jcecodle-mk__problem-chip\" data-problem-id=\"f_rtq-NVNxs\" href='#jce-judge/open/f_rtq-NVNxs' target='_self'><span>4반 빼고</span></a>\n",
    "\n",
    "11. <a class=\"jcecodle-mk jcecodle-mk__problem-chip\" data-problem-id=\"Zj3rqV004aU\" href='#jce-judge/open/Zj3rqV004aU' target='_self'><span>판다스 - 데이터 나누기 - 행 기준 (조건 조합)</span></a>\n",
    "\n",
    "12. <a class=\"jcecodle-mk jcecodle-mk__problem-chip\" data-problem-id=\"7SBVgSyGvaE\" href='#jce-judge/open/7SBVgSyGvaE' target='_self'><span>4반이 아니고 170이상</span></a>\n",
    "\n",
    "13. <a class=\"jcecodle-mk jcecodle-mk__problem-chip\" data-problem-id=\"36T7V0SjZtM\" href='#jce-judge/open/36T7V0SjZtM' target='_self'><span>판다스 - 데이터 나누기 - 행 기준(조건 조합 2)</span></a>\n"
   ]
  },
  {
   "cell_type": "code",
   "execution_count": null,
   "id": "3b8726ea-3f65-4d17-ae91-77f4b234937a",
   "metadata": {},
   "outputs": [],
   "source": [
    "# 1. 판다스 - 데이터 나누기 - 행 기준 (비교 연산 1)\n",
    "import pandas as pd\n",
    "df = pd.DataFrame({'품목': ['토마토', '사과', '오이', '만두', '아이스크림', '피자', '피자', '닭강정'],\n",
    "                  '가격': [7000, 5000, 2000, 8000, 3000, 7000, 9000, 9900],\n",
    "                  '종류': ['신선', '신선', '신선', '냉동', '냉동', '냉동', '조리', '조리'], \n",
    "                  '할인': [False, True, True, False, False, True, False, False]})\n",
    "\n",
    "price = int(input())\n",
    "print(df[df.가격<=price])"
   ]
  },
  {
   "cell_type": "code",
   "execution_count": null,
   "id": "0c022ac8-fb8e-44f8-bc50-0b5e68cdca64",
   "metadata": {},
   "outputs": [],
   "source": [
    "# 2. 판다스 - 데이터 나누기 - boolean indexing\n",
    "import pandas as pd\n",
    "import seaborn as sns\n",
    "df = sns.load_dataset('anagrams')\n",
    "\n",
    "print(df[df.attnr=='divided'])"
   ]
  },
  {
   "cell_type": "code",
   "execution_count": null,
   "id": "e28ec7a1-7a3f-42f9-8840-c630925522a1",
   "metadata": {},
   "outputs": [],
   "source": [
    "# 3. 판다스 - 데이터 나누기 - boolean indexing(2)\n",
    "import pandas as pd\n",
    "scores = pd.DataFrame(index=range(1, 11), \n",
    "                     data={'국어':[93, 88, 99, 20, 34, 87, 82, 13, 42, 74], \n",
    "                          '수학':[22, 4, 53, 53, 10, 14, 17, 41, 61, 75], \n",
    "                          '영어':[58, 53, 27, 26, 41, 81, 88, 43, 43, 55], \n",
    "                          '한국사':[12, 81, 67, 63, 52, 11, 27, 74, 32, 5]})\n",
    "\n",
    "print(scores[scores.국어<=50])"
   ]
  },
  {
   "cell_type": "code",
   "execution_count": null,
   "id": "d69fe45e-d312-41ad-90d6-df4d2628bcb7",
   "metadata": {},
   "outputs": [],
   "source": [
    "# 4. 판다스 - 데이터 나누기 - 행 기준 (비교 연산 2)\n",
    "import pandas as pd\n",
    "df = pd.DataFrame({'품목': ['토마토', '사과', '오이', '만두', '아이스크림', '피자', '피자', '닭강정'],\n",
    "                  '가격': [7000, 5000, 2000, 8000, 3000, 7000, 9000, 9900],\n",
    "                  '종류': ['신선', '신선', '신선', '냉동', '냉동', '냉동', '조리', '조리'], \n",
    "                  '할인': [False, True, True, False, False, True, False, False]})\n",
    "\n",
    "print(df.loc[df.할인, ['품목', '가격']])"
   ]
  },
  {
   "cell_type": "code",
   "execution_count": null,
   "id": "bac40840-e499-43f6-bf77-01aaf58be685",
   "metadata": {},
   "outputs": [],
   "source": [
    "# 5. 득표수 100이상\n",
    "import pandas as pd\n",
    "vote = pd.DataFrame(index=['A학생', 'B학생', 'C학생', 'D학생'], \n",
    "                   data = {'1학년': [98, 34, 22, 100], \n",
    "                          '2학년': [50, 22, 40, 10], \n",
    "                          '3학년': [99, 28, 33, 20]})\n",
    "\n",
    "print(vote[vote.sum(axis=1)>=100])"
   ]
  },
  {
   "cell_type": "code",
   "execution_count": null,
   "id": "139a8f5b-4d7b-4158-8fc7-a112de6d6432",
   "metadata": {},
   "outputs": [],
   "source": [
    "# 6. 키 170초과\n",
    "import pandas as pd\n",
    "df = pd.DataFrame(index=['김철수', '김영희', '김갑수', '이을수'],\n",
    "                 data = {'키':[190, 170, 177, 150], \n",
    "                        '몸무게':[88, 50, 70, 40], \n",
    "                        '나이':[18, 18, 18, 18]})\n",
    "\n",
    "print(df.loc[df['키']>170, ['몸무게', '나이']])"
   ]
  },
  {
   "cell_type": "code",
   "execution_count": null,
   "id": "5ca1e364-7456-49cb-9cd0-f88f7913724f",
   "metadata": {},
   "outputs": [],
   "source": [
    "# 7. 판다스 - 데이터 나누기 - 행 기준(비교 연산 3)\n",
    "import pandas as pd\n",
    "import seaborn as sns\n",
    "df = sns.load_dataset('flights')\n",
    "\n",
    "print(df[df.month=='Jan'].reset_index(drop=True))"
   ]
  },
  {
   "cell_type": "code",
   "execution_count": null,
   "id": "41daac6f-65ea-42f8-8568-d4d8ec22ed08",
   "metadata": {},
   "outputs": [],
   "source": [
    "# 8. 판다스 - 데이터 나누기 - 행 기준 (포함 관계)\n",
    "import pandas as pd\n",
    "df = pd.DataFrame({'품목': ['토마토', '사과', '오이', '만두', '아이스크림', '피자', '피자', '닭강정'],\n",
    "                  '가격': [7000, 5000, 2000, 8000, 3000, 7000, 9000, 9900],\n",
    "                  '종류': ['신선', '신선', '신선', '냉동', '냉동', '냉동', '조리', '조리'], \n",
    "                  '할인': [False, True, True, False, False, True, False, False]})\n",
    "\n",
    "a = input().split()\n",
    "print(df[df.종류.isin(a)])"
   ]
  },
  {
   "cell_type": "code",
   "execution_count": null,
   "id": "0d62187a-b1a7-4f34-b79a-35a10c803f24",
   "metadata": {},
   "outputs": [],
   "source": [
    "# 9. 판다스 - 데이터나누기 - 행 기준(포함관계 2)\n",
    "import pandas as pd\n",
    "import seaborn as sns\n",
    "df = sns.load_dataset('titanic')\n",
    "\n",
    "print(df.loc[df.deck.isin(['A', 'B']), ['survived', 'sex', 'age']].reset_index(drop=True))"
   ]
  },
  {
   "cell_type": "code",
   "execution_count": null,
   "id": "e09f9514-20fe-4785-83a6-88c2e4b93a7b",
   "metadata": {},
   "outputs": [],
   "source": [
    "# 10. 4반 빼고\n",
    "import pandas as pd\n",
    "import random \n",
    "random.seed(10)\n",
    "df = pd.DataFrame(index=range(1, 11),\n",
    "                 data = {'키':[190, 170, 177, 150, 190, 160, 172, 150, 148, 186], \n",
    "                        '몸무게':[88, 50, 70, 40, 88, 58, 73, 40, 44, 99], \n",
    "                        '나이':[18, 18, 18, 18, 18, 18, 18, 18, 18, 17], \n",
    "                        '반':[random.choice(['1반', '2반', '3반', '4반', '5반']) for i in range(10)]})\n",
    "\n",
    "class4 = df['반'].isin(['4반'])\n",
    "print(df[~class4])"
   ]
  },
  {
   "cell_type": "code",
   "execution_count": null,
   "id": "7d99b209-df4d-41dd-9e40-eca53511eb12",
   "metadata": {},
   "outputs": [],
   "source": [
    "# 11. 판다스 - 데이터 나누기 - 행 기준 (조건 조합)\n",
    "import pandas as pd\n",
    "df = pd.DataFrame({'품목': ['토마토', '사과', '오이', '만두', '아이스크림', '피자', '피자', '닭강정'],\n",
    "                  '가격': [7000, 5000, 2000, 8000, 3000, 7000, 9000, 9900],\n",
    "                  '종류': ['신선', '신선', '신선', '냉동', '냉동', '냉동', '조리', '조리'], \n",
    "                  '할인': [False, True, True, False, False, True, False, False]})\n",
    "\n",
    "price = int(input())\n",
    "condition1 = df.할인\n",
    "condition2 = df.가격<=price\n",
    "\n",
    "print(df[condition1 & condition2])"
   ]
  },
  {
   "cell_type": "code",
   "execution_count": null,
   "id": "05a0c373-ada2-4cb3-ad83-08cb77b622bd",
   "metadata": {},
   "outputs": [],
   "source": [
    "# 12. 4반이 아니고 170이상\n",
    "import pandas as pd\n",
    "import random \n",
    "random.seed(10)\n",
    "df = pd.DataFrame(index=range(1, 11),\n",
    "                 data = {'키':[random.randint(150, 199) for i in range(10)], \n",
    "                        '몸무게':[88, 50, 70, 40, 88, 58, 73, 40, 44, 99], \n",
    "                        '나이':[18, 18, 18, 18, 18, 18, 18, 18, 18, 17], \n",
    "                        '반':[random.choice(['1반', '2반', '3반', '4반', '5반']) for i in range(10)]})\n",
    "class4 = df['반'].isin(['4반'])\n",
    "height = df['키']>=170\n",
    "\n",
    "print(df[~class4 & height])"
   ]
  },
  {
   "cell_type": "code",
   "execution_count": null,
   "id": "3b458331-1884-4387-a194-ac8b0c02f7c0",
   "metadata": {},
   "outputs": [],
   "source": [
    "# 13. 판다스 - 데이터 나누기 - 행 기준(조건 조합 2)\n",
    "import pandas as pd\n",
    "import seaborn as sns\n",
    "df = sns.load_dataset('glue')\n",
    "\n",
    "year = df['Year'].isin([2017, 2018])\n",
    "encoder_T = df['Encoder']=='Transformer'\n",
    "score = df['Score']>=90\n",
    "\n",
    "print(df[(~year&encoder_T)|score])"
   ]
  }
 ],
 "metadata": {
  "kernelspec": {
   "display_name": "Python 3 (ipykernel)",
   "language": "python",
   "name": "python3"
  },
  "language_info": {
   "codemirror_mode": {
    "name": "ipython",
    "version": 3
   },
   "file_extension": ".py",
   "mimetype": "text/x-python",
   "name": "python",
   "nbconvert_exporter": "python",
   "pygments_lexer": "ipython3",
   "version": "3.10.10"
  }
 },
 "nbformat": 4,
 "nbformat_minor": 5
}
