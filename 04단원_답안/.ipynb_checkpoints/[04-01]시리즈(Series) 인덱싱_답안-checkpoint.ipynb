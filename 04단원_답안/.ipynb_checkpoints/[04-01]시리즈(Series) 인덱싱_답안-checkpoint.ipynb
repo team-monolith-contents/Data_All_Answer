{
 "cells": [
  {
   "cell_type": "markdown",
   "id": "e029ae0a-c2de-4170-9fe7-70f048f5773d",
   "metadata": {
    "tags": []
   },
   "source": [
    "### **💯 연습문제를 풀어봅시다**\n",
    "1. <a class=\"jcecodle-mk jcecodle-mk__problem-chip\" data-problem-id=\"85Z2jvqifdo\" href='#jce-judge/open/85Z2jvqifdo' target='_self'><span>판다스 기초 - 시리즈 인덱싱 순번 이용 (1)</span></a>\n",
    "2. <a class=\"jcecodle-mk jcecodle-mk__problem-chip\" data-problem-id=\"mEJX6nUojpk\" href='#jce-judge/open/mEJX6nUojpk' target='_self'><span>상품 시리즈 인덱싱</span></a>\n",
    "3. <a class=\"jcecodle-mk jcecodle-mk__problem-chip\" data-problem-id=\"cyt-JLuGCYI\" href='#jce-judge/open/cyt-JLuGCYI' target='_self'><span>성적 시리즈 인덱싱 (1)</span></a>\n",
    "4. <a class=\"jcecodle-mk jcecodle-mk__problem-chip\" data-problem-id=\"2pC2Zvg9LkY\" href='#jce-judge/open/2pC2Zvg9LkY' target='_self'><span>판다스 기초 - 시리즈 인덱싱 순번 이용 (2)</span></a>\n",
    "5. <a class=\"jcecodle-mk jcecodle-mk__problem-chip\" data-problem-id=\"E4yxB-12C0c\" href='#jce-judge/open/E4yxB-12C0c' target='_self'><span>연속 3줄 인덱싱</span></a>\n",
    "6. <a class=\"jcecodle-mk jcecodle-mk__problem-chip\" data-problem-id=\"IONclzSz0Wo\" href='#jce-judge/open/IONclzSz0Wo' target='_self'><span>장학급 수혜 대상자</span></a>\n",
    "7. <a class=\"jcecodle-mk jcecodle-mk__problem-chip\" data-problem-id=\"YKhP6f05A60\" href='#jce-judge/open/YKhP6f05A60' target='_self'><span>판다스 기초 - 시리즈 인덱싱 불연속한 다수행</span></a>\n",
    "8. <a class=\"jcecodle-mk jcecodle-mk__problem-chip\" data-problem-id=\"4e1mBJFGmCk\" href='#jce-judge/open/4e1mBJFGmCk' target='_self'><span>과일만 모으기(1)</span></a>\n",
    "9. <a class=\"jcecodle-mk jcecodle-mk__problem-chip\" data-problem-id=\"uOUUxOYUevk\" href='#jce-judge/open/uOUUxOYUevk' target='_self'><span>홀수행 인덱싱</span></a>\n",
    "10. <a class=\"jcecodle-mk jcecodle-mk__problem-chip\" data-problem-id=\"-fJrKazhUCc\" href='#jce-judge/open/-fJrKazhUCc' target='_self'><span>판다스 기초 - 시리즈 인덱싱 이름 이용(1)</span></a>\n",
    "11. <a class=\"jcecodle-mk jcecodle-mk__problem-chip\" data-problem-id=\"BW1n3ugNlfc\" href='#jce-judge/open/BW1n3ugNlfc' target='_self'><span>가족 시리즈 인덱싱</span></a>\n",
    "12. <a class=\"jcecodle-mk jcecodle-mk__problem-chip\" data-problem-id=\"O96L51_d4vg\" href='#jce-judge/open/O96L51_d4vg' target='_self'><span>결제 비용 (1)</span></a>\n",
    "13. <a class=\"jcecodle-mk jcecodle-mk__problem-chip\" data-problem-id=\"py3oeSeoqxk\" href='#jce-judge/open/py3oeSeoqxk' target='_self'><span>판다스 기초 - 시리즈 인덱싱 이름 이용 (2)</span></a>\n",
    "14. <a class=\"jcecodle-mk jcecodle-mk__problem-chip\" data-problem-id=\"-kmyKPqL8Qw\" href='#jce-judge/open/-kmyKPqL8Qw' target='_self'><span>성적 시리즈 인덱싱 (2)</span></a>\n",
    "15. <a class=\"jcecodle-mk jcecodle-mk__problem-chip\" data-problem-id=\"pN_CQGS4B8c\" href='#jce-judge/open/pN_CQGS4B8c' target='_self'><span>판다스 기초 - 시리즈 인덱싱 불연속한 다수행 (2)</span></a>\n",
    "16. <a class=\"jcecodle-mk jcecodle-mk__problem-chip\" data-problem-id=\"OWcA8MHupII\" href='#jce-judge/open/OWcA8MHupII' target='_self'><span>결제 비용 (2)</span></a>\n"
   ]
  },
  {
   "cell_type": "code",
   "execution_count": null,
   "id": "57a6de1e-780f-4fad-b08f-d9f0e6fcde51",
   "metadata": {},
   "outputs": [],
   "source": [
    "# 1. 판다스 기초 - 시리즈 인덱싱 이름 이용 (1)\n",
    "import pandas as pd\n",
    "좋아하는간식 = pd.Series(index=['1위', '2위', '3위', '4위'], data=['아이스크림', '초콜렛', '풍선껌', '떡뻥'])\n",
    "\n",
    "n = int(input())\n",
    "print(좋아하는간식[n-1])"
   ]
  },
  {
   "cell_type": "code",
   "execution_count": null,
   "id": "3b0c3875-a9af-49a8-bd00-319e143472c9",
   "metadata": {},
   "outputs": [],
   "source": [
    "# 2. 상품 시리즈 인덱싱\n",
    "import pandas as pd\n",
    "ser = pd.Series(['자전거', '운동복', '학용품 세트'])\n",
    "rank = int(input())\n",
    "\n",
    "print(ser[rank-1])"
   ]
  },
  {
   "cell_type": "code",
   "execution_count": null,
   "id": "19098d55-a075-4777-bdc2-0ee1918d16ec",
   "metadata": {},
   "outputs": [],
   "source": [
    "# 3. 성적 시리즈 인덱싱 (1)\n",
    "import pandas as pd\n",
    "index = ['국어', '수학', '영어', '사회', '과학', '일본어']\n",
    "data = [100, 90, 80, 50, 50, 10]\n",
    "ser = pd.Series(index=index, data=data)\n",
    "print(ser[0]+ser[1])"
   ]
  },
  {
   "cell_type": "code",
   "execution_count": null,
   "id": "c5836cc1-dd5e-4ebf-83a4-560e51bcf098",
   "metadata": {},
   "outputs": [],
   "source": [
    "# 4. 판다스 기초 - 시리즈 인덱싱 순번 이용 (2)\n",
    "import pandas as pd\n",
    "number = pd.Series(['zero', 'one', 'two', 'three', 'four', 'five', 'six', 'seven'])\n",
    "a = int(input())\n",
    "b = int(input())\n",
    "print(number[a:b])"
   ]
  },
  {
   "cell_type": "code",
   "execution_count": null,
   "id": "1232f881-1912-4462-b436-96b6012706e7",
   "metadata": {},
   "outputs": [],
   "source": [
    "# 5. 연속 3줄 인덱싱\n",
    "import pandas as pd\n",
    "fruits = ['금귤', '용과', '무화과', '수박', '리치', '망고']\n",
    "prices = [500, 1000, 1000, 700, 700, 1200]\n",
    "ser = pd.Series(index=fruits, data=prices)\n",
    "n = int(input())\n",
    "\n",
    "print(ser[n:n+3])"
   ]
  },
  {
   "cell_type": "code",
   "execution_count": null,
   "id": "de7d3791-d69f-40c5-9f1c-d60ee887a51c",
   "metadata": {},
   "outputs": [],
   "source": [
    "# 6. 장학금 수혜 대상자\n",
    "import pandas as pd\n",
    "ser = pd.Series(['김철수', '김영희', '김갑수', '박을수', '이병찬', '최정한', '이무동'])\n",
    "print(ser[:5])"
   ]
  },
  {
   "cell_type": "code",
   "execution_count": null,
   "id": "97dde146-ca98-4fe6-9312-02de478f5e9c",
   "metadata": {},
   "outputs": [],
   "source": [
    "# 7. 판다스 기초 - 시리즈 인덱싱 불연속한 다수행\n",
    "import pandas as pd\n",
    "items = pd.Series(['사과', '공책', '우유', '휴지', '바나나', '새우'])\n",
    "\n",
    "index = map(int, input().split())\n",
    "\n",
    "print(items[index])"
   ]
  },
  {
   "cell_type": "code",
   "execution_count": null,
   "id": "6da6495c-b525-4729-b9fc-60baf41dbdb5",
   "metadata": {},
   "outputs": [],
   "source": [
    "# 8. 과일만 모으기 (1)\n",
    "import pandas as pd\n",
    "refriger = ['사과', '갈비탕', '귤', '마라탕', '수박', '고추장', '참기름', '배']\n",
    "ser = pd.Series(refriger)\n",
    "print(ser[[0, 2, 4, 7]])"
   ]
  },
  {
   "cell_type": "code",
   "execution_count": null,
   "id": "0c8d382d-2d16-4d51-af8b-405f855447d9",
   "metadata": {},
   "outputs": [],
   "source": [
    "# 9. 홀수행 인덱싱\n",
    "import pandas as pd\n",
    "items = pd.Series(['사과', '공책', '우유', '휴지', '바나나', '새우'])\n",
    "print(items[[1, 3, 5]])"
   ]
  },
  {
   "cell_type": "code",
   "execution_count": null,
   "id": "797ed23a-dd8b-44dc-8bcf-98a04e3370ee",
   "metadata": {},
   "outputs": [],
   "source": [
    "# 10. 판다스 기초 - 시리즈 인덱싱 이름 이용 (1)\n",
    "import pandas as pd\n",
    "과일 = pd.Series(index=['사과', '포도', '바나나', '복숭아'], data=['apple', 'grape', 'banana', 'peach'])\n",
    "\n",
    "idx = input()\n",
    "print(과일[idx])"
   ]
  },
  {
   "cell_type": "code",
   "execution_count": null,
   "id": "2b9b879d-f084-4de4-ab02-dd5cf5d59dbf",
   "metadata": {},
   "outputs": [],
   "source": [
    "# 11. 가족 시리즈 인덱싱\n",
    "import pandas as pd\n",
    "ser = pd.Series(index=['엄마', '아빠', '나', '언니'], data=[45, 50, 20, 25])\n",
    "print(ser['엄마'])\n",
    "print(ser['나'])"
   ]
  },
  {
   "cell_type": "code",
   "execution_count": null,
   "id": "64225741-06d0-4f3a-ac59-242d03b1e48d",
   "metadata": {},
   "outputs": [],
   "source": [
    "# 12. 결제 비용 (1)\n",
    "import pandas as pd\n",
    "menu = ['파스타', '스테이크', '피자', '샐러드', '음료수']\n",
    "price = [9000, 15000, 15000, 7000, 2000]\n",
    "receipt = pd.Series(index=menu, data=price)\n",
    "\n",
    "print(receipt['파스타']+receipt['스테이크'])"
   ]
  },
  {
   "cell_type": "code",
   "execution_count": null,
   "id": "2bab69d0-1120-4d03-8a87-72a38b3b4337",
   "metadata": {},
   "outputs": [],
   "source": [
    "# 13. 판다스 기초 - 시리즈 인덱싱 이름 이용 (2)\n",
    "import pandas as pd\n",
    "ShoppingList = pd.Series(index=['공책', '연필', '지우개', '슬라임'], data=[5, 3, 1, 2])\n",
    "\n",
    "a = input()\n",
    "b = input()\n",
    "print(ShoppingList[a:b])"
   ]
  },
  {
   "cell_type": "code",
   "execution_count": null,
   "id": "fe8685a6-ee0c-4b7d-aaf9-5368b6dce02f",
   "metadata": {},
   "outputs": [],
   "source": [
    "# 14. 성적 시리즈 인덱싱\n",
    "import pandas as pd\n",
    "index = ['국어', '수학', '영어', '사회', '과학', '일본어']\n",
    "data = [100, 90, 80, 50, 50, 10]\n",
    "ser = pd.Series(index=index, data=data)\n",
    "print(ser['국어':'영어'])"
   ]
  },
  {
   "cell_type": "code",
   "execution_count": null,
   "id": "a133cbbc-6697-45e7-8804-e4f1c26bda71",
   "metadata": {},
   "outputs": [],
   "source": [
    "# 15. 판다스 기초 - 시리즈 인덱싱 불연속한 다수행 (2)\n",
    "import pandas as pd\n",
    "price = pd.Series(index=['사과', '공책', '우유', '휴지', '바나나', '새우'], data=[1000, 500, 700, 500, 4000, 8000])\n",
    "\n",
    "a = input().split()\n",
    "print(price[a])"
   ]
  },
  {
   "cell_type": "code",
   "execution_count": null,
   "id": "f19d8d7d-909d-4291-9b4b-1d9d6a3cc7cd",
   "metadata": {},
   "outputs": [],
   "source": [
    "# 16. 결제 비용 (2)\n",
    "import pandas as pd\n",
    "menu = ['스테이크', '파스타', '피자', '샐러드', '음료수']\n",
    "price = [15000, 9000, 15000, 7000, 2000]\n",
    "receipt = pd.Series(index=menu, data=price)\n",
    "\n",
    "print(receipt[['스테이크', '샐러드', '음료수']])"
   ]
  }
 ],
 "metadata": {
  "kernelspec": {
   "display_name": "Python 3 (ipykernel)",
   "language": "python",
   "name": "python3"
  },
  "language_info": {
   "codemirror_mode": {
    "name": "ipython",
    "version": 3
   },
   "file_extension": ".py",
   "mimetype": "text/x-python",
   "name": "python",
   "nbconvert_exporter": "python",
   "pygments_lexer": "ipython3",
   "version": "3.8.10"
  }
 },
 "nbformat": 4,
 "nbformat_minor": 5
}
