{
 "cells": [
  {
   "cell_type": "markdown",
   "id": "47a105bf-0730-44fa-991b-8b6d11cda8fe",
   "metadata": {
    "tags": []
   },
   "source": [
    "### **💯 연습문제를 풀어봅시다**\n",
    "1. <a class=\"jcecodle-mk jcecodle-mk__problem-chip\" data-problem-id=\"FUaGcGR4Uj0\" href='#jce-judge/open/FUaGcGR4Uj0' target='_self'><span>판다스 - 데이터 간 비교연산 (숫자)(1)</span></a>\n",
    "2. <a class=\"jcecodle-mk jcecodle-mk__problem-chip\" data-problem-id=\"P9vVm3ZQdNY\" href='#jce-judge/open/P9vVm3ZQdNY' target='_self'><span>다른 숫자</span></a>\n",
    "3. <a class=\"jcecodle-mk jcecodle-mk__problem-chip\" data-problem-id=\"c_ZV7Png7h4\" href='#jce-judge/open/c_ZV7Png7h4' target='_self'><span>같은 숫자</span></a>\n",
    "4. <a class=\"jcecodle-mk jcecodle-mk__problem-chip\" data-problem-id=\"_dhAAA7XWkM\" href='#jce-judge/open/_dhAAA7XWkM' target='_self'><span>판다스 - 데이터 간 비교연산 (숫자) (2)</span></a>\n",
    "5. <a class=\"jcecodle-mk jcecodle-mk__problem-chip\" data-problem-id=\"0a0cgdPrpIE\" href='#jce-judge/open/0a0cgdPrpIE' target='_self'><span>더 큰 데이터</span></a>\n",
    "6. <a class=\"jcecodle-mk jcecodle-mk__problem-chip\" data-problem-id=\"zgWKHWDCxkk\" href='#jce-judge/open/zgWKHWDCxkk' target='_self'><span>크거나 같은 데이터</span></a>\n",
    "7. <a class=\"jcecodle-mk jcecodle-mk__problem-chip\" data-problem-id=\"UH1YOIZHn4c\" href='#jce-judge/open/UH1YOIZHn4c' target='_self'><span>판다스 - 데이터 간 비교연산 (문자)</span></a>\n",
    "8. <a class=\"jcecodle-mk jcecodle-mk__problem-chip\" data-problem-id=\"cCyTQJsBzNE\" href='#jce-judge/open/cCyTQJsBzNE' target='_self'><span>다른 문자</span></a>\n",
    "9. <a class=\"jcecodle-mk jcecodle-mk__problem-chip\" data-problem-id=\"fr9NIKOJ1Sk\" href='#jce-judge/open/fr9NIKOJ1Sk' target='_self'><span>같은 문자</span></a>\n"
   ]
  },
  {
   "cell_type": "code",
   "execution_count": null,
   "id": "5bd23ae1-2942-4c07-9f63-016ce91b6348",
   "metadata": {},
   "outputs": [],
   "source": [
    "# 1. 판다스 - 데이터 간 비교연산 (숫자) (1)\n",
    "import pandas as pd\n",
    "a = pd.DataFrame([[True,True,True],\n",
    "                  [True,True,True],\n",
    "                  [True,True,True]])\n",
    "b = pd.DataFrame([[False,True,False],\n",
    "                  [True,False,True],\n",
    "                  [False,True,False]])\n",
    "print(a & b)"
   ]
  },
  {
   "cell_type": "code",
   "execution_count": null,
   "id": "ff15689b-9ca1-4a93-9c87-e85bbe6c6bb8",
   "metadata": {},
   "outputs": [],
   "source": [
    "# 2. 다른 숫자\n",
    "import pandas as pd\n",
    "df1 = pd.DataFrame([[1, 3, 5], [7, 9, 11]])\n",
    "df2 = pd.DataFrame([[1, 4, 5], [7, 1, 10]])\n",
    "print(df1!=df2)"
   ]
  },
  {
   "cell_type": "code",
   "execution_count": null,
   "id": "a9deda02-662a-449f-9073-967212618535",
   "metadata": {},
   "outputs": [],
   "source": [
    "# 3. 같은 숫자\n",
    "import pandas as pd\n",
    "df1 = pd.DataFrame([[1, 3, 5], [7, 9, 11]])\n",
    "df2 = pd.DataFrame([[1, 4, 5], [7, 1, 10]])\n",
    "print(df1==df2)"
   ]
  },
  {
   "cell_type": "code",
   "execution_count": null,
   "id": "ea48b14c-47a5-4bdf-a5ba-2e5ecfb5f681",
   "metadata": {},
   "outputs": [],
   "source": [
    "# 4. 판다스 - 데이터 간 비교연산 (숫자) (2)\n",
    "import pandas as pd\n",
    "a = pd.DataFrame([[1,1,1],\n",
    "                  [1,1,1],\n",
    "                  [1,1,1]])\n",
    "b = pd.DataFrame([[1,2,2],\n",
    "                  [1,1,2],\n",
    "                  [1,1,1]])\n",
    "print(a < b)"
   ]
  },
  {
   "cell_type": "code",
   "execution_count": null,
   "id": "c5e0fdad-e7ae-45e8-8221-90eccaff247d",
   "metadata": {},
   "outputs": [],
   "source": [
    "# 5. 더 큰 데이터\n",
    "import pandas as pd\n",
    "df1 = pd.DataFrame([[1, 3, 5], [7, 9, 11]])\n",
    "df2 = pd.DataFrame([[1, 4, 5], [7, 1, 10]])\n",
    "print(df1>df2)"
   ]
  },
  {
   "cell_type": "code",
   "execution_count": null,
   "id": "40bd395a-a5cb-49ec-9d4c-0c83efdc61fc",
   "metadata": {},
   "outputs": [],
   "source": [
    "# 6. 크거나 같은 데이터\n",
    "import pandas as pd\n",
    "df1 = pd.DataFrame([[1, 3, 5], [7, 9, 11]])\n",
    "df2 = pd.DataFrame([[1, 4, 5], [7, 1, 10]])\n",
    "print(df1>=df2)"
   ]
  },
  {
   "cell_type": "code",
   "execution_count": null,
   "id": "108bfe3a-a297-437e-897d-0b65056f467e",
   "metadata": {},
   "outputs": [],
   "source": [
    "# 7. 판다스 - 데이터 간 비교연산 (문자)\n",
    "import pandas as pd\n",
    "영희 = pd.Series(index=['찌개', '냉면', '덮밥'], data=['김치', '비빔', '회'])\n",
    "철수 = pd.Series(index=['찌개', '냉면', '덮밥'], data=['된장', '물', '회'])\n",
    "\n",
    "menu = input()\n",
    "if 영희[menu]==철수[menu]:\n",
    "    print('같이먹자')\n",
    "else:\n",
    "    print('따로먹자')"
   ]
  },
  {
   "cell_type": "code",
   "execution_count": null,
   "id": "60e2bd5d-7415-414e-9aff-6788a0eb49d2",
   "metadata": {},
   "outputs": [],
   "source": [
    "# 8. 다른 문자\n",
    "import pandas as pd\n",
    "df1 = pd.DataFrame([['짬뽕', '바다', '여름'], ['겨울', '더위', '검은색']])\n",
    "df2 = pd.DataFrame([['짬뽕', '산', '겨울'], ['겨울', '더위', '하얀색']])\n",
    "\n",
    "print(df1!=df2)"
   ]
  },
  {
   "cell_type": "code",
   "execution_count": null,
   "id": "b42708e9-1a79-480f-af0d-34ca6c6f9e0f",
   "metadata": {},
   "outputs": [],
   "source": [
    "# 9. 같은 문자\n",
    "import pandas as pd\n",
    "df1 = pd.DataFrame([['짬뽕', '바다', '여름'], ['겨울', '더위', '검은색']])\n",
    "df2 = pd.DataFrame([['짬뽕', '산', '겨울'], ['겨울', '더위', '하얀색']])\n",
    "\n",
    "print(df1==df2)"
   ]
  }
 ],
 "metadata": {
  "kernelspec": {
   "display_name": "Python 3 (ipykernel)",
   "language": "python",
   "name": "python3"
  },
  "language_info": {
   "codemirror_mode": {
    "name": "ipython",
    "version": 3
   },
   "file_extension": ".py",
   "mimetype": "text/x-python",
   "name": "python",
   "nbconvert_exporter": "python",
   "pygments_lexer": "ipython3",
   "version": "3.8.10"
  }
 },
 "nbformat": 4,
 "nbformat_minor": 5
}
