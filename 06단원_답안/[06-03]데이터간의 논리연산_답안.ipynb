{
 "cells": [
  {
   "cell_type": "markdown",
   "id": "38db1753-0a8b-43fa-9c4f-02b99266935c",
   "metadata": {
    "tags": []
   },
   "source": [
    "### **💯 연습문제를 풀어봅시다**\n",
    "1. <a class=\"jcecodle-mk jcecodle-mk__problem-chip\" data-problem-id=\"FGg5iMJx6Yg\" href='#jce-judge/open/FGg5iMJx6Yg' target='_self'><span>판다스 기초 - 시리즈의 논리연산</span></a>\n",
    "2. <a class=\"jcecodle-mk jcecodle-mk__problem-chip\" data-problem-id=\"zfwI4RCE4C0\" href='#jce-judge/open/zfwI4RCE4C0' target='_self'><span>판다스 기초 - 시리즈의 비교연산과 논리연산</span></a>\n",
    "3. <a class=\"jcecodle-mk jcecodle-mk__problem-chip\" data-problem-id=\"Szt8scMA26c\" href='#jce-judge/open/Szt8scMA26c' target='_self'><span>판다스 기초 - 데이터 프레임의 논리연산</span></a>\n",
    "4. <a class=\"jcecodle-mk jcecodle-mk__problem-chip\" data-problem-id=\"pRVRIoK0ka4\" href='#jce-judge/open/pRVRIoK0ka4' target='_self'><span>판다스 기초 - 데이터 프레임의 비교연산과 논리연산</span></a>\n",
    "5. <a class=\"jcecodle-mk jcecodle-mk__problem-chip\" data-problem-id=\"sE5fWvumZ3M\" href='#jce-judge/open/sE5fWvumZ3M' target='_self'><span>판다스 기초 - 인덱스가 다른 경우의 논리연산(시리즈)</span></a>\n",
    "6. <a class=\"jcecodle-mk jcecodle-mk__problem-chip\" data-problem-id=\"VUZjN0dOmIA\" href='#jce-judge/open/VUZjN0dOmIA' target='_self'><span>판다스 기초 - 인덱스가 다른 경우의 논리연산(데이터 프레임)</span></a>\n"
   ]
  },
  {
   "cell_type": "code",
   "execution_count": null,
   "id": "0a9bfa2d-528e-4938-bcfa-989d85419ed3",
   "metadata": {},
   "outputs": [],
   "source": [
    "# 1. 판다스 기초 - 시리즈의 논리연산\n",
    "import pandas as pd\n",
    "ser1 = pd.Series([True, True, False, False])\n",
    "ser2 = pd.Series([True, False, True, False])\n",
    "\n",
    "print(ser1^ser2)"
   ]
  },
  {
   "cell_type": "code",
   "execution_count": null,
   "id": "39297517-a05e-4de3-a543-2ac6d7c4f5b5",
   "metadata": {},
   "outputs": [],
   "source": [
    "# 2. 판다스 기초 - 시리즈의 비교연산과 논리연산\n",
    "import pandas as pd\n",
    "ser1 = pd.Series([0, 1, 2, 3, 4, 5, 6])\n",
    "ser2 = pd.Series([0, 1, 4, 3, 2, 5, 6])\n",
    "ser3 = pd.Series([0, 1, 2, 3, 4, 5, 6])\n",
    "\n",
    "print((ser1==ser3) & (ser2==ser3))"
   ]
  },
  {
   "cell_type": "code",
   "execution_count": null,
   "id": "d6369655-3d1f-4497-bd43-aa9279bd56d8",
   "metadata": {},
   "outputs": [],
   "source": [
    "# 3. 판다스 기초 - 데이터 프레임의 논리연산\n",
    "import pandas as pd\n",
    "df1 = pd.DataFrame(data = [[True, False, True, False], \n",
    "                           [True, True, False, False], \n",
    "                           [False, True, False, True], \n",
    "                           [False, True, True, False]])\n",
    "df2 = pd.DataFrame(data = [[True, True, False, False], \n",
    "                           [True, False, True, False], \n",
    "                           [False, True, True, False], \n",
    "                           [False, True, False, True]])\n",
    "\n",
    "print(~df1|df2)"
   ]
  },
  {
   "cell_type": "code",
   "execution_count": null,
   "id": "334206b4-ff5a-4eed-932b-fa007e298b1b",
   "metadata": {},
   "outputs": [],
   "source": [
    "# 4. 판다스 기초 - 데이터 프레임의 비교연산과 논리연산\n",
    "import pandas as pd\n",
    "df1 = pd.DataFrame([[1, 2, 3, 4, 5], \n",
    "                  [2, 4, 6, 7, 8], \n",
    "                  [1, 3, 5, 7, 9], \n",
    "                  [1, 2, 3, 1, 2]])\n",
    "df2 = pd.DataFrame([[1, 3, 3, 2, 5], \n",
    "                  [2, 4, 4, 7, 5], \n",
    "                  [1, 3, 3, 2, 3], \n",
    "                  [1, 2, 3, 4, 5]])\n",
    "df3 = pd.DataFrame([[2, 3, 4, 5, 5], \n",
    "                  [3, 4, 8, 7, 6], \n",
    "                  [8, 3, 5, 6, 10], \n",
    "                  [1, 2, 4, 3, 4]])\n",
    "\n",
    "print((df1<df3)|(df2<df3))"
   ]
  },
  {
   "cell_type": "code",
   "execution_count": null,
   "id": "a3af9afe-4356-4efc-8b61-623877db2858",
   "metadata": {},
   "outputs": [],
   "source": [
    "# 5. 판다스 기초 - 인덱스가 다른 경우의 논리연산(시리즈)\n",
    "import pandas as pd\n",
    "ser1 = pd.Series(index=[1, 2, 3, 4], data=[True, True, False, False])\n",
    "ser2 = pd.Series(index=[0, 1, 2, 3], data=[True, False, True, False])\n",
    "\n",
    "print(ser1&ser2)"
   ]
  },
  {
   "cell_type": "code",
   "execution_count": null,
   "id": "2f87d24e-dbc4-4ae1-843e-bb435d1c4617",
   "metadata": {},
   "outputs": [],
   "source": [
    "# 6. 판다스 기초 - 인덱스가 다른 경우의 논리연산(데이터 프레임)\n",
    "import pandas as pd\n",
    "df1 = pd.DataFrame(data = [[True, False, True, False], \n",
    "                           [True, True, False, False], \n",
    "                           [False, True, False, True], \n",
    "                           [False, True, True, False]],\n",
    "                  index = [1, 2, 3, 4])\n",
    "df2 = pd.DataFrame(data = [[True, True, False, False], \n",
    "                           [True, False, True, False], \n",
    "                           [False, True, True, False], \n",
    "                           [False, True, False, True]],\n",
    "                  index = [3, 4, 5, 6])\n",
    "\n",
    "print(df1|df2)"
   ]
  }
 ],
 "metadata": {
  "kernelspec": {
   "display_name": "Python 3 (ipykernel)",
   "language": "python",
   "name": "python3"
  },
  "language_info": {
   "codemirror_mode": {
    "name": "ipython",
    "version": 3
   },
   "file_extension": ".py",
   "mimetype": "text/x-python",
   "name": "python",
   "nbconvert_exporter": "python",
   "pygments_lexer": "ipython3",
   "version": "3.10.10"
  }
 },
 "nbformat": 4,
 "nbformat_minor": 5
}
