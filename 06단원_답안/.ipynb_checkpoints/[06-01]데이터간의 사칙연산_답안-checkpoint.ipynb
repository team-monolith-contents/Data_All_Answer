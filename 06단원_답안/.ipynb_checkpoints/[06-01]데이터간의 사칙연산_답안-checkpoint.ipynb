{
 "cells": [
  {
   "cell_type": "markdown",
   "id": "e81369d9-b359-4902-b6f9-5064cb41ca75",
   "metadata": {
    "tags": []
   },
   "source": [
    "### **💯 연습문제를 풀어봅시다**\n",
    "1. <a class=\"jcecodle-mk jcecodle-mk__problem-chip\" data-problem-id=\"Xtrlc_bCbtE\" href='#jce-judge/open/Xtrlc_bCbtE' target='_self'><span>판다스 - 데이터 간 사칙연산 (1)</span></a>\n",
    "2. <a class=\"jcecodle-mk jcecodle-mk__problem-chip\" data-problem-id=\"Q7oNmKNgX78\" href='#jce-judge/open/Q7oNmKNgX78' target='_self'><span>빼고 곱하기</span></a>\n",
    "3. <a class=\"jcecodle-mk jcecodle-mk__problem-chip\" data-problem-id=\"PZDPU0vB73I\" href='#jce-judge/open/PZDPU0vB73I' target='_self'><span>빼고 더하기</span></a>\n",
    "2. <a class=\"jcecodle-mk jcecodle-mk__problem-chip\" data-problem-id=\"-Vj7ud9-Ozo\" href='#jce-judge/open/-Vj7ud9-Ozo' target='_self'><span>판다스 - 데이터 간 사칙연산 (2)</span></a>\n",
    "4. <a class=\"jcecodle-mk jcecodle-mk__problem-chip\" data-problem-id=\"wvkHK-RzhiU\" href='#jce-judge/open/wvkHK-RzhiU' target='_self'><span>출생연도와 학번</span></a>\n",
    "5. <a class=\"jcecodle-mk jcecodle-mk__problem-chip\" data-problem-id=\"ptPDSw-zES8\" href='#jce-judge/open/ptPDSw-zES8' target='_self'><span>인덱스 다른 데이터 3개</span></a>\n",
    "3. <a class=\"jcecodle-mk jcecodle-mk__problem-chip\" data-problem-id=\"h7X7CbcCYRw\" href='#jce-judge/open/h7X7CbcCYRw' target='_self'><span>판다스 - 데이터 간 사칙연산 (3)</span></a>\n",
    "6. <a class=\"jcecodle-mk jcecodle-mk__problem-chip\" data-problem-id=\"uMaAZRsho9E\" href='#jce-judge/open/uMaAZRsho9E' target='_self'><span>크기가 다른 데이터</span></a>\n",
    "7. <a class=\"jcecodle-mk jcecodle-mk__problem-chip\" data-problem-id=\"UfvzpSUUK1o\" href='#jce-judge/open/UfvzpSUUK1o' target='_self'><span>크기, 인덱스 다른 데이터</span></a>\n"
   ]
  },
  {
   "cell_type": "code",
   "execution_count": null,
   "id": "425bc5e4-b88f-451f-8adb-17d6dd63ba79",
   "metadata": {},
   "outputs": [],
   "source": [
    "# 1. 판다스 - 데이터 간 사칙연산 (1)\n",
    "import pandas as pd\n",
    "a = pd.Series([10, 10, 10])  \n",
    "b = pd.Series([1, 2, 3])\n",
    "\n",
    "operation = input()\n",
    "\n",
    "if operation == '합':\n",
    "    print(a+b)\n",
    "elif operation == '차':\n",
    "    print(a-b)\n",
    "elif operation == '곱':\n",
    "    print(a*b)\n",
    "elif operation == '몫':\n",
    "    print(a/b)"
   ]
  },
  {
   "cell_type": "code",
   "execution_count": null,
   "id": "8eac5da2-0cbc-4811-be42-27599db61139",
   "metadata": {},
   "outputs": [],
   "source": [
    "# 2. 빼고 곱하기\n",
    "import pandas as pd\n",
    "import numpy as np\n",
    "df1 = pd.DataFrame(np.arange(1, 10).reshape(3, 3))\n",
    "df2 = pd.DataFrame(np.arange(11, 20).reshape(3, 3))\n",
    "df3 = pd.DataFrame(np.arange(21, 30).reshape(3, 3))\n",
    "\n",
    "print((df3-df1)*df2)\n"
   ]
  },
  {
   "cell_type": "code",
   "execution_count": null,
   "id": "088ec485-1f7f-4345-9e69-3eebdd643227",
   "metadata": {},
   "outputs": [],
   "source": [
    "# 3. 빼고 더하기\n",
    "import pandas as pd\n",
    "import numpy as np\n",
    "df1 = pd.DataFrame(np.arange(1, 11).reshape(2, 5))\n",
    "df2 = pd.DataFrame(np.arange(11, 21).reshape(2, 5))\n",
    "df3 = pd.DataFrame(np.arange(21, 31).reshape(2, 5))\n",
    "\n",
    "print(df1-df2+df3)"
   ]
  },
  {
   "cell_type": "code",
   "execution_count": null,
   "id": "03c9ddf4-09c1-4dab-b8dc-b86f9f7c5c8a",
   "metadata": {},
   "outputs": [],
   "source": [
    "# 4. 판다스 - 데이터 간 사칙연산 (2)\n",
    "import pandas as pd\n",
    "a = pd.Series(data=[10, 10, 10], index=[1, 2, 3])\n",
    "b = pd.Series([1, 2, 3])\n",
    "\n",
    "index = int(input())\n",
    "print((a+b)[index])"
   ]
  },
  {
   "cell_type": "code",
   "execution_count": null,
   "id": "3a67a852-f54c-4827-9a0f-9c64553ac424",
   "metadata": {},
   "outputs": [],
   "source": [
    "# 5. 출생연도와 학번\n",
    "import pandas as pd\n",
    "df1 = pd.DataFrame(data={'출생연도':[1995, 2000, 2004, 1990], \n",
    "                       '학번':[15, 19, 23, 10]})\n",
    "df2 = pd.DataFrame(data={'졸업연도':[2021, 2025, 2010, 2019],\n",
    "                        '출생연도':[1998, 2004, 1990, 1995], \n",
    "                       '학번':[17, 23, 10, 15]})\n",
    "print(df1-df2)"
   ]
  },
  {
   "cell_type": "code",
   "execution_count": null,
   "id": "e0960f65-cda6-4efe-a534-5a20c770058f",
   "metadata": {},
   "outputs": [],
   "source": [
    "# 6. 인덱스 다른 데이터 3개\n",
    "import pandas as pd\n",
    "import numpy as np\n",
    "df1 = pd.DataFrame(index=[0, 1, 2], columns=[1, 2, 3], data=np.arange(1, 10).reshape(3, 3))\n",
    "df2 = pd.DataFrame(index=[2, 3, 4], columns=[2, 3, 4], data=np.arange(11, 20).reshape(3, 3))\n",
    "df3 = pd.DataFrame(index=[2, 3, 5], columns=[3, 5, 6], data=np.arange(21, 30).reshape(3, 3))\n",
    "\n",
    "print(df1-df2*df3)"
   ]
  },
  {
   "cell_type": "code",
   "execution_count": null,
   "id": "033f0322-d2b2-4992-b115-8f40a9b734cf",
   "metadata": {},
   "outputs": [],
   "source": [
    "# 7. 판다스 - 데이터 간 사칙연산 (3)\n",
    "import pandas as pd\n",
    "a = pd.DataFrame([[0, 1, 2], [0, 1, 2]])\n",
    "b = pd.DataFrame([[0, 0, 0, 0], [10, 10, 10, 10], [20, 20, 20, 20]])\n",
    "\n",
    "sum = a+b\n",
    "n1 = int(input())\n",
    "n2 = int(input())\n",
    "print(sum.loc[n1, n2])"
   ]
  },
  {
   "cell_type": "code",
   "execution_count": null,
   "id": "329aad0d-c02c-4e0d-b313-32c32edd8486",
   "metadata": {},
   "outputs": [],
   "source": [
    "# 8. 크기가 다른 데이터\n",
    "import pandas as pd\n",
    "import numpy as np\n",
    "df1 = pd.DataFrame(data=np.arange(1, 10).reshape(3, 3))\n",
    "df2 = pd.DataFrame(data=np.arange(11, 21).reshape(2, 5))\n",
    "df3 = pd.DataFrame(data=np.arange(20, 26).reshape(3, 2))\n",
    "\n",
    "print(df1+df2+df3)"
   ]
  },
  {
   "cell_type": "code",
   "execution_count": null,
   "id": "6c49e803-d3b9-41f6-9574-4bda2fdf8802",
   "metadata": {},
   "outputs": [],
   "source": [
    "# 9. 크기, 인덱스 다른 데이터\n",
    "import pandas as pd\n",
    "import numpy as np\n",
    "df1 = pd.DataFrame(index=[2, 1, 0], data=np.arange(1, 10).reshape(3, 3))\n",
    "df2 = pd.DataFrame(columns=[2, 1, 0], data=np.arange(11, 23).reshape(4, 3))\n",
    "df3 = pd.DataFrame(index=[3, 2, 1], data=np.arange(20, 32).reshape(3, 4))\n",
    "\n",
    "print(df1+df2+df3)"
   ]
  }
 ],
 "metadata": {
  "kernelspec": {
   "display_name": "Python 3 (ipykernel)",
   "language": "python",
   "name": "python3"
  },
  "language_info": {
   "codemirror_mode": {
    "name": "ipython",
    "version": 3
   },
   "file_extension": ".py",
   "mimetype": "text/x-python",
   "name": "python",
   "nbconvert_exporter": "python",
   "pygments_lexer": "ipython3",
   "version": "3.8.10"
  }
 },
 "nbformat": 4,
 "nbformat_minor": 5
}
