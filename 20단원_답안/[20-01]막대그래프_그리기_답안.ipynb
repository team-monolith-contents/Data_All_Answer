{
 "cells": [
  {
   "cell_type": "markdown",
   "id": "d984ecf8-29ab-4745-beae-dfeebf1e52d9",
   "metadata": {
    "tags": []
   },
   "source": [
    "### **💯 연습문제를 풀어봅시다**\n",
    "\n"
   ]
  },
  {
   "cell_type": "markdown",
   "id": "f73758c7-31b6-4747-abd9-d5efd791d02c",
   "metadata": {
    "tags": []
   },
   "source": [
    "1. <a class=\"jcecodle-mk jcecodle-mk__problem-chip\" data-problem-id=\"x2tF_sUzQK4\" href='#jce-judge/open/x2tF_sUzQK4' target='_self'><span>막대그래프 그리기 - 프로듀스101</span></a>\n",
    "2. <a class=\"jcecodle-mk jcecodle-mk__problem-chip\" data-problem-id=\"T_qDlw2iDIw\" href='#jce-judge/open/T_qDlw2iDIw' target='_self'><span>막대그래프 그리기 - 소풍장소 투표 결과</span></a>\n",
    "3. <a class=\"jcecodle-mk jcecodle-mk__problem-chip\" data-problem-id=\"MWYwgGRE6K0\" href='#jce-judge/open/MWYwgGRE6K0' target='_self'><span>막대그래프 그리기 - 전국 눈일수 </span></a>\n",
    "4. <a class=\"jcecodle-mk jcecodle-mk__problem-chip\" data-problem-id=\"HNra_MYZCBA\" href='#jce-judge/open/HNra_MYZCBA' target='_self'><span>막대그래프 중첩 - 전국 강수일수 눈일수</span></a>"
   ]
  },
  {
   "cell_type": "code",
   "execution_count": null,
   "id": "da97a46f-c551-48d6-80b6-90d02e5ffde8",
   "metadata": {},
   "outputs": [],
   "source": [
    "# 1. 막대그래프 그리기 - 프로듀스101\n"
   ]
  },
  {
   "cell_type": "code",
   "execution_count": null,
   "id": "89b621e1-4dfb-40a4-9b69-972a1f9ddb42",
   "metadata": {},
   "outputs": [],
   "source": [
    "# 2. 막대그래프 그리기 - 소풍장소 투표 결과\n"
   ]
  },
  {
   "cell_type": "code",
   "execution_count": null,
   "id": "b8f587f2-c111-43d2-97ce-2e1b726c8589",
   "metadata": {},
   "outputs": [],
   "source": [
    "# 3. 막대그래프 그리기 - 전국 눈일수\n"
   ]
  },
  {
   "cell_type": "code",
   "execution_count": null,
   "id": "410d94f5-a0a5-43ee-abfd-20ea4ef150e2",
   "metadata": {},
   "outputs": [],
   "source": [
    "# 4. 막대그래프 중첩 - 전국 강수일수 눈일수\n"
   ]
  }
 ],
 "metadata": {
  "kernelspec": {
   "display_name": "Python 3 (ipykernel)",
   "language": "python",
   "name": "python3"
  },
  "language_info": {
   "codemirror_mode": {
    "name": "ipython",
    "version": 3
   },
   "file_extension": ".py",
   "mimetype": "text/x-python",
   "name": "python",
   "nbconvert_exporter": "python",
   "pygments_lexer": "ipython3",
   "version": "3.8.10"
  }
 },
 "nbformat": 4,
 "nbformat_minor": 5
}
