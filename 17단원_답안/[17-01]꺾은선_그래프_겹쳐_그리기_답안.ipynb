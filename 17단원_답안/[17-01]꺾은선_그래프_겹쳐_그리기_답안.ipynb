{
 "cells": [
  {
   "cell_type": "markdown",
   "id": "c5dd9fde-644b-4bd9-957a-3a0a172e8936",
   "metadata": {
    "tags": []
   },
   "source": [
    "### **💯 연습문제를 풀어봅시다**\n",
    "\n"
   ]
  },
  {
   "cell_type": "markdown",
   "id": "2961685a-a126-4f90-94f2-750e11f49b0e",
   "metadata": {
    "tags": []
   },
   "source": [
    "1. <a class=\"jcecodle-mk jcecodle-mk__problem-chip\" data-problem-id=\"NlP3TBoTPmg\" href='#jce-judge/open/NlP3TBoTPmg' target='_self'><span>꺾은선그래프 중첩 - 인생 행복&행운 그래프</span></a>\n",
    "2. <a class=\"jcecodle-mk jcecodle-mk__problem-chip\" data-problem-id=\"nRFNXIIbcEQ\" href='#jce-judge/open/nRFNXIIbcEQ' target='_self'><span>꺾은선그래프 중첩 - 2차함수와 평행이동</span></a>\n",
    "3. <a class=\"jcecodle-mk jcecodle-mk__problem-chip\" data-problem-id=\"cEo1FqOVNNs\" href='#jce-judge/open/cEo1FqOVNNs' target='_self'><span>꺾은선그래프 중첩 - 비행기 승객수</span></a>"
   ]
  },
  {
   "cell_type": "code",
   "execution_count": null,
   "id": "b441e409-6742-4d11-a17b-3a681b408e23",
   "metadata": {},
   "outputs": [],
   "source": [
    "# 1. 꺾은선그래프 중첩 - 인생 행복&행운 그래프\n"
   ]
  },
  {
   "cell_type": "code",
   "execution_count": null,
   "id": "2b03f8a8-4187-44fa-ba66-ea25f4a674e1",
   "metadata": {},
   "outputs": [],
   "source": [
    "# 2. 꺾은선그래프 중첩 - 2차함수와 평행이동\n"
   ]
  },
  {
   "cell_type": "code",
   "execution_count": null,
   "id": "867f4e1e-8095-4764-b178-8169d2c9047f",
   "metadata": {},
   "outputs": [],
   "source": [
    "# 3. 꺾은선그래프 중첩 - 비행기 승객수\n"
   ]
  }
 ],
 "metadata": {
  "kernelspec": {
   "display_name": "Python 3 (ipykernel)",
   "language": "python",
   "name": "python3"
  },
  "language_info": {
   "codemirror_mode": {
    "name": "ipython",
    "version": 3
   },
   "file_extension": ".py",
   "mimetype": "text/x-python",
   "name": "python",
   "nbconvert_exporter": "python",
   "pygments_lexer": "ipython3",
   "version": "3.8.10"
  }
 },
 "nbformat": 4,
 "nbformat_minor": 5
}
