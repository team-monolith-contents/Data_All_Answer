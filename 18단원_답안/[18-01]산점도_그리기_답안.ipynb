{
 "cells": [
  {
   "cell_type": "markdown",
   "id": "e7762813-14cd-4e10-83ee-192b83731114",
   "metadata": {
    "tags": []
   },
   "source": [
    "### **💯 연습문제를 풀어봅시다**\n",
    "\n"
   ]
  },
  {
   "cell_type": "markdown",
   "id": "20c3a3b0-131e-473a-80d8-1eadaef1c15b",
   "metadata": {
    "tags": []
   },
   "source": [
    "1. <a class=\"jcecodle-mk jcecodle-mk__problem-chip\" data-problem-id=\"AhtEleJFFJ4\" href='#jce-judge/open/AhtEleJFFJ4' target='_self'><span>산점도 - x값과 y값이 같은 점</span></a>\n",
    "2. <a class=\"jcecodle-mk jcecodle-mk__problem-chip\" data-problem-id=\"Voz9eL2Ggg8\" href='#jce-judge/open/Voz9eL2Ggg8' target='_self'><span>산점도 그리기 - sine 그래프</span></a>\n",
    "3. <a class=\"jcecodle-mk jcecodle-mk__problem-chip\" data-problem-id=\"csGicifjhfc\" href='#jce-judge/open/csGicifjhfc' target='_self'><span>산점도 그리기 - 학생수/교사수에 따른 주택가격</span></a>\n",
    "4. <a class=\"jcecodle-mk jcecodle-mk__problem-chip\" data-problem-id=\"gw29YaaFpII\" href='#jce-judge/open/gw29YaaFpII' target='_self'><span>산점도 그리기 - 일산화질소 농도에 따른 주택가격</span></a>"
   ]
  },
  {
   "cell_type": "code",
   "execution_count": null,
   "id": "851f8894-dab7-4c38-b535-4d38cb79497d",
   "metadata": {},
   "outputs": [],
   "source": [
    "# 1. 산점도 - x값과 y값이 같은 점\n"
   ]
  },
  {
   "cell_type": "code",
   "execution_count": null,
   "id": "56299155-7f34-47a0-8e4b-d46b4d0e90c8",
   "metadata": {},
   "outputs": [],
   "source": [
    "# 2. 산점도 그리기 - sine 그래프\n"
   ]
  },
  {
   "cell_type": "code",
   "execution_count": null,
   "id": "55b387bc-56c1-4fc7-a200-f6c15f246cac",
   "metadata": {},
   "outputs": [],
   "source": [
    "# 3. 산점도 그리기 - 학생수/교사수에 따른 주택가격\n"
   ]
  },
  {
   "cell_type": "code",
   "execution_count": null,
   "id": "529fa2ae-9d09-421d-a41f-fc28d58bfc58",
   "metadata": {},
   "outputs": [],
   "source": [
    "# 4. 산점도 그리기 - 일산화질소 농도에 따른 주택가격\n"
   ]
  }
 ],
 "metadata": {
  "kernelspec": {
   "display_name": "Python 3 (ipykernel)",
   "language": "python",
   "name": "python3"
  },
  "language_info": {
   "codemirror_mode": {
    "name": "ipython",
    "version": 3
   },
   "file_extension": ".py",
   "mimetype": "text/x-python",
   "name": "python",
   "nbconvert_exporter": "python",
   "pygments_lexer": "ipython3",
   "version": "3.8.10"
  }
 },
 "nbformat": 4,
 "nbformat_minor": 5
}
