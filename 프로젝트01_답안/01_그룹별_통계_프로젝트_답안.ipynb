{
 "cells": [
  {
   "cell_type": "markdown",
   "id": "951a41ff-c21b-4854-ad4d-48970c89b988",
   "metadata": {},
   "source": [
    "<a class=\"jcecodle-mk jcecodle-mk__problem-chip\" data-problem-id=\"SiUhrrEc2HM\" href='#jce-judge/open/SiUhrrEc2HM' target='_self'><span>판다스 - 그룹별 통계 프로젝트 - 문제1</span></a>\n"
   ]
  },
  {
   "cell_type": "markdown",
   "id": "6107fe39-b28e-408a-b249-6dafbc1136d5",
   "metadata": {},
   "source": [
    "<a class=\"jcecodle-mk jcecodle-mk__problem-chip\" data-problem-id=\"dCc4ZeIr1q4\" href='#jce-judge/open/dCc4ZeIr1q4' target='_self'><span>판다스 - 그룹별 통계 프로젝트 - 문제2</span></a>\n"
   ]
  },
  {
   "cell_type": "markdown",
   "id": "60d91585-2bfe-4602-b827-4b83b7fbfa68",
   "metadata": {},
   "source": [
    "<a class=\"jcecodle-mk jcecodle-mk__problem-chip\" data-problem-id=\"wTV31GjZrkc\" href='#jce-judge/open/wTV31GjZrkc' target='_self'><span>판다스 - 그룹별 통계 프로젝트 - 문제3</span></a>\n",
    "\n",
    "<a class=\"jcecodle-mk jcecodle-mk__problem-chip\" data-problem-id=\"i-eolIcYe0Y\" href='#jce-judge/open/i-eolIcYe0Y' target='_self'><span>판다스 - 그룹별 통계 프로젝트 - 문제4</span></a>\n"
   ]
  },
  {
   "cell_type": "markdown",
   "id": "c156cd27-b51d-4eed-8312-572803996bc4",
   "metadata": {},
   "source": [
    "<a class=\"jcecodle-mk jcecodle-mk__problem-chip\" data-problem-id=\"TcY2o-sKnbg\" href='#jce-judge/open/TcY2o-sKnbg' target='_self'><span>판다스 - 그룹별 통계 프로젝트 - 문제5</span></a>\n",
    "\n",
    "<a class=\"jcecodle-mk jcecodle-mk__problem-chip\" data-problem-id=\"BJyBs6zte_s\" href='#jce-judge/open/BJyBs6zte_s' target='_self'><span>판다스 - 그룹별 통계 프로젝트 - 문제6</span></a>\n"
   ]
  },
  {
   "cell_type": "markdown",
   "id": "bf7fa069-504d-45b2-9ff6-d131b28c1110",
   "metadata": {},
   "source": [
    "<a class=\"jcecodle-mk jcecodle-mk__problem-chip\" data-problem-id=\"19UjHcitiyM\" href='#jce-judge/open/19UjHcitiyM' target='_self'><span>판다스 - 그룹별 통계 프로젝트 - 문제7</span></a>\n",
    "\n",
    "<a class=\"jcecodle-mk jcecodle-mk__problem-chip\" data-problem-id=\"Vemk5ud0Ejo\" href='#jce-judge/open/Vemk5ud0Ejo' target='_self'><span>판다스 - 그룹별 통계 프로젝트 - 문제8</span></a>\n",
    "\n",
    "<a class=\"jcecodle-mk jcecodle-mk__problem-chip\" data-problem-id=\"cz1r_f5SpcA\" href='#jce-judge/open/cz1r_f5SpcA' target='_self'><span>판다스 - 그룹별 통계 프로젝트 - 문제9</span></a>\n"
   ]
  },
  {
   "cell_type": "markdown",
   "id": "aeab59cf-a862-498f-aaa7-96792aa53e17",
   "metadata": {},
   "source": [
    "<a class=\"jcecodle-mk jcecodle-mk__problem-chip\" data-problem-id=\"p1pz5E8da7k\" href='#jce-judge/open/p1pz5E8da7k' target='_self'><span>판다스 - 그룹별 통계 프로젝트 - 문제10</span></a>\n"
   ]
  },
  {
   "cell_type": "markdown",
   "id": "621ba1e8-69c3-4106-a4b5-4e269c09477d",
   "metadata": {},
   "source": [
    "<a class=\"jcecodle-mk jcecodle-mk__problem-chip\" data-problem-id=\"hh892d5vFUU\" href='#jce-judge/open/hh892d5vFUU' target='_self'><span>판다스 - 그룹별 통계 프로젝트 - 문제11</span></a>\n",
    "\n",
    "<a class=\"jcecodle-mk jcecodle-mk__problem-chip\" data-problem-id=\"735ap_J63C8\" href='#jce-judge/open/735ap_J63C8' target='_self'><span>판다스 - 그룹별 통계 프로젝트 - 문제12</span></a>\n"
   ]
  },
  {
   "cell_type": "code",
   "execution_count": null,
   "id": "3b6ff423-1f62-4ce2-b215-a44ad3c271f1",
   "metadata": {},
   "outputs": [],
   "source": [
    "# 문제 1\n",
    "import pandas as pd\n",
    "import io\n",
    "import requests\n",
    "url=\"https://tmn-bucket-materials-all.s3.ap-northeast-2.amazonaws.com/data/%EC%9A%B4%EB%8F%99%ED%9A%8C.csv\"\n",
    "s=requests.get(url).content\n",
    "\n",
    "# 운동회 데이터\n",
    "df=pd.read_csv(io.StringIO(s.decode('utf-8')))\n",
    "\n",
    "########## 여기에 코딩해주세요. ##########\n",
    "\n",
    "print(df.describe(include='O'))\n",
    "\n",
    "########################################"
   ]
  },
  {
   "cell_type": "code",
   "execution_count": null,
   "id": "cbcdbb7c-d188-4587-bd8d-a7f536183a4f",
   "metadata": {},
   "outputs": [],
   "source": [
    "# 문제 2\n",
    "import pandas as pd\n",
    "import io\n",
    "import requests\n",
    "url=\"https://tmn-bucket-materials-all.s3.ap-northeast-2.amazonaws.com/data/%EC%9A%B4%EB%8F%99%ED%9A%8C.csv\"\n",
    "s=requests.get(url).content\n",
    "\n",
    "# 운동회 데이터\n",
    "df=pd.read_csv(io.StringIO(s.decode('utf-8')))\n",
    "\n",
    "########## 여기에 코딩해주세요. ##########\n",
    "\n",
    "print(df.groupby(['개인경기', '성별'])['개인승점'].describe())\n",
    "\n",
    "########################################"
   ]
  },
  {
   "cell_type": "code",
   "execution_count": null,
   "id": "b341d265-e82f-49de-a895-c02618d2b36b",
   "metadata": {},
   "outputs": [],
   "source": [
    "# 문제 3\n",
    "import pandas as pd\n",
    "import io\n",
    "import requests\n",
    "url=\"https://tmn-bucket-materials-all.s3.ap-northeast-2.amazonaws.com/data/%EC%9A%B4%EB%8F%99%ED%9A%8C.csv\"\n",
    "s=requests.get(url).content\n",
    "\n",
    "# 운동회 데이터\n",
    "df=pd.read_csv(io.StringIO(s.decode('utf-8')))\n",
    "\n",
    "########## 여기에 코딩해주세요. ##########\n",
    "\n",
    "a=df.loc[df.단체경기==\"줄넘기\"].단체승점.max()\n",
    "b = df.loc[(df.단체경기==\"줄넘기\")&(df.단체승점==a)]\n",
    "print(b['반'].unique()[0])\n",
    "\n",
    "########################################"
   ]
  },
  {
   "cell_type": "code",
   "execution_count": null,
   "id": "dddd3bdf-1df8-495c-b0f8-9498a70343c2",
   "metadata": {},
   "outputs": [],
   "source": [
    "# 문제 4\n",
    "import pandas as pd\n",
    "import io\n",
    "import requests\n",
    "url=\"https://tmn-bucket-materials-all.s3.ap-northeast-2.amazonaws.com/data/%EC%9A%B4%EB%8F%99%ED%9A%8C.csv\"\n",
    "s=requests.get(url).content\n",
    "\n",
    "# 운동회 데이터\n",
    "df=pd.read_csv(io.StringIO(s.decode('utf-8')))\n",
    "\n",
    "########## 여기에 코딩해주세요. ##########\n",
    "\n",
    "a=df.loc[(df.단체경기==\"줄넘기\")&(df.단체승점 < 3)].단체승점.max()\n",
    "b = df.loc[(df.단체경기==\"줄넘기\")&(df.단체승점==a)]\n",
    "print(b['반'].unique()[0])\n",
    "\n",
    "########################################"
   ]
  },
  {
   "cell_type": "code",
   "execution_count": null,
   "id": "f8a42177-4336-4835-979c-4d9c04675ee5",
   "metadata": {},
   "outputs": [],
   "source": [
    "# 문제 5\n",
    "import pandas as pd\n",
    "import io\n",
    "import requests\n",
    "url=\"https://tmn-bucket-materials-all.s3.ap-northeast-2.amazonaws.com/data/%EC%9A%B4%EB%8F%99%ED%9A%8C.csv\"\n",
    "s=requests.get(url).content\n",
    "\n",
    "# 운동회 데이터\n",
    "df=pd.read_csv(io.StringIO(s.decode('utf-8')))\n",
    "\n",
    "########## 여기에 코딩해주세요. ##########\n",
    "\n",
    "a=df.loc[df.단체경기==\"축구\"].단체승점.max()\n",
    "b = df.loc[(df.단체경기==\"축구\")&(df.단체승점==a)]\n",
    "print(b['반'].unique())\n",
    "\n",
    "########################################"
   ]
  },
  {
   "cell_type": "code",
   "execution_count": null,
   "id": "000856d8-de68-42ee-af83-3bc8596deebd",
   "metadata": {},
   "outputs": [],
   "source": [
    "# 문제 6\n",
    "import pandas as pd\n",
    "import io\n",
    "import requests\n",
    "url=\"https://tmn-bucket-materials-all.s3.ap-northeast-2.amazonaws.com/data/%EC%9A%B4%EB%8F%99%ED%9A%8C.csv\"\n",
    "s=requests.get(url).content\n",
    "\n",
    "# 운동회 데이터\n",
    "df=pd.read_csv(io.StringIO(s.decode('utf-8')))\n",
    "\n",
    "########## 여기에 코딩해주세요. ##########\n",
    "\n",
    "a=df.loc[(df.단체경기==\"축구\")&(df.단체승점 < 3)].단체승점.max()\n",
    "b = df.loc[(df.단체경기==\"축구\")&(df.단체승점==a)]\n",
    "print(b['반'].unique())\n",
    "\n",
    "########################################"
   ]
  },
  {
   "cell_type": "code",
   "execution_count": null,
   "id": "5854f807-cd54-4937-90ca-a4815fb7ff18",
   "metadata": {},
   "outputs": [],
   "source": [
    "# 문제 7\n",
    "import pandas as pd\n",
    "import io\n",
    "import requests\n",
    "url=\"https://tmn-bucket-materials-all.s3.ap-northeast-2.amazonaws.com/data/%EC%9A%B4%EB%8F%99%ED%9A%8C.csv\"\n",
    "s=requests.get(url).content\n",
    "\n",
    "# 운동회 데이터\n",
    "df=pd.read_csv(io.StringIO(s.decode('utf-8')))\n",
    "\n",
    "########## 여기에 코딩해주세요. ##########\n",
    "\n",
    "a=df.loc[df.단체경기==\"발야구\"].단체승점.max()\n",
    "b = df.loc[(df.단체경기==\"발야구\")&(df.단체승점==a)]\n",
    "print(b['반'].unique())\n",
    "\n",
    "########################################"
   ]
  },
  {
   "cell_type": "code",
   "execution_count": null,
   "id": "31406bc1-9ee9-4a14-ba94-4ca9a663972f",
   "metadata": {},
   "outputs": [],
   "source": [
    "# 문제 8\n",
    "import pandas as pd\n",
    "import io\n",
    "import requests\n",
    "url=\"https://tmn-bucket-materials-all.s3.ap-northeast-2.amazonaws.com/data/%EC%9A%B4%EB%8F%99%ED%9A%8C.csv\"\n",
    "s=requests.get(url).content\n",
    "\n",
    "# 운동회 데이터\n",
    "df=pd.read_csv(io.StringIO(s.decode('utf-8')))\n",
    "\n",
    "########## 여기에 코딩해주세요. ##########\n",
    "\n",
    "a=df.loc[(df.단체경기==\"발야구\")&(df.단체승점 < 3)].단체승점.max()\n",
    "b = df.loc[(df.단체경기==\"발야구\")&(df.단체승점==a)]\n",
    "\n",
    "if len(b['반'].unique())==1:\n",
    "    print(b['반'].unique())\n",
    "else:\n",
    "    print([])\n",
    "\n",
    "########################################"
   ]
  },
  {
   "cell_type": "code",
   "execution_count": null,
   "id": "7f8ac000-dd7a-47d7-b513-a5f707610d79",
   "metadata": {},
   "outputs": [],
   "source": [
    "# 문제 9\n",
    "import pandas as pd\n",
    "import io\n",
    "import requests\n",
    "url=\"https://tmn-bucket-materials-all.s3.ap-northeast-2.amazonaws.com/data/%EC%9A%B4%EB%8F%99%ED%9A%8C.csv\"\n",
    "s=requests.get(url).content\n",
    "\n",
    "# 운동회 데이터\n",
    "df=pd.read_csv(io.StringIO(s.decode('utf-8')))\n",
    "\n",
    "########## 여기에 코딩해주세요. ##########\n",
    "\n",
    "a=df.loc[df.단체경기==\"발야구\"].개인득점.max()\n",
    "b = df.loc[(df.단체경기==\"발야구\")&(df.개인득점==a)]\n",
    "print(b[['학년', '반', '번호', '단체경기', '개인득점']])\n",
    "\n",
    "########################################"
   ]
  },
  {
   "cell_type": "code",
   "execution_count": null,
   "id": "cf91535f-680e-43ce-ad1c-e95da70b55d1",
   "metadata": {},
   "outputs": [],
   "source": [
    "# 문제 10\n",
    "import pandas as pd\n",
    "import io\n",
    "import requests\n",
    "url=\"https://tmn-bucket-materials-all.s3.ap-northeast-2.amazonaws.com/data/%EC%9A%B4%EB%8F%99%ED%9A%8C.csv\"\n",
    "s=requests.get(url).content\n",
    "\n",
    "# 운동회 데이터\n",
    "df=pd.read_csv(io.StringIO(s.decode('utf-8')))\n",
    "\n",
    "########## 여기에 코딩해주세요. ##########\n",
    "\n",
    "winner_list = []\n",
    "\n",
    "for i in [1, 2, 3]:\n",
    "    for s in ['남', '여']:\n",
    "        player = df.loc[(df.개인경기=='높이뛰기')&(df.성별==s)&(df.학년==i)]\n",
    "        maxleval = player.개인승점.max()\n",
    "        winner = player.loc[df.개인승점==maxleval]\n",
    "        winner_list = winner_list + winner.index.tolist()  \n",
    "        \n",
    "print(df.loc[winner_list, [\"학년\", \"반\", \"번호\", \"성별\", \"개인경기\", \"개인승점\"]])\n",
    "\n",
    "########################################"
   ]
  },
  {
   "cell_type": "code",
   "execution_count": null,
   "id": "f9dca123-7886-4ecf-959c-67bb8631725d",
   "metadata": {},
   "outputs": [],
   "source": [
    "# 문제 11\n",
    "import pandas as pd\n",
    "import io\n",
    "import requests\n",
    "url=\"https://tmn-bucket-materials-all.s3.ap-northeast-2.amazonaws.com/data/%EC%9A%B4%EB%8F%99%ED%9A%8C.csv\"\n",
    "s=requests.get(url).content\n",
    "\n",
    "# 운동회 데이터\n",
    "df=pd.read_csv(io.StringIO(s.decode('utf-8')))\n",
    "\n",
    "########## 여기에 코딩해주세요. ##########\n",
    "\n",
    "winner_list = []\n",
    "\n",
    "for i in [1, 2, 3]:\n",
    "    for s in ['남', '여']:\n",
    "        player = df.loc[(df.개인경기=='씨름')&(df.성별==s)&(df.학년==i)]\n",
    "        maxleval = player.개인승점.max()\n",
    "        winner = player.loc[df.개인승점==maxleval]\n",
    "        winner_list = winner_list + winner.index.tolist()  \n",
    "        \n",
    "print(df.loc[winner_list, [\"학년\", \"반\", \"번호\", \"성별\", \"개인경기\", \"개인승점\"]])\n",
    "\n",
    "########################################"
   ]
  },
  {
   "cell_type": "code",
   "execution_count": null,
   "id": "db1532dc-6a86-4bd3-8e44-9efb116bc8f2",
   "metadata": {},
   "outputs": [],
   "source": [
    "# 문제 12\n",
    "# 여기에 입력하세요\n",
    "import pandas as pd\n",
    "import io\n",
    "import requests\n",
    "url=\"https://tmn-bucket-materials-all.s3.ap-northeast-2.amazonaws.com/data/%EC%9A%B4%EB%8F%99%ED%9A%8C.csv\"\n",
    "s=requests.get(url).content\n",
    "\n",
    "# 운동회 데이터\n",
    "df=pd.read_csv(io.StringIO(s.decode('utf-8')))\n",
    "\n",
    "########## 여기에 코딩해주세요. ##########\n",
    "\n",
    "winner_list = []\n",
    "\n",
    "for s in ['남', '여']:\n",
    "    player = df.loc[(df.개인경기=='씨름')&(df.성별==s)]\n",
    "    maxleval = player.개인승점.max()\n",
    "    winner = player.loc[df.개인승점==maxleval]\n",
    "    winner_list = winner_list + winner.index.tolist()\n",
    "        \n",
    "print(df.loc[winner_list, [\"학년\", \"반\", \"번호\", \"성별\", \"개인경기\", \"개인승점\"]])\n",
    "\n",
    "########################################"
   ]
  }
 ],
 "metadata": {
  "kernelspec": {
   "display_name": "Python 3 (ipykernel)",
   "language": "python",
   "name": "python3"
  },
  "language_info": {
   "codemirror_mode": {
    "name": "ipython",
    "version": 3
   },
   "file_extension": ".py",
   "mimetype": "text/x-python",
   "name": "python",
   "nbconvert_exporter": "python",
   "pygments_lexer": "ipython3",
   "version": "3.10.10"
  }
 },
 "nbformat": 4,
 "nbformat_minor": 5
}
