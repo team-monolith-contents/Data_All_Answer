{
 "cells": [
  {
   "cell_type": "markdown",
   "id": "4ced6ccc-425f-46b3-969c-8288aac85959",
   "metadata": {
    "tags": []
   },
   "source": [
    "### **💯 연습문제를 풀어봅시다**\n",
    "\n"
   ]
  },
  {
   "cell_type": "markdown",
   "id": "c9a9bbbb-f50a-4bac-b8a3-1fc58ef8f388",
   "metadata": {
    "tags": []
   },
   "source": [
    "1. <a class=\"jcecodle-mk jcecodle-mk__problem-chip\" data-problem-id=\"fXqL-w4vfhQ\" href='#jce-judge/open/fXqL-w4vfhQ' target='_self'><span>그래프 꾸미기 - 선과 점 스타일</span></a>\n",
    "2. <a class=\"jcecodle-mk jcecodle-mk__problem-chip\" data-problem-id=\"-PP_10Oz8O4\" href='#jce-judge/open/-PP_10Oz8O4' target='_self'><span>그래프 꾸미기 - 선과 점 그리고 범례</span></a>\n",
    "3. <a class=\"jcecodle-mk jcecodle-mk__problem-chip\" data-problem-id=\"1FKgsmlma8M\" href='#jce-judge/open/1FKgsmlma8M' target='_self'><span>그래프 꾸미기 - 산점도 점 스타일</span></a>\n",
    "4. <a class=\"jcecodle-mk jcecodle-mk__problem-chip\" data-problem-id=\"mRvuRthuYq4\" href='#jce-judge/open/mRvuRthuYq4' target='_self'><span>그래프 꾸미기 - 산점도 점 스타일 2</span></a>\n",
    "5. <a class=\"jcecodle-mk jcecodle-mk__problem-chip\" data-problem-id=\"GV-GKyOsFCM\" href='#jce-judge/open/GV-GKyOsFCM' target='_self'><span>그래프 꾸미기 - 막대 스타일</span></a>"
   ]
  },
  {
   "cell_type": "code",
   "execution_count": null,
   "id": "d063cd2a-0376-4a3c-9765-b55dde922a89",
   "metadata": {},
   "outputs": [],
   "source": [
    "# 1. 그래프 꾸미기 - 선과 점 스타일\n"
   ]
  },
  {
   "cell_type": "code",
   "execution_count": null,
   "id": "9e636984-6d7c-461b-9286-f9ad6353a0fa",
   "metadata": {},
   "outputs": [],
   "source": [
    "# 2. 그래프 꾸미기 - 선과 점 그리고 범례\n"
   ]
  },
  {
   "cell_type": "code",
   "execution_count": null,
   "id": "6db869f0-7d4d-49ee-a861-6f37248fdec3",
   "metadata": {},
   "outputs": [],
   "source": [
    "# 3. 그래프 꾸미기 - 산점도 점 스타일\n"
   ]
  },
  {
   "cell_type": "code",
   "execution_count": null,
   "id": "8e952aa2-c3ab-4b77-bb7e-a6b814b45964",
   "metadata": {},
   "outputs": [],
   "source": [
    "# 4. 그래프 꾸미기 - 산점도 점 스타일 2\n"
   ]
  },
  {
   "cell_type": "code",
   "execution_count": null,
   "id": "18014751-49fc-4136-8033-64b6d70ef871",
   "metadata": {},
   "outputs": [],
   "source": [
    "# 5. 그래프 꾸미기 - 막대 스타일\n"
   ]
  }
 ],
 "metadata": {
  "kernelspec": {
   "display_name": "Python 3 (ipykernel)",
   "language": "python",
   "name": "python3"
  },
  "language_info": {
   "codemirror_mode": {
    "name": "ipython",
    "version": 3
   },
   "file_extension": ".py",
   "mimetype": "text/x-python",
   "name": "python",
   "nbconvert_exporter": "python",
   "pygments_lexer": "ipython3",
   "version": "3.8.10"
  }
 },
 "nbformat": 4,
 "nbformat_minor": 5
}
