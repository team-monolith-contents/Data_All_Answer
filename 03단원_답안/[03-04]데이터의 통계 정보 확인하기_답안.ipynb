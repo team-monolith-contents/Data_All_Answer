{
 "cells": [
  {
   "cell_type": "markdown",
   "id": "6e35f536-2ac2-403d-a94c-01637831bf28",
   "metadata": {
    "tags": []
   },
   "source": [
    "### **💯 연습문제를 풀어봅시다**\n",
    "1. <a class=\"jcecodle-mk jcecodle-mk__problem-chip\" data-problem-id=\"T0QwboxCL-A\" href='#jce-judge/open/T0QwboxCL-A' target='_self'><span>판다스 기초 - 숫자 데이터 통계 확인하기</span></a>\n",
    "2. <a class=\"jcecodle-mk jcecodle-mk__problem-chip\" data-problem-id=\"0hhVXsFglyk\" href='#jce-judge/open/0hhVXsFglyk' target='_self'><span>판다스 기초 - 숫자 데이터 통게 확인하기 (2)</span></a>\n",
    "3. <a class=\"jcecodle-mk jcecodle-mk__problem-chip\" data-problem-id=\"c1xby3pplU0\" href='#jce-judge/open/c1xby3pplU0' target='_self'><span>판다스 기초 - 문자 데이터 통계 확인하기</span></a>\n",
    "4. <a class=\"jcecodle-mk jcecodle-mk__problem-chip\" data-problem-id=\"va6a0Xko5_E\" href='#jce-judge/open/va6a0Xko5_E' target='_self'><span>판다스 기초 - 문자 데이터 통계 확인하기 (2)</span></a>\n",
    "5. <a class=\"jcecodle-mk jcecodle-mk__problem-chip\" data-problem-id=\"TehwC_5I29I\" href='#jce-judge/open/TehwC_5I29I' target='_self'><span>판다스 기초 - 모든 데이터 통계 확인하기</span></a>\n",
    "\n"
   ]
  },
  {
   "cell_type": "code",
   "execution_count": null,
   "id": "e6d79e47-940d-420f-9205-5be08294cd22",
   "metadata": {},
   "outputs": [],
   "source": [
    "# 1. 판다스 기초 - 숫자 데이터 통계 확인하기\n",
    "import pandas as pd\n",
    "import seaborn as sns  \n",
    "new_df = sns.load_dataset('exercise')\n",
    "\n",
    "print(new_df.describe())"
   ]
  },
  {
   "cell_type": "code",
   "execution_count": null,
   "id": "d20e7557-a1cb-442c-901a-225ec7fb4343",
   "metadata": {},
   "outputs": [],
   "source": [
    "# 2. 판다스 기초 - 숫자 데이터 통계 확인하기 (2)\n",
    "import pandas as pd\n",
    "import seaborn as sns  \n",
    "df = sns.load_dataset('anagrams')\n",
    "\n",
    "print(df.describe())"
   ]
  },
  {
   "cell_type": "code",
   "execution_count": null,
   "id": "7ce81455-6d58-418e-a750-9d416061f1a5",
   "metadata": {},
   "outputs": [],
   "source": [
    "# 3. 판다스 기초 - 문자 데이터 통계 확인하기\n",
    "import pandas as pd\n",
    "import seaborn as sns  \n",
    "new_df = sns.load_dataset('exercise')\n",
    "\n",
    "print(new_df.describe(include=['O', 'category']))"
   ]
  },
  {
   "cell_type": "code",
   "execution_count": null,
   "id": "20b24152-d476-4b05-a4ed-0fbd950b4295",
   "metadata": {},
   "outputs": [],
   "source": [
    "# 4. 판다스 기초 - 문자 데이터 통계 확인하기 (2)\n",
    "import pandas as pd\n",
    "import seaborn as sns  \n",
    "df = sns.load_dataset('titanic')\n",
    "\n",
    "#print(df.info())\n",
    "print(df.describe(include=['O', 'category']))"
   ]
  },
  {
   "cell_type": "code",
   "execution_count": null,
   "id": "6bdc59a7-018d-4fc1-a708-99ca3898ffa2",
   "metadata": {},
   "outputs": [],
   "source": [
    "# 5. 판다스 기초 - 모든 데이터 통계 확인하기\n",
    "import pandas as pd\n",
    "import seaborn as sns  \n",
    "df = sns.load_dataset('titanic').iloc[:, [2, 3, 4, 6, 7, 8]]\n",
    "\n",
    "#print(df.info())\n",
    "print(df.describe(include='all'))"
   ]
  }
 ],
 "metadata": {
  "kernelspec": {
   "display_name": "Python 3 (ipykernel)",
   "language": "python",
   "name": "python3"
  },
  "language_info": {
   "codemirror_mode": {
    "name": "ipython",
    "version": 3
   },
   "file_extension": ".py",
   "mimetype": "text/x-python",
   "name": "python",
   "nbconvert_exporter": "python",
   "pygments_lexer": "ipython3",
   "version": "3.10.10"
  }
 },
 "nbformat": 4,
 "nbformat_minor": 5
}
