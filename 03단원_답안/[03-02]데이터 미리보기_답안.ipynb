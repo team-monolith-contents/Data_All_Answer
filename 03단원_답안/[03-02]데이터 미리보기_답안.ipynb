{
 "cells": [
  {
   "cell_type": "markdown",
   "id": "f49fa315-a101-4771-930e-7fdb22b8a103",
   "metadata": {
    "tags": []
   },
   "source": [
    "### **💯 연습문제를 풀어봅시다**\n",
    "1. <a class=\"jcecodle-mk jcecodle-mk__problem-chip\" data-problem-id=\"eIqw64lQUsQ\" href='#jce-judge/open/eIqw64lQUsQ' target='_self'><span>시리즈 처음</span></a>\n",
    "2. <a class=\"jcecodle-mk jcecodle-mk__problem-chip\" data-problem-id=\"PIik3l43D-Q\" href='#jce-judge/open/PIik3l43D-Q' target='_self'><span>시리즈 끝</span></a>\n",
    "3. <a class=\"jcecodle-mk jcecodle-mk__problem-chip\" data-problem-id=\"WfLej_479RA\" href='#jce-judge/open/WfLej_479RA' target='_self'><span>데이터의 처음</span></a>\n",
    "4. <a class=\"jcecodle-mk jcecodle-mk__problem-chip\" data-problem-id=\"letS_qsEPmM\" href='#jce-judge/open/letS_qsEPmM' target='_self'><span>데이터의 끝</span></a>\n",
    "5. <a class=\"jcecodle-mk jcecodle-mk__problem-chip\" data-problem-id=\"kkpMpZOlWug\" href='#jce-judge/open/kkpMpZOlWug' target='_self'><span>첫째와 둘째, 막내</span></a>\n",
    "6. <a class=\"jcecodle-mk jcecodle-mk__problem-chip\" data-problem-id=\"3urbitKPCt8\" href='#jce-judge/open/3urbitKPCt8' target='_self'><span>판다스 기초 - 데이터 출력하기</span></a>\n"
   ]
  },
  {
   "cell_type": "code",
   "execution_count": null,
   "id": "4aafaa8a-38fb-485e-8b19-e753e506d21d",
   "metadata": {},
   "outputs": [],
   "source": [
    "# 1. 시리즈 처음\n",
    "import pandas as pd\n",
    "items = pd.Series(['사과', '공책', '우유', '휴지', '바나나', '새우'])\n",
    "\n",
    "print(items.head(3))"
   ]
  },
  {
   "cell_type": "code",
   "execution_count": null,
   "id": "e36884fc-6124-44dd-b064-3f7f12b6190f",
   "metadata": {},
   "outputs": [],
   "source": [
    "# 2. 시리즈 끝\n",
    "import pandas as pd\n",
    "ser = pd.Series(index=['엄마', '아빠', '나', '언니'], data=[45, 50, 20, 25])\n",
    "print(ser.tail(2))"
   ]
  },
  {
   "cell_type": "code",
   "execution_count": null,
   "id": "b832e818-38ea-4a2f-9f96-f5143b767280",
   "metadata": {},
   "outputs": [],
   "source": [
    "# 3. 데이터의 처음\n",
    "import seaborn as sns\n",
    "df = sns.load_dataset('flights')\n",
    "print(df.head(3))"
   ]
  },
  {
   "cell_type": "code",
   "execution_count": null,
   "id": "5eb198fe-08ca-4359-a3ac-097bed6d3595",
   "metadata": {},
   "outputs": [],
   "source": [
    "# 4. 데이터의 끝\n",
    "import seaborn as sns\n",
    "df = sns.load_dataset('flights')\n",
    "print(df.tail(4))"
   ]
  },
  {
   "cell_type": "code",
   "execution_count": null,
   "id": "0f57d20f-9dbf-4877-9e3e-f3bd814cb32d",
   "metadata": {},
   "outputs": [],
   "source": [
    "# 5. 첫째와 둘째, 막내\n",
    "import pandas as pd\n",
    "idols = {'뉴진스':{'첫째':'민지', '둘째':'하니', '셋째':'다니엘', '넷째':'해린', '막내':'혜인'}, \n",
    "         '르세라핌':{'첫째':'사쿠라', '둘째':'김채원', '셋째':'허윤진', '넷째':'카즈하', '막내':'은채'}, \n",
    "         'TXT':{'첫째':'연준', '둘째':'수진', '셋째':'범규', '넷째':'태현', '막내':'휴닝카이'}, \n",
    "         '셀럽파이브':{'첫째':'송은이', '둘째':'신봉선', '셋째':'김신영', '넷째':'김영희', '막내':'안영미'}}\n",
    "df = pd.DataFrame(idols)\n",
    "\n",
    "print(df.head(2))\n",
    "print(df.tail(1))"
   ]
  },
  {
   "cell_type": "code",
   "execution_count": null,
   "id": "c19b4f70-b06a-4982-b9d0-2a9175d1ce98",
   "metadata": {},
   "outputs": [],
   "source": [
    "# 6. 판다스 기초 - 데이터 출력하기\n",
    "import pandas as pd\n",
    "import numpy as np\n",
    "s1 = pd.Series(np.arange(100,200))\n",
    "\n",
    "n = int(input())\n",
    "print(s1.head(n))"
   ]
  }
 ],
 "metadata": {
  "kernelspec": {
   "display_name": "Python 3 (ipykernel)",
   "language": "python",
   "name": "python3"
  },
  "language_info": {
   "codemirror_mode": {
    "name": "ipython",
    "version": 3
   },
   "file_extension": ".py",
   "mimetype": "text/x-python",
   "name": "python",
   "nbconvert_exporter": "python",
   "pygments_lexer": "ipython3",
   "version": "3.10.10"
  }
 },
 "nbformat": 4,
 "nbformat_minor": 5
}
