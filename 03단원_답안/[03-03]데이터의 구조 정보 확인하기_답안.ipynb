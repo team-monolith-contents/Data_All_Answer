{
 "cells": [
  {
   "cell_type": "markdown",
   "id": "4598c295-6e7d-40ac-9e2e-626c53640242",
   "metadata": {
    "tags": []
   },
   "source": [
    "### **💯 연습문제를 풀어봅시다**\n",
    "1. <a class=\"jcecodle-mk jcecodle-mk__problem-chip\" data-problem-id=\"HA4xV3SU1_A\" href='#jce-judge/open/HA4xV3SU1_A' target='_self'><span>판다스 기초 - 데이터 정보 확인하기 (1)</span></a>\n",
    "2. <a class=\"jcecodle-mk jcecodle-mk__problem-chip\" data-problem-id=\"SeZBiTED_n4\" href='#jce-judge/open/SeZBiTED_n4' target='_self'><span>판다스 기초 - 데이터 정보 확인하기 (2)</span></a>\n",
    "3. <a class=\"jcecodle-mk jcecodle-mk__problem-chip\" data-problem-id=\"EQ93k91oXgU\" href='#jce-judge/open/EQ93k91oXgU' target='_self'><span>판다스 기초 - 데이터 정보 확인하기 (3)</span></a>\n"
   ]
  },
  {
   "cell_type": "code",
   "execution_count": null,
   "id": "2d2342b2-ae56-40f5-8878-4892b2bf11d3",
   "metadata": {},
   "outputs": [],
   "source": [
    "# 1. 판다스 기초 - 데이터 정보 확인하기 (1)\n",
    "import pandas as pd\n",
    "\n",
    "mySeries = pd.Series(index=['이름', '나이', '키(m)'], data=['알라딘', 1000, 3.99], name='정보')\n",
    "mySeries.info()"
   ]
  },
  {
   "cell_type": "code",
   "execution_count": null,
   "id": "b5fe7250-b089-44e5-ba61-d6672eb9f785",
   "metadata": {},
   "outputs": [],
   "source": [
    "# 2. 판다스 기초 - 데이터 정보 확인하기 (2)\n",
    "import pandas as pd\n",
    "import seaborn as sns  \n",
    "new_df = sns.load_dataset('exercise')\n",
    "new_df.info()"
   ]
  },
  {
   "cell_type": "code",
   "execution_count": null,
   "id": "3e2480b5-40b3-4549-94d2-9031871e8998",
   "metadata": {},
   "outputs": [],
   "source": [
    "# 3. 판다스 기초 - 데이터 정보 확인하기 (3)\n",
    "import pandas as pd\n",
    "import seaborn as sns  \n",
    "df = sns.load_dataset('anagrams')\n",
    "print(df.info())"
   ]
  }
 ],
 "metadata": {
  "kernelspec": {
   "display_name": "Python 3 (ipykernel)",
   "language": "python",
   "name": "python3"
  },
  "language_info": {
   "codemirror_mode": {
    "name": "ipython",
    "version": 3
   },
   "file_extension": ".py",
   "mimetype": "text/x-python",
   "name": "python",
   "nbconvert_exporter": "python",
   "pygments_lexer": "ipython3",
   "version": "3.10.10"
  }
 },
 "nbformat": 4,
 "nbformat_minor": 5
}
