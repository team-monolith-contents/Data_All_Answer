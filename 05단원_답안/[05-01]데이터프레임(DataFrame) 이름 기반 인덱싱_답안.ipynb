{
 "cells": [
  {
   "cell_type": "markdown",
   "id": "1721f1b2-8439-4c1f-9de9-71b3b89ef4c2",
   "metadata": {
    "tags": []
   },
   "source": [
    "### **💯 연습문제를 풀어봅시다**\n",
    "1. <a class=\"jcecodle-mk jcecodle-mk__problem-chip\" data-problem-id=\"ryIJK2tzdpY\" href='#jce-judge/open/ryIJK2tzdpY' target='_self'><span>판다스 기초 5 - 데이터프레임 열 이름으로 불러오기</span></a>\n",
    "2. <a class=\"jcecodle-mk jcecodle-mk__problem-chip\" data-problem-id=\"hyZz6FjltlQ\" href='#jce-judge/open/hyZz6FjltlQ' target='_self'><span>탑승객 수 불러오기</span></a>\n",
    "3. <a class=\"jcecodle-mk jcecodle-mk__problem-chip\" data-problem-id=\"P8-2zq1pydI\" href='#jce-judge/open/P8-2zq1pydI' target='_self'><span>지출 확인하기 (1)</span></a>\n",
    "4. <a class=\"jcecodle-mk jcecodle-mk__problem-chip\" data-problem-id=\"R3AMh0eTzDA\" href='#jce-judge/open/R3AMh0eTzDA' target='_self'><span>판다스 기초 - 데이터프레임 열 인덱싱 (여러개)</span></a>\n",
    "5. <a class=\"jcecodle-mk jcecodle-mk__problem-chip\" data-problem-id=\"qSuptxQhUQ8\" href='#jce-judge/open/qSuptxQhUQ8' target='_self'><span>홀수열 불러오기</span></a>\n",
    "6. <a class=\"jcecodle-mk jcecodle-mk__problem-chip\" data-problem-id=\"XS2g21h31uU\" href='#jce-judge/open/XS2g21h31uU' target='_self'><span>지출 확인하기 (2)</span></a>\n",
    "7. <a class=\"jcecodle-mk jcecodle-mk__problem-chip\" data-problem-id=\"NPfqVcJiU2s\" href='#jce-judge/open/NPfqVcJiU2s' target='_self'><span>판다스 기초 - 데이터 프레임 행 이름으로 불러오기</span></a>\n",
    "8. <a class=\"jcecodle-mk jcecodle-mk__problem-chip\" data-problem-id=\"XhmHxvwG71Y\" href='#jce-judge/open/XhmHxvwG71Y' target='_self'><span>데이터 프레임 행 이름으로 불러오기 (2)</span></a>\n",
    "9. <a class=\"jcecodle-mk jcecodle-mk__problem-chip\" data-problem-id=\"cesVayS2x70\" href='#jce-judge/open/cesVayS2x70' target='_self'><span>둘째부터 넷째까지</span></a>\n",
    "10. <a class=\"jcecodle-mk jcecodle-mk__problem-chip\" data-problem-id=\"dJEltjvjDO0\" href='#jce-judge/open/dJEltjvjDO0' target='_self'><span>가족 정보 인덱싱 (1)</span></a>\n",
    "11. <a class=\"jcecodle-mk jcecodle-mk__problem-chip\" data-problem-id=\"V51LDQ08Vqk\" href='#jce-judge/open/V51LDQ08Vqk' target='_self'><span>판다스 기초 - 데이터프레임 2차원 인덱싱 (3)</span></a>\n",
    "12. <a class=\"jcecodle-mk jcecodle-mk__problem-chip\" data-problem-id=\"c-SZQmiXNi0\" href='#jce-judge/open/c-SZQmiXNi0' target='_self'><span>가족 정보 인덱싱 (2) </span></a>\n",
    "13. <a class=\"jcecodle-mk jcecodle-mk__problem-chip\" data-problem-id=\"Sd1hbOkQ9BA\" href='#jce-judge/open/Sd1hbOkQ9BA' target='_self'><span>데이터 통계 정보 인덱싱</span></a>\n"
   ]
  },
  {
   "cell_type": "code",
   "execution_count": null,
   "id": "d9ebc5c1-c52e-4725-95a5-60f27931c8fb",
   "metadata": {},
   "outputs": [],
   "source": [
    "# 1. 판다스 기초 5 - 데이터프레임 열 이름으로 불러오기\n",
    "import pandas as pd\n",
    "data = {'Region' : ['Korea', 'America', 'Chaina', 'Canada', 'Italy'],\n",
    "        'Sales' : [300, 200, 500, 150, 50],\n",
    "        'Amount' : [90, 80, 100, 30, 10],\n",
    "        }\n",
    "df = pd.DataFrame(data)\n",
    "\n",
    "col = input()\n",
    "print(df[col])"
   ]
  },
  {
   "cell_type": "code",
   "execution_count": null,
   "id": "a5f5c8af-9765-4a8e-8899-02adb2a217b4",
   "metadata": {},
   "outputs": [],
   "source": [
    "# 2. 탑승객 수 불러오기\n",
    "import pandas as pd\n",
    "import seaborn as sns\n",
    "df = sns.load_dataset('flights').iloc[:12]\n",
    "idx = df['month'].values\n",
    "df.index=idx\n",
    "\n",
    "print(df['passengers'])"
   ]
  },
  {
   "cell_type": "code",
   "execution_count": null,
   "id": "76725764-16a6-4372-88ac-7634b1cb5c54",
   "metadata": {},
   "outputs": [],
   "source": [
    "# 3. 지출 확인하기 (1)\n",
    "import pandas as pd\n",
    "week = ['첫째주', '둘째주', '셋째주', '넷째주']\n",
    "acc = [[5000, 10000], [50000, 30000], [20000, 40000], [50000, 100000]]\n",
    "col = ['expense','income']\n",
    "house_acc = pd.DataFrame(index=week, columns=col, data=acc)\n",
    "\n",
    "print(house_acc['expense'])"
   ]
  },
  {
   "cell_type": "code",
   "execution_count": null,
   "id": "4f417d7e-c498-4787-b16d-5b770341bd13",
   "metadata": {},
   "outputs": [],
   "source": [
    "# 4. 판다스 기초 - 데이터 프레임 열 인덱싱 (여러개)\n",
    "import pandas as pd\n",
    "df = pd.DataFrame([[0, 0, 1, 2, 3, 1, 2, 1]])\n",
    "cols = list(map(int, input().split()))\n",
    "print(df[cols])"
   ]
  },
  {
   "cell_type": "code",
   "execution_count": null,
   "id": "f2ba9f28-a049-43f5-8e2f-5c7e9e9f55a6",
   "metadata": {},
   "outputs": [],
   "source": [
    "# 5. 홀수열 불러오기\n",
    "import pandas as pd\n",
    "df = pd.DataFrame([[1, 2, 3, 4, 5, 6, 7], ['a', 'b','c', 'd', 'e', 'f', 'g']])\n",
    "\n",
    "print(df[[0, 2, 4, 6]])"
   ]
  },
  {
   "cell_type": "code",
   "execution_count": null,
   "id": "bb876d34-9b63-48d2-81ed-80cdb2676451",
   "metadata": {},
   "outputs": [],
   "source": [
    "# 6. 지출 확인하기 (2)\n",
    "import pandas as pd\n",
    "week = ['첫째주', '둘째주', '셋째주', '넷째주']\n",
    "acc = [[5000, 10000, 100000, 2000], [5000, 1000, 50000, 30000], [20000, 5000, 40000, 300000], [50000, 2000, 30000, 100000]]\n",
    "col = ['식비','교통비', '관리비', '기타비용']\n",
    "house_acc = pd.DataFrame(index=week, columns=col, data=acc)\n",
    "print(house_acc[['식비', '교통비']])"
   ]
  },
  {
   "cell_type": "code",
   "execution_count": null,
   "id": "b1ec4362-587b-421d-b015-e1dd25bd566f",
   "metadata": {},
   "outputs": [],
   "source": [
    "# 7. 판다스 기초 - 데이터 프레임 행 이름으로 불러오기\n",
    "import pandas as pd\n",
    "df = pd.DataFrame(index=list('가나다라마바사'),\n",
    "                  data= {'code': list('AABABBA'),\n",
    "                         'value': [40, 10, 70, 30, 10, 80, 40]})\n",
    "idx = input().split()\n",
    "\n",
    "print(df.loc[idx])"
   ]
  },
  {
   "cell_type": "code",
   "execution_count": null,
   "id": "fa220d2a-bdab-4d2f-880b-7e6fa9f656fd",
   "metadata": {},
   "outputs": [],
   "source": [
    "# 8. 데이터 프레임 행 이름으로 불러오기 (2)\n",
    "import pandas as pd\n",
    "import seaborn as sns\n",
    "tmp_df = sns.load_dataset('dots')\n",
    "df = tmp_df.describe(include='all')\n",
    "\n",
    "print(df.loc['min'])"
   ]
  },
  {
   "cell_type": "code",
   "execution_count": null,
   "id": "46dffe68-823c-419c-8827-c04537ddfc66",
   "metadata": {},
   "outputs": [],
   "source": [
    "# 9. 둘째부터 넷째까지\n",
    "import pandas as pd\n",
    "idols = {'뉴진스':{'첫째':'민지', '둘째':'하니', '셋째':'다니엘', '넷째':'해린', '막내':'혜인'}, \n",
    "         '르세라핌':{'첫째':'사쿠라', '둘째':'김채원', '셋째':'허윤진', '넷째':'카즈하', '막내':'은채'}, \n",
    "         'TXT':{'첫째':'연준', '둘째':'수진', '셋째':'범규', '넷째':'태현', '막내':'휴닝카이'}, \n",
    "         '셀럽파이브':{'첫째':'송은이', '둘째':'신봉선', '셋째':'김신영', '넷째':'김영희', '막내':'안영미'}}\n",
    "df = pd.DataFrame(idols)\n",
    "print(df.loc['둘째':'넷째'])"
   ]
  },
  {
   "cell_type": "code",
   "execution_count": null,
   "id": "2a61ea75-c703-4804-9f3e-a6db1660ce84",
   "metadata": {},
   "outputs": [],
   "source": [
    "# 10. 가족 정보 인덱싱 (1)\n",
    "import pandas as pd\n",
    "idx = ['할아버지', '할머니', '엄마', '아빠', '언니', '나', '남동생']\n",
    "data = {'나이':[90, 88, 50, 50, 26, 18, 16],\n",
    "       '키':[190, 150, 160, 179, 160, 165, 155],\n",
    "       '몸무게':[90, 45, 50, 80, 48, 52, 42],\n",
    "       '직업':['교사', '은행원', '사무직', '변호사', '대학생', '고등학생', '중학생']}\n",
    "family = pd.DataFrame(index=idx, data=data)\n",
    "\n",
    "print(family.loc[['할머니', '엄마', '언니', '나']])"
   ]
  },
  {
   "cell_type": "code",
   "execution_count": null,
   "id": "c9fe5443-92fa-48e8-89cb-75a1d885ab1c",
   "metadata": {},
   "outputs": [],
   "source": [
    "# 11. 판다스 기초 - 데이터 프레임 2차원 인덱싱 (2)\n",
    "import pandas as pd\n",
    "ShoppingList = pd.DataFrame(index=['apple', 'cup', 'pen', 'banana'], \n",
    "                            data={'price':[1000, 2000, 500, 4000],\n",
    "                                  'pcs': [5, 1, 3, 2], \n",
    "                                  'brand':['any', 'kakao', 'monami', 'delmont']})\n",
    "\n",
    "print(ShoppingList.loc[['apple', 'banana']][['price', 'pcs']])"
   ]
  },
  {
   "cell_type": "code",
   "execution_count": null,
   "id": "067b1df2-6dfa-4cbf-8b44-238d11f3cf73",
   "metadata": {},
   "outputs": [],
   "source": [
    "# 12. 가족 정보 인덱싱 (2)\n",
    "import pandas as pd\n",
    "idx = ['할아버지', '할머니', '엄마', '아빠', '언니', '나', '남동생']\n",
    "data = {'나이':[90, 88, 50, 50, 26, 18, 16],\n",
    "       '키':[190, 150, 160, 179, 160, 165, 155],\n",
    "       '몸무게':[90, 45, 50, 80, 48, 52, 42],\n",
    "       '직업':['교사', '은행원', '사무직', '변호사', '대학생', '고등학생', '중학생']}\n",
    "family = pd.DataFrame(index=idx, data=data)\n",
    "family\n",
    "print(family.loc[['할아버지', '아빠', '남동생']][['키', '몸무게']])"
   ]
  },
  {
   "cell_type": "code",
   "execution_count": null,
   "id": "f9108385-e33a-4c1d-8cdd-7e6db880d26b",
   "metadata": {},
   "outputs": [],
   "source": [
    "# 13. 데이터 통계 정보 인덱싱\n",
    "import pandas as pd\n",
    "import seaborn as sns\n",
    "tmp_df = sns.load_dataset('dots')\n",
    "df = tmp_df.describe(include='all')\n",
    "\n",
    "print(df.loc['mean':'min'][['time', 'firing_rate']])"
   ]
  }
 ],
 "metadata": {
  "kernelspec": {
   "display_name": "Python 3 (ipykernel)",
   "language": "python",
   "name": "python3"
  },
  "language_info": {
   "codemirror_mode": {
    "name": "ipython",
    "version": 3
   },
   "file_extension": ".py",
   "mimetype": "text/x-python",
   "name": "python",
   "nbconvert_exporter": "python",
   "pygments_lexer": "ipython3",
   "version": "3.10.10"
  }
 },
 "nbformat": 4,
 "nbformat_minor": 5
}
