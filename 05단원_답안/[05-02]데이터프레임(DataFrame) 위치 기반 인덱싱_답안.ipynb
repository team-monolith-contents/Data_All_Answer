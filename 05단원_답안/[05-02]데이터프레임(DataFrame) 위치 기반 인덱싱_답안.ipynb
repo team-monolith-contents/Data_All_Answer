{
 "cells": [
  {
   "cell_type": "markdown",
   "id": "a6958479-9312-4e7f-8cb8-b590807dc519",
   "metadata": {
    "tags": []
   },
   "source": [
    "### **💯 연습문제를 풀어봅시다**\n",
    "1. <a class=\"jcecodle-mk jcecodle-mk__problem-chip\" data-problem-id=\"xV7nHKLx08A\" href='#jce-judge/open/xV7nHKLx08A' target='_self'><span>판다스 기초 6 - 인덱스로 행 불러오기</span></a>\n",
    "2. <a class=\"jcecodle-mk jcecodle-mk__problem-chip\" data-problem-id=\"Q0bXumIP900\" href='#jce-judge/open/Q0bXumIP900' target='_self'><span>인덱스로 행 불러오기 (2)</span></a>\n",
    "3. <a class=\"jcecodle-mk jcecodle-mk__problem-chip\" data-problem-id=\"lHkUlBzXMac\" href='#jce-judge/open/lHkUlBzXMac' target='_self'><span>n개 행 불러오기</span></a>\n",
    "5. <a class=\"jcecodle-mk jcecodle-mk__problem-chip\" data-problem-id=\"jwp3nh6t6W4\" href='#jce-judge/open/jwp3nh6t6W4' target='_self'><span>거꾸로 불러오기</span></a>\n",
    "7. <a class=\"jcecodle-mk jcecodle-mk__problem-chip\" data-problem-id=\"NB1fXpsBSPM\" href='#jce-judge/open/NB1fXpsBSPM' target='_self'><span>300행 3열</span></a>\n",
    "8. <a class=\"jcecodle-mk jcecodle-mk__problem-chip\" data-problem-id=\"nITxi677FYQ\" href='#jce-judge/open/nITxi677FYQ' target='_self'><span>마지막과 첫번째 행</span></a>\n",
    "6. <a class=\"jcecodle-mk jcecodle-mk__problem-chip\" data-problem-id=\"2wUqFhadkik\" href='#jce-judge/open/2wUqFhadkik' target='_self'><span>판다스 기초 - 데이터프레임 2차원 인덱싱 (2)</span></a>"
   ]
  },
  {
   "cell_type": "code",
   "execution_count": null,
   "id": "41a3d588-1a45-4aba-9312-dbdbf6e999b5",
   "metadata": {},
   "outputs": [],
   "source": [
    "# 1. 판다스 기초 6 - 인덱스로 행 불러오기\n",
    "import pandas as pd\n",
    "data = {\n",
    "        'Name' : ['Jane', 'Hana', 'Jonghan', 'Mark', 'Irin'],\n",
    "        'Strawberry' : [100, 200, 50, 80, 20],\n",
    "        'Apple' : [90, 80, 100, 30, 10],\n",
    "        'Banana' : [10, 20, 10, 45, 60],\n",
    "        }\n",
    "\n",
    "df = pd.DataFrame(data)\n",
    "\n",
    "n = int(input())\n",
    "print(df.iloc[n])"
   ]
  },
  {
   "cell_type": "code",
   "execution_count": null,
   "id": "d4c6339f-c5ef-4f18-ad82-5498dc80c54c",
   "metadata": {},
   "outputs": [],
   "source": [
    "# 2. 인덱스로 행 불러오기 (2)\n",
    "import pandas as pd\n",
    "import seaborn as sns\n",
    "df = sns.load_dataset('dots')\n",
    "\n",
    "a = list(map(int, input().split()))\n",
    "print(df.iloc[a])"
   ]
  },
  {
   "cell_type": "code",
   "execution_count": null,
   "id": "fd871098-e842-4402-a38d-8c933d1967d3",
   "metadata": {},
   "outputs": [],
   "source": [
    "# 3. n개 행 불러오기\n",
    "import pandas as pd\n",
    "import seaborn as sns\n",
    "df = sns.load_dataset('dots')\n",
    "\n",
    "n = int(input())\n",
    "print(df.iloc[:n])"
   ]
  },
  {
   "cell_type": "code",
   "execution_count": null,
   "id": "5e6ec8dd-8ba3-4959-b7f8-75af6d5547e8",
   "metadata": {},
   "outputs": [],
   "source": [
    "# 4. 거꾸로 불러오기\n",
    "import pandas as pd\n",
    "week = ['첫째주', '둘째주', '셋째주', '넷째주']\n",
    "acc = [[5000, 10000, 100000, 2000], [5000, 1000, 50000, 30000], [20000, 5000, 40000, 300000], [50000, 2000, 30000, 100000]]\n",
    "col = ['식비','교통비', '관리비', '기타비용']\n",
    "house_acc = pd.DataFrame(index=week, columns=col, data=acc)\n",
    "\n",
    "print(house_acc.iloc[:0:-1])"
   ]
  },
  {
   "cell_type": "code",
   "execution_count": null,
   "id": "2e4fa097-7eb2-4ae1-b68d-4d6a669cdf0b",
   "metadata": {},
   "outputs": [],
   "source": [
    "# 5. 300행 3열\n",
    "import pandas as pd\n",
    "import seaborn as sns\n",
    "df = sns.load_dataset('penguins')\n",
    "print(df.iloc[299, 2])"
   ]
  },
  {
   "cell_type": "code",
   "execution_count": null,
   "id": "4ba4b9b9-e2d7-4d34-885d-f1618f42084b",
   "metadata": {},
   "outputs": [],
   "source": [
    "# 6. 마지막과 첫번째 행 \n",
    "import pandas as pd\n",
    "import seaborn as sns\n",
    "df = sns.load_dataset('anagrams')\n",
    "print(df.iloc[[-1, 0]])"
   ]
  },
  {
   "cell_type": "code",
   "execution_count": null,
   "id": "4052cdb2-e84f-4407-aac5-55aaa6d97c34",
   "metadata": {},
   "outputs": [],
   "source": [
    "# 7. 판다스 기초 - 데이터프레임 2차원 인덱싱 (2)\n",
    "import pandas as pd\n",
    "df = pd.DataFrame([[0, 1, 0, 1], [0, 1, 0, 1], [0, 0, 0, 0], [0, 1, 0, 1]])\n",
    "\n",
    "a = list(map(int, input().split()))\n",
    "b = list(map(int, input().split()))\n",
    "print(df.loc[a, b])"
   ]
  }
 ],
 "metadata": {
  "kernelspec": {
   "display_name": "Python 3 (ipykernel)",
   "language": "python",
   "name": "python3"
  },
  "language_info": {
   "codemirror_mode": {
    "name": "ipython",
    "version": 3
   },
   "file_extension": ".py",
   "mimetype": "text/x-python",
   "name": "python",
   "nbconvert_exporter": "python",
   "pygments_lexer": "ipython3",
   "version": "3.10.10"
  }
 },
 "nbformat": 4,
 "nbformat_minor": 5
}
